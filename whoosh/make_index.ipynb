{
 "cells": [
  {
   "cell_type": "code",
   "execution_count": 1,
   "metadata": {},
   "outputs": [
    {
     "name": "stderr",
     "output_type": "stream",
     "text": [
      "[nltk_data] Downloading package stopwords to /Users/jonas/nltk_data...\n",
      "[nltk_data]   Package stopwords is already up-to-date!\n",
      "[nltk_data] Downloading package punkt to /Users/jonas/nltk_data...\n",
      "[nltk_data]   Package punkt is already up-to-date!\n"
     ]
    }
   ],
   "source": [
    "import os\n",
    "import sys\n",
    "sys.path.insert(0, os.path.abspath(os.path.join('..', 'src')))\n",
    "import pandas as pd\n",
    "import numpy as np\n",
    "import shutil\n",
    "'''Load models:'''\n",
    "from whoosh.index import create_in\n",
    "from whoosh.index import open_dir\n",
    "from whoosh.fields import Schema, TEXT\n",
    "from whoosh.qparser import MultifieldParser,OrGroup, query\n",
    "from whoosh import scoring\n",
    "from whoosh import highlight\n",
    "import os, os.path\n",
    "\n",
    "import clean_dataset as clean"
   ]
  },
  {
   "cell_type": "code",
   "execution_count": 2,
   "metadata": {},
   "outputs": [],
   "source": [
    "df = pd.read_csv(os.path.abspath(os.path.join('..', 'data/processed/'))+\"/taxonomy_final.csv\")"
   ]
  },
  {
   "cell_type": "code",
   "execution_count": 8,
   "metadata": {},
   "outputs": [
    {
     "data": {
      "text/plain": [
       "\"This programme will contribute to the protection of the biological diversity of the Nimba Mountains Biosphere Reserve, including the World Heritage Site (officially on the list of Sites in Danger since 1992).  The proposed programme will rely on integrated ecosystem management through participatory approaches according to the philosophy of a biosphere reserve in which conservation of globally important biodiversity, and landscape-level sustainable use of natural resources and sustainable development are harmonised. The programme will enhance mainstreaming of biodiversity conservation into local and national level sustainable development planning. The programme will also contribute to the development of a national system of protected areas. The programme consists of (I) support to the protection of three core reserve areas in the Nimba Mountains which cover a range of ecosystem types from high-altitude savannahs to montane, mid-altitude and lowland rainforest formations plus their associated aquatic environments, (II) improving agricultural intensification and revenues in the buffer zone and transition area of the Reserve (lateritic savannah, lowland rainforest, secondary bush, agricultural land), (III) promoting culturally appropriate animal husbandry and sustainable management and use of wild fauna in the buffer zone and transition area, (IV) improving local health and hygiene conditions, by promoting complementarity between 'modern' and traditional medicines, and sustainable use and management of traditional medicinal plants in the buffer zone and transition area, and (V) strengthening the management authority for the Biosphere Reserve - CEGEN - as well as inter-institutional co-ordination & planning mechanisms for CEGEN and national partners including sectoral line agencies, rural development groupings, development organisations and programmes, and the proposed iron ore mining operation.Core areas of the Nimba Mountains Biosphere Reserve protected in a manner compatible with local sustainable development needs Ecological integrity assured for the three Core Areas of the Nimba Mountains Biosphere Reserve      Sustainable land use and Agricultural revenues of local people increased on the basis of more productive practices      Local needs for animal protein more fully met using practices that do not damage wildlife      Improved health conditions, in particular among the neighbouring villages subject to constraints from the Reserve      Strengthened capacity of the Reserve's management structures, mainstreaming of biodiversity conservation, and contribution to national protected area system        1.  Removal of the Nimba Mountains from the List of World Heritage Sites in Danger by end of programme. 2. METT score increased 3. Average income in the buffer zone increased 4. Forest cover restored or actively recovering (viz. Déré Forest) in degraded parts of core areas 5. Populations of key indicator species stabilised and increased. 6. Average revenues of farmers increased in real terms. 7. Stabilization of the area cultivated by the same villages by end of project 8.Reduced incidence of kwashiorkor by 30% in 15 beneficiary villages by end of project 9. Species indicating over-hunting increasing in their natural habitats (monkeys, antelopes, large birds) by end of project 10. Mortality rate for children under 5 years reduced by 20% in at least 15 Mount Nimba Biosphere Reserve (NMBR) villages (measured at the level of the population and not at health centers) by end of project 11. Independent evaluations (2 mid-term evaluations and 1 final evaluation) find that CEGEN is effectively managing the programme 12. No activity is undertaken that works against the objectives of the Mount Nimba Biosphere Reserve (NMBR) and the NMBR development master-plan by end of project\""
      ]
     },
     "execution_count": 8,
     "metadata": {},
     "output_type": "execute_result"
    }
   ],
   "source": [
    "df.all_text.iloc[0]"
   ]
  },
  {
   "cell_type": "code",
   "execution_count": 4,
   "metadata": {},
   "outputs": [],
   "source": [
    "'''create directory to save whoosh indeces:'''\n",
    "if os.path.exists(os.path.abspath(os.path.join('/whoosh'))):\n",
    "    shutil.rmtree(os.path.abspath(os.path.join('whoosh')))\n",
    "os.mkdir(os.path.abspath(os.path.join('whoosh')))\n",
    "\n",
    "schema = Schema(PIMS_ID=TEXT(stored=True), \n",
    "                leading_country=TEXT(stored=True), \n",
    "                title=TEXT(stored=True),\n",
    "                grant_amount =TEXT(stored=True),\n",
    "                all_text=TEXT(stored=True) ,\n",
    "                all_text_clean=TEXT(stored=True), \n",
    "                all_text_clean_spacy=TEXT(stored=True))\n",
    "\n",
    "ix = create_in(os.path.abspath(os.path.join('whoosh')), schema)\n",
    "writer = ix.writer()\n",
    "\n",
    "for i in df.index:                                         \n",
    "    writer.add_document(PIMS_ID = str(df.loc[i,\"PIMS_ID\"]), \n",
    "                      leading_country = str(df.loc[i, \"leading_country\"]),\n",
    "                      title = str(df.loc[i, \"title\"]),\n",
    "                        grant_amount = str(df.loc[i, \"grant_amount\"]),\n",
    "                      all_text = str(df.loc[i, \"all_text\"]),\n",
    "                      all_text_clean = str(df.loc[i, \"all_text_clean\"]),\n",
    "                       all_text_clean_spacy = str(df.loc[i, \"all_text_clean_spacy\"])) \n",
    "writer.commit()"
   ]
  },
  {
   "cell_type": "code",
   "execution_count": 5,
   "metadata": {},
   "outputs": [],
   "source": [
    "from whoosh.index import open_dir\n",
    "ix = open_dir(os.path.abspath(os.path.join('whoosh')))"
   ]
  },
  {
   "cell_type": "code",
   "execution_count": 6,
   "metadata": {},
   "outputs": [],
   "source": [
    "'''Set parameters and variables for search:'''\n",
    "question = 'chemical and waste'\n",
    "#question = 'How much was the chemical sector in Vietnam growing for the period 1990 – 2004?'\n",
    "#question = 'In what substances are higher levels of chemicals of concern found?'\n",
    "\n",
    "\n",
    "weighting_type = scoring.BM25F()\n",
    "fields = ['all_text_clean']\n",
    "#allow_q = query.Term(\"Lead_Country\", \"Vietnam\")\n",
    "og = OrGroup.factory(0.9) #bonus scaler\n",
    "\n",
    "'''Parse Search:'''\n",
    "parser = MultifieldParser(fields, ix.schema, group = og)\n",
    "q = parser.parse(question)"
   ]
  },
  {
   "cell_type": "code",
   "execution_count": 8,
   "metadata": {
    "scrolled": false
   },
   "outputs": [
    {
     "name": "stdout",
     "output_type": "stream",
     "text": [
      "--------------------------\n",
      "Question: chemical and waste\n",
      "--------------------------\n",
      "--------------------------\n",
      "Search Results for most relevant document - searched in ['all_text_clean'] :\n",
      "-------------\n",
      "document: 4905 Elimination of Obsolete Pesticide Stockpiles and addressing POPs Contaminated Sites within a Sound Chemicals Management Framework in Armenia\n",
      "-------------\n",
      "document: 5706 National Programme for the environmental Sound Management and Life cycle management of Chemical substances\n",
      "-------------\n",
      "document: 5361 Sound Chemicals Management Mainstreaming and UPOPs reduction in Kenya\n",
      "-------------\n",
      "document: 5481 Reducing UPOPs and mercury releases from healthcare waste management, e-waste treatment, scrap processing and biomass burning.\n",
      "-------------\n",
      "document: 5188 Asuncion Green City of the Americas  Pathways to Sustainability\n",
      "-------------\n",
      "document: 4600 Comprehensive Reduction And Elimination Of  Persistent  Organic  Pollutants In Pakistan\n",
      "-------------\n",
      "document: 4833 POPs Legacy Elimination and POPs Release Reduction Project\n",
      "-------------\n",
      "document: 4686 Sound Management of POPs Containing Waste\n",
      "-------------\n",
      "document: 5615 Environmentally Sound Management of Products and Wastes Containing POPs and Risks Associated with their Final Disposal\n",
      "-------------\n",
      "document: 5908 Capacity building for PCBs and U-POPs in The Gambia\n"
     ]
    }
   ],
   "source": [
    "pims = []\n",
    "title = []\n",
    "with ix.searcher(weighting = weighting_type) as s:\n",
    "  results = s.search(q, limit = 10)\n",
    "  results.fragmenter = highlight.SentenceFragmenter()\n",
    "  results.formatter = highlight.UppercaseFormatter()\n",
    "  print('--------------------------')\n",
    "  print('Question:', question)\n",
    "  print('--------------------------')\n",
    "  print('--------------------------')\n",
    "  print(\"Search Results for most relevant document - searched in\", fields, \":\")\n",
    "  for res in results:\n",
    "    pims.append(res['PIMS_ID'])\n",
    "    title.append(res['title'])\n",
    "    print('-------------')\n",
    "    print('document:', res['PIMS_ID'], res['title'])\n",
    "summary = dict(zip(pims, title))\n",
    "summary = pd.DataFrame(summary.items(), columns=['PIMS_ID', 'title'])"
   ]
  },
  {
   "cell_type": "markdown",
   "metadata": {},
   "source": [
    "## make splitted index"
   ]
  },
  {
   "cell_type": "code",
   "execution_count": 3,
   "metadata": {},
   "outputs": [],
   "source": [
    "splitted = clean.split_at_length(df, 'all_text_clean', 500)"
   ]
  },
  {
   "cell_type": "code",
   "execution_count": 4,
   "metadata": {},
   "outputs": [
    {
     "data": {
      "text/html": [
       "<div>\n",
       "<style scoped>\n",
       "    .dataframe tbody tr th:only-of-type {\n",
       "        vertical-align: middle;\n",
       "    }\n",
       "\n",
       "    .dataframe tbody tr th {\n",
       "        vertical-align: top;\n",
       "    }\n",
       "\n",
       "    .dataframe thead th {\n",
       "        text-align: right;\n",
       "    }\n",
       "</style>\n",
       "<table border=\"1\" class=\"dataframe\">\n",
       "  <thead>\n",
       "    <tr style=\"text-align: right;\">\n",
       "      <th></th>\n",
       "      <th>text</th>\n",
       "      <th>PIMS_ID</th>\n",
       "    </tr>\n",
       "  </thead>\n",
       "  <tbody>\n",
       "    <tr>\n",
       "      <th>0</th>\n",
       "      <td>this programme will contribute to the protecti...</td>\n",
       "      <td>1584</td>\n",
       "    </tr>\n",
       "    <tr>\n",
       "      <th>1</th>\n",
       "      <td>harmonised the programme will enhance mainstre...</td>\n",
       "      <td>1584</td>\n",
       "    </tr>\n",
       "    <tr>\n",
       "      <th>2</th>\n",
       "      <td>environments ii improving agricultural intensi...</td>\n",
       "      <td>1584</td>\n",
       "    </tr>\n",
       "    <tr>\n",
       "      <th>3</th>\n",
       "      <td>traditional medicinal plants in the buffer zon...</td>\n",
       "      <td>1584</td>\n",
       "    </tr>\n",
       "    <tr>\n",
       "      <th>4</th>\n",
       "      <td>development needs ecological integrity assured...</td>\n",
       "      <td>1584</td>\n",
       "    </tr>\n",
       "    <tr>\n",
       "      <th>...</th>\n",
       "      <td>...</td>\n",
       "      <td>...</td>\n",
       "    </tr>\n",
       "    <tr>\n",
       "      <th>5578</th>\n",
       "      <td>the project will provide technical assistance ...</td>\n",
       "      <td>6520</td>\n",
       "    </tr>\n",
       "    <tr>\n",
       "      <th>5579</th>\n",
       "      <td>sector engagement and fice d the programme wil...</td>\n",
       "      <td>6520</td>\n",
       "    </tr>\n",
       "    <tr>\n",
       "      <th>5580</th>\n",
       "      <td>the objective of the partnership initiative is...</td>\n",
       "      <td>6532</td>\n",
       "    </tr>\n",
       "    <tr>\n",
       "      <th>5581</th>\n",
       "      <td>the period of</td>\n",
       "      <td>6532</td>\n",
       "    </tr>\n",
       "    <tr>\n",
       "      <th>5582</th>\n",
       "      <td>in order to make progress on the articulation ...</td>\n",
       "      <td>6533</td>\n",
       "    </tr>\n",
       "  </tbody>\n",
       "</table>\n",
       "<p>5583 rows × 2 columns</p>\n",
       "</div>"
      ],
      "text/plain": [
       "                                                   text  PIMS_ID\n",
       "0     this programme will contribute to the protecti...     1584\n",
       "1     harmonised the programme will enhance mainstre...     1584\n",
       "2     environments ii improving agricultural intensi...     1584\n",
       "3     traditional medicinal plants in the buffer zon...     1584\n",
       "4     development needs ecological integrity assured...     1584\n",
       "...                                                 ...      ...\n",
       "5578  the project will provide technical assistance ...     6520\n",
       "5579  sector engagement and fice d the programme wil...     6520\n",
       "5580  the objective of the partnership initiative is...     6532\n",
       "5581                                      the period of     6532\n",
       "5582  in order to make progress on the articulation ...     6533\n",
       "\n",
       "[5583 rows x 2 columns]"
      ]
     },
     "execution_count": 4,
     "metadata": {},
     "output_type": "execute_result"
    }
   ],
   "source": [
    "splitted"
   ]
  },
  {
   "cell_type": "code",
   "execution_count": 11,
   "metadata": {},
   "outputs": [],
   "source": [
    "'''create directory to save whoosh indeces:'''\n",
    "if os.path.exists(os.path.abspath(os.path.join('/split'))):\n",
    "    shutil.rmtree(os.path.abspath(os.path.join('split')))\n",
    "os.mkdir(os.path.abspath(os.path.join('split')))\n",
    "\n",
    "schema = Schema(PIMS_ID=TEXT(stored=True), \n",
    "                #leading_country=TEXT(stored=True), \n",
    "                #title=TEXT(stored=True),\n",
    "                #grant_amount =TEXT(stored=True),\n",
    "                text=TEXT(stored=True) ,\n",
    "                #all_text_clean=TEXT(stored=True), \n",
    "                #all_text_clean_spacy=TEXT(stored=True)\n",
    "               )\n",
    "\n",
    "ix = create_in(os.path.abspath(os.path.join('split')), schema)\n",
    "writer = ix.writer()\n",
    "\n",
    "for i in df.index:                                         \n",
    "    writer.add_document(PIMS_ID = str(splitted.loc[i,\"PIMS_ID\"]), \n",
    "                      #leading_country = str(df.loc[i, \"leading_country\"]),\n",
    "                      #title = str(df.loc[i, \"title\"]),\n",
    "                        #grant_amount = str(df.loc[i, \"grant_amount\"]),\n",
    "                      text = str(splitted.loc[i, \"text\"]),\n",
    "                      #all_text_clean = str(df.loc[i, \"all_text_clean\"]),\n",
    "                       #all_text_clean_spacy = str(df.loc[i, \"all_text_clean_spacy\"])\n",
    "                       ) \n",
    "writer.commit()"
   ]
  },
  {
   "cell_type": "code",
   "execution_count": null,
   "metadata": {},
   "outputs": [],
   "source": []
  }
 ],
 "metadata": {
  "kernelspec": {
   "display_name": "Python 3",
   "language": "python",
   "name": "python3"
  },
  "language_info": {
   "codemirror_mode": {
    "name": "ipython",
    "version": 3
   },
   "file_extension": ".py",
   "mimetype": "text/x-python",
   "name": "python",
   "nbconvert_exporter": "python",
   "pygments_lexer": "ipython3",
   "version": "3.7.9"
  }
 },
 "nbformat": 4,
 "nbformat_minor": 4
}
