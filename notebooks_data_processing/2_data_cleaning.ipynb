{
 "cells": [
  {
   "cell_type": "code",
   "execution_count": 1,
   "metadata": {},
   "outputs": [
    {
     "name": "stderr",
     "output_type": "stream",
     "text": [
      "[nltk_data] Downloading package stopwords to C:\\Users\\Jonas\n",
      "[nltk_data]     Nothnagel\\AppData\\Roaming\\nltk_data...\n",
      "[nltk_data]   Package stopwords is already up-to-date!\n",
      "[nltk_data] Downloading package punkt to C:\\Users\\Jonas\n",
      "[nltk_data]     Nothnagel\\AppData\\Roaming\\nltk_data...\n",
      "[nltk_data]   Package punkt is already up-to-date!\n",
      "[nltk_data] Downloading package stopwords to C:\\Users\\Jonas\n",
      "[nltk_data]     Nothnagel\\AppData\\Roaming\\nltk_data...\n",
      "[nltk_data]   Package stopwords is already up-to-date!\n",
      "[nltk_data] Downloading package punkt to C:\\Users\\Jonas\n",
      "[nltk_data]     Nothnagel\\AppData\\Roaming\\nltk_data...\n",
      "[nltk_data]   Package punkt is already up-to-date!\n"
     ]
    }
   ],
   "source": [
    "import pandas as pd\n",
    "import pickle\n",
    "\n",
    "import os\n",
    "import sys\n",
    "sys.path.insert(0, os.path.abspath(os.path.join('..', 'src')))\n",
    "\n",
    "#helper functions\n",
    "import clean_dataset as clean\n",
    "\n",
    "import make_dataset as mk"
   ]
  },
  {
   "cell_type": "code",
   "execution_count": 2,
   "metadata": {},
   "outputs": [],
   "source": [
    "taxonomy_filtered = pd.read_excel(os.path.abspath(os.path.join('..', 'data/interim'))+'/taxonomy_filtered.xlsx')    "
   ]
  },
  {
   "cell_type": "code",
   "execution_count": 5,
   "metadata": {},
   "outputs": [
    {
     "data": {
      "text/plain": [
       "0                               Nimba PRODOC 03nov04.doc\n",
       "1      https://undpgefpims.org/attachments/1878/21170...\n",
       "2                          ABI PRO DOC AMENDED 28 03.doc\n",
       "3      PRODOC (for signature)_2047 Niger Delta Conser...\n",
       "4               CAPEBiodiversityProDoclatest04052004.doc\n",
       "                             ...                        \n",
       "599                                               folder\n",
       "600             SGP OP6 ProDoc Final _February 2016_.pdf\n",
       "601                                                  NaN\n",
       "602    GCF India II - IP cover letter and proposal_re...\n",
       "603    PIMS 6543 Uruguay PRODOC BUR4 y 6CN 03-7-20 fo...\n",
       "Name: prodoc_link, Length: 604, dtype: object"
      ]
     },
     "execution_count": 5,
     "metadata": {},
     "output_type": "execute_result"
    }
   ],
   "source": [
    "taxonomy_filtered.prodoc_link"
   ]
  },
  {
   "cell_type": "code",
   "execution_count": null,
   "metadata": {},
   "outputs": [],
   "source": [
    "'''translate non-english logframes'''\n",
    "\n",
    "'''translate remaining french entries'''\n",
    "taxonomy_filtered = clean.detect_lang(taxonomy_filtered, \"all_text\", \"fr\", \n",
    "                                      printing =True, translate = True, remove = False)\n",
    "\n",
    "'''translate remaining spanish entries'''\n",
    "taxonomy_filtered = clean.detect_lang(taxonomy_filtered, \"all_text\", \"es\", \n",
    "                                      printing =True, translate = True, remove = False)"
   ]
  },
  {
   "cell_type": "code",
   "execution_count": 9,
   "metadata": {},
   "outputs": [
    {
     "name": "stdout",
     "output_type": "stream",
     "text": [
      "all_text_clean\n",
      "all_text_clean_spacy\n"
     ]
    }
   ],
   "source": [
    "\"\"\"clean text\"\"\"\n",
    "\n",
    "columns_to_clean = ['all_text']\n",
    "\n",
    "for column in columns_to_clean:\n",
    "    taxonomy_filtered[column] = taxonomy_filtered[column].astype(str)\n",
    "    \n",
    "    #basic cleaning\n",
    "    new = column + \"_clean\"\n",
    "    print(new)\n",
    "    taxonomy_filtered[new] = taxonomy_filtered[column].apply(clean.basic)\n",
    "    \n",
    "    #lemmatise and stemming + basic cleaning\n",
    "    new_spacy = column + \"_clean_spacy\"\n",
    "    print(new_spacy)\n",
    "    taxonomy_filtered[new_spacy] = taxonomy_filtered[column].apply(clean.spacy_clean)"
   ]
  },
  {
   "cell_type": "code",
   "execution_count": 17,
   "metadata": {},
   "outputs": [],
   "source": [
    "\"\"\"detect and remove short texts\"\"\"\n",
    "\n",
    "taxonomy_filtered = mk.truncate(taxonomy_filtered, 300, save=False, printing =True)"
   ]
  },
  {
   "cell_type": "code",
   "execution_count": 18,
   "metadata": {},
   "outputs": [
    {
     "name": "stderr",
     "output_type": "stream",
     "text": [
      "<ipython-input-18-72ae6c8be39c>:4: FutureWarning: The default value of regex will change from True to False in a future version. In addition, single character regular expressions will*not* be treated as literal strings when regex=True.\n",
      "  taxonomy_filtered.columns = taxonomy_filtered.columns.str.replace(\"*\", \"_\")\n"
     ]
    }
   ],
   "source": [
    "'''clean columns a little:'''\n",
    "taxonomy_filtered.columns = taxonomy_filtered.columns.str.replace(\"-\", \"_\")\n",
    "taxonomy_filtered.columns = taxonomy_filtered.columns.str.replace(\"__\", \"_\")\n",
    "taxonomy_filtered.columns = taxonomy_filtered.columns.str.replace(\"*\", \"_\")"
   ]
  },
  {
   "cell_type": "code",
   "execution_count": 19,
   "metadata": {},
   "outputs": [],
   "source": [
    "taxonomy_filtered.to_excel(os.path.abspath(os.path.join('..', 'data/processed'))+'/taxonomy_clean.xlsx', index=False)"
   ]
  }
 ],
 "metadata": {
  "kernelspec": {
   "display_name": "Python 3",
   "language": "python",
   "name": "python3"
  },
  "language_info": {
   "codemirror_mode": {
    "name": "ipython",
    "version": 3
   },
   "file_extension": ".py",
   "mimetype": "text/x-python",
   "name": "python",
   "nbconvert_exporter": "python",
   "pygments_lexer": "ipython3",
   "version": "3.8.5"
  }
 },
 "nbformat": 4,
 "nbformat_minor": 4
}
