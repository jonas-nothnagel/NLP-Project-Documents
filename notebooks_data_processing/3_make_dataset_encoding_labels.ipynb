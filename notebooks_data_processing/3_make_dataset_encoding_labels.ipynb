{
 "cells": [
  {
   "cell_type": "code",
   "execution_count": 3,
   "metadata": {},
   "outputs": [
    {
     "name": "stderr",
     "output_type": "stream",
     "text": [
      "[nltk_data] Downloading package stopwords to C:\\Users\\Jonas\n",
      "[nltk_data]     Nothnagel\\AppData\\Roaming\\nltk_data...\n",
      "[nltk_data]   Package stopwords is already up-to-date!\n",
      "[nltk_data] Downloading package punkt to C:\\Users\\Jonas\n",
      "[nltk_data]     Nothnagel\\AppData\\Roaming\\nltk_data...\n",
      "[nltk_data]   Package punkt is already up-to-date!\n"
     ]
    }
   ],
   "source": [
    "import os\n",
    "import sys\n",
    "sys.path.insert(0, os.path.abspath(os.path.join('..', 'src')))\n",
    "import pandas as pd\n",
    "import spacy\n",
    "import make_dataset as mk\n",
    "import pickle"
   ]
  },
  {
   "cell_type": "code",
   "execution_count": 3,
   "metadata": {},
   "outputs": [
    {
     "data": {
      "text/plain": [
       "Index(['PIMS_ID', 'title', 'leading_country', 'participating_countries',\n",
       "       'technical_team', 'cross_cutting_programme_1', 'technical_area_1',\n",
       "       'technical_sub_area_1', 'cross_cutting_programme_2', 'technical_area_2',\n",
       "       'technical_sub_area_2', 'transformed_sectors', 'landscapes_1',\n",
       "       'sub_landscapes_1', 'landscapes_2', 'sub_landscapes_2', 'landscapes_3',\n",
       "       'sub_landscapes_3', 'sdg_targets_(top_three)', 'sdg_goal_summary',\n",
       "       'undp_roles', 'main_strategy_1', 'sub_strategy_1', 'main_strategy_2',\n",
       "       'sub_strategy_2', 'main_strategy_3', 'sub_strategy_3', 'pathways',\n",
       "       'targeted_risks', '_conventions/protocols/plans',\n",
       "       '_social_inclusion_&_engagement', '_gender_equality',\n",
       "       '_types_of_private_sector', '_hot_topics', 'other_notes', 'keyword',\n",
       "       'sgp_type', 'facs_transformative_pathway_(old_tp)', 'gres',\n",
       "       'project_sector', 'focal_area', 'prodoc_link', 'source_of_fund',\n",
       "       'grant_amount', 'amount_leveraged', 'implementing_partner',\n",
       "       'joint_agencies', 'region', 'project_status', 'project_status_0115',\n",
       "       'story_links', 'Indicator', 'objectives', 'description', 'outcomes',\n",
       "       'outputs', 'logframe', 'log_des', 'all_text', 'pims_description',\n",
       "       'full_obj_or_outcome', 'pims_objectives', 'pims_outcomes', 'pims_text',\n",
       "       'title_only', 'all_text_clean', 'all_text_clean_spacy'],\n",
       "      dtype='object')"
      ]
     },
     "execution_count": 3,
     "metadata": {},
     "output_type": "execute_result"
    }
   ],
   "source": [
    "'''import data'''\n",
    "taxonomy = pd.read_excel(os.path.abspath(os.path.join('..', 'data/processed'))+'/taxonomy_clean.xlsx')\n",
    "\n",
    "taxonomy.columns"
   ]
  },
  {
   "cell_type": "markdown",
   "metadata": {},
   "source": [
    "## Clean up labels for the highest priorty categories:"
   ]
  },
  {
   "cell_type": "code",
   "execution_count": 4,
   "metadata": {},
   "outputs": [],
   "source": [
    "'''Clean labels for social inclusion & engagement'''\n",
    "\n",
    "taxonomy['_social_inclusion_&_engagement'] = taxonomy['_social_inclusion_&_engagement'].str.replace('Indigenous peoples', 'Indigenous')\n",
    "taxonomy['_social_inclusion_&_engagement'] = taxonomy['_social_inclusion_&_engagement'].str.replace('Indigenous', 'Indigenous peoples')\n",
    "taxonomy['_social_inclusion_&_engagement'] = taxonomy['_social_inclusion_&_engagement'].str.replace('Waste pickers', 'Waste Picker')\n",
    "\n",
    "taxonomy['_social_inclusion_&_engagement'] = taxonomy['_social_inclusion_&_engagement'].str.replace('\\nWomen\\n', 'Women')\n"
   ]
  },
  {
   "cell_type": "code",
   "execution_count": 5,
   "metadata": {},
   "outputs": [],
   "source": [
    "'''Clean labels for hot topics'''\n",
    "# one to clean - only Unnamed: 4 remains a mystery.\n",
    "taxonomy['_hot_topics'] = taxonomy['_hot_topics'].str.replace('Reduce poverty', 'Poverty Reduction')\n",
    "                                  "
   ]
  },
  {
   "cell_type": "code",
   "execution_count": 6,
   "metadata": {},
   "outputs": [
    {
     "name": "stdout",
     "output_type": "stream",
     "text": [
      "technical_team\n",
      "cross_cutting_programme_1\n",
      "technical_area_1\n",
      "technical_sub_area_1\n",
      "cross_cutting_programme_2\n",
      "technical_area_2\n",
      "technical_sub_area_2\n",
      "transformed_sectors\n",
      "landscapes_1\n",
      "sub_landscapes_1\n",
      "landscapes_2\n",
      "sub_landscapes_2\n",
      "landscapes_3\n",
      "sub_landscapes_3\n",
      "undp_roles\n",
      "main_strategy_1\n",
      "sub_strategy_1\n",
      "main_strategy_2\n",
      "sub_strategy_2\n",
      "main_strategy_3\n",
      "sub_strategy_3\n",
      "pathways\n",
      "targeted_risks\n",
      "_conventions_protocols_plans\n",
      "_social_inclusion___engagement\n",
      "_gender_equality\n",
      "_types_of_private_sector\n",
      "_hot_topics\n"
     ]
    }
   ],
   "source": [
    "df3, df2, tt = mk.labeling_encoding(taxonomy, [ 'technical_team', 'cross_cutting_programme_1', 'technical_area_1',\n",
    "       'technical_sub_area_1', 'cross_cutting_programme_2', 'technical_area_2',\n",
    "       'technical_sub_area_2', 'transformed_sectors',\n",
    "       'landscapes_1', 'sub_landscapes_1', 'landscapes_2', 'sub_landscapes_2',\n",
    "       'landscapes_3', 'sub_landscapes_3', 'undp_roles',\n",
    "       'main_strategy_1', 'sub_strategy_1', 'main_strategy_2', 'sub_strategy_2',\n",
    "       'main_strategy_3', 'sub_strategy_3', 'pathways', 'targeted_risks',\n",
    "       '_conventions/protocols/plans', '_social_inclusion_&_engagement',\n",
    "       '_gender_equality', '_types_of_private_sector', '_hot_topics'], save = True)"
   ]
  },
  {
   "cell_type": "markdown",
   "metadata": {},
   "source": [
    "## Merged strategies"
   ]
  },
  {
   "cell_type": "code",
   "execution_count": 4,
   "metadata": {},
   "outputs": [],
   "source": [
    "'''import data'''\n",
    "strategy = pd.read_excel(os.path.abspath(os.path.join('..', 'data/raw'))+'/merged_tagging_table_v1.xlsx')\n",
    "strategy = strategy[['PIMS #', 'MAIN STRATEGY 1', 'First.8','Second.8','Third.8','Rest.7','MAIN STRATEGY 2','First.9',\n",
    "                     'Second.9','Third.9','Rest.8','MAIN STRATEGY 3','First.10','Second.10','Third.10','Rest.9']]"
   ]
  },
  {
   "cell_type": "code",
   "execution_count": 5,
   "metadata": {},
   "outputs": [
    {
     "name": "stdout",
     "output_type": "stream",
     "text": [
      "main_strategy_1\n",
      "first_8\n",
      "second_8\n",
      "third_8\n",
      "rest_7\n",
      "main_strategy_2\n",
      "first_9\n",
      "second_9\n",
      "third_9\n",
      "rest_8\n",
      "main_strategy_3\n",
      "first_10\n",
      "second_10\n",
      "third_10\n",
      "rest_9\n"
     ]
    }
   ],
   "source": [
    "strategy.columns = strategy.columns.str.replace(' ', '_').str.lower()\n",
    "strategy = strategy.rename(columns={\"pims_#\": \"PIMS_ID\"})\n",
    "strategy = strategy[strategy['PIMS_ID'].notna()]\n",
    "strategy = strategy[strategy['main_strategy_1'].notna()]\n",
    "strategy = strategy.fillna('')\n",
    "\n",
    "df3, df2, tt = mk.labeling_encoding(strategy, ['main_strategy_1', 'first.8', 'second.8', 'third.8',\n",
    "       'rest.7', 'main_strategy_2', 'first.9', 'second.9', 'third.9', 'rest.8',\n",
    "       'main_strategy_3', 'first.10', 'second.10', 'third.10', 'rest.9'], save = True)"
   ]
  },
  {
   "cell_type": "code",
   "execution_count": null,
   "metadata": {},
   "outputs": [],
   "source": []
  }
 ],
 "metadata": {
  "kernelspec": {
   "display_name": "Python 3",
   "language": "python",
   "name": "python3"
  },
  "language_info": {
   "codemirror_mode": {
    "name": "ipython",
    "version": 3
   },
   "file_extension": ".py",
   "mimetype": "text/x-python",
   "name": "python",
   "nbconvert_exporter": "python",
   "pygments_lexer": "ipython3",
   "version": "3.8.5"
  }
 },
 "nbformat": 4,
 "nbformat_minor": 4
}
