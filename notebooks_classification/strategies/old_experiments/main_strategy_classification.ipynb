{
 "cells": [
  {
   "cell_type": "code",
   "execution_count": 43,
   "metadata": {},
   "outputs": [],
   "source": [
    "import os\n",
    "import sys\n",
    "sys.path.insert(0, os.path.abspath(os.path.join('../..', 'src')))\n",
    "sys.setrecursionlimit(20500)\n",
    "import pandas as pd\n",
    "import spacy\n",
    "\n",
    "import matplotlib.pyplot as plt\n",
    "import clean_dataset as clean\n",
    "import make_dataset as mk\n",
    "import vectorize_embed as em\n",
    "import tools as tools\n",
    "\n",
    "import pickle\n",
    "import numpy as np\n",
    "\n",
    "'''features'''\n",
    "from sklearn.preprocessing import LabelEncoder\n",
    "from sklearn.model_selection import train_test_split\n",
    "from sklearn.feature_extraction.text import TfidfVectorizer\n",
    "from sklearn.decomposition import TruncatedSVD\n",
    "from sklearn.preprocessing import label_binarize\n",
    "\n",
    "'''Classifiers'''\n",
    "from sklearn.dummy import DummyClassifier\n",
    "from sklearn.linear_model import SGDClassifier\n",
    "from sklearn.naive_bayes import GaussianNB\n",
    "from sklearn.tree import DecisionTreeClassifier\n",
    "from sklearn.ensemble import RandomForestClassifier, AdaBoostClassifier\n",
    "from sklearn.neighbors import KNeighborsClassifier\n",
    "from sklearn.multiclass import OneVsRestClassifier\n",
    "from sklearn.linear_model import LogisticRegression\n",
    "from sklearn import svm\n",
    "from sklearn.pipeline import Pipeline\n",
    "\n",
    "'''Metrics/Evaluation'''\n",
    "from sklearn.model_selection import GridSearchCV\n",
    "from sklearn.metrics import accuracy_score, precision_score, recall_score, f1_score, roc_curve, auc, confusion_matrix\n",
    "from scipy import interp\n",
    "from itertools import cycle\n",
    "from sklearn.model_selection import cross_val_score\n",
    "from sklearn.metrics import classification_report\n",
    "from sklearn.pipeline import make_pipeline\n",
    "\n",
    "\n",
    "import seaborn as sns"
   ]
  },
  {
   "cell_type": "code",
   "execution_count": 44,
   "metadata": {},
   "outputs": [
    {
     "data": {
      "text/plain": [
       "(600, 17)"
      ]
     },
     "execution_count": 44,
     "metadata": {},
     "output_type": "execute_result"
    }
   ],
   "source": [
    "'''import data'''\n",
    "\n",
    "df = pd.read_json(os.path.abspath(os.path.join('../..', 'data/processed/encoded_labels'))+'/main_strategies_all.json')  \n",
    "'''lowercase data and str type data'''\n",
    "df['all_text_clean_spacy'] = df['all_text_clean_spacy'].astype(str).apply(clean.basic)\n",
    "df['all_text_clean'] = df['all_text_clean'].astype(str)\n",
    "\n",
    "df.shape"
   ]
  },
  {
   "cell_type": "code",
   "execution_count": 46,
   "metadata": {},
   "outputs": [],
   "source": [
    "for index, row in df.iterrows():\n",
    "    \n",
    "    if type(row['PIMS_ID']) != float:\n",
    "        print(index)"
   ]
  },
  {
   "cell_type": "code",
   "execution_count": 47,
   "metadata": {},
   "outputs": [],
   "source": [
    "df_trunc = mk.truncate(df, 500, save=True)"
   ]
  },
  {
   "cell_type": "code",
   "execution_count": 48,
   "metadata": {},
   "outputs": [
    {
     "data": {
      "text/plain": [
       "Index(['PIMS_ID', 'all_text_clean', 'all_text_clean_spacy',\n",
       "       'capacity_building', 'enabling', 'finance_economy',\n",
       "       'food_and_agricultural_commodities', 'governance', 'law_regulation',\n",
       "       'management_operation', 'mitigation_adaptation', 'monitor_inventory',\n",
       "       'technology_innovation', 'category_1', 'category_2', 'category_3',\n",
       "       'labels'],\n",
       "      dtype='object')"
      ]
     },
     "execution_count": 48,
     "metadata": {},
     "output_type": "execute_result"
    }
   ],
   "source": [
    "df.columns"
   ]
  },
  {
   "cell_type": "markdown",
   "metadata": {},
   "source": [
    "## How to evaluate results:\n",
    "* Accuracy is a great measure but only when you have symmetric datasets (false negatives & false positives counts are close), also, false negatives & false positives have similar costs.\n",
    "\n",
    "* If the cost of false positives and false negatives are different then F1 is your savior. F1 is best if you have an uneven class distribution.\n",
    "\n",
    "* Precision is how sure you are of your true positives whilst recall is how sure you are that you are not missing any positives.\n",
    "\n",
    "* Choose Recall if the idea of false positives is far better than false negatives, in other words, if the occurrence of false negatives is unaccepted/intolerable, that you’d rather get some extra false positives(false alarms) over saving some false negatives, like in our diabetes example. You’d rather get some healthy people labeled diabetic over leaving a diabetic person labeled healthy.\n",
    "\n",
    "* Choose precision if you want to be more confident of your true positives. for example, Spam emails. You’d rather have some spam emails in your inbox rather than some regular emails in your spam box. So, the email company wants to be extra sure that email Y is spam before they put it in the spam box and you never get to see it.\n",
    "\n",
    "* Choose Specificity if you want to cover all true negatives, meaning you don’t want any false alarms, you don’t want any false positives. for example, you’re running a drug test in which all people who test positive will immediately go to jail, you don’t want anyone drug-free going to jail. False positives here are intolerable."
   ]
  },
  {
   "cell_type": "markdown",
   "metadata": {},
   "source": [
    "## We merge strategy 1, 2 and 3 together and \"artificially\" produces more example per category. Then we train a one-vs-rest classifier for each category independantly. In a perfect model word we could run the 10 models over unseen data and ideally tag up to 3 correct categories."
   ]
  },
  {
   "cell_type": "markdown",
   "metadata": {},
   "source": [
    "### Oumaima's implementation:"
   ]
  },
  {
   "cell_type": "code",
   "execution_count": 21,
   "metadata": {},
   "outputs": [
    {
     "data": {
      "text/html": [
       "<div>\n",
       "<style scoped>\n",
       "    .dataframe tbody tr th:only-of-type {\n",
       "        vertical-align: middle;\n",
       "    }\n",
       "\n",
       "    .dataframe tbody tr th {\n",
       "        vertical-align: top;\n",
       "    }\n",
       "\n",
       "    .dataframe thead th {\n",
       "        text-align: right;\n",
       "    }\n",
       "</style>\n",
       "<table border=\"1\" class=\"dataframe\">\n",
       "  <thead>\n",
       "    <tr style=\"text-align: right;\">\n",
       "      <th></th>\n",
       "      <th>PIMS_ID</th>\n",
       "      <th>all_text_clean</th>\n",
       "      <th>all_text_clean_spacy</th>\n",
       "      <th>capacity_building</th>\n",
       "      <th>enabling</th>\n",
       "      <th>finance_economy</th>\n",
       "      <th>food_and_agricultural_commodities</th>\n",
       "      <th>governance</th>\n",
       "      <th>law_regulation</th>\n",
       "      <th>management_operation</th>\n",
       "      <th>mitigation_adaptation</th>\n",
       "      <th>monitor_inventory</th>\n",
       "      <th>technology_innovation</th>\n",
       "      <th>category_1</th>\n",
       "      <th>category_2</th>\n",
       "      <th>category_3</th>\n",
       "      <th>labels</th>\n",
       "    </tr>\n",
       "  </thead>\n",
       "  <tbody>\n",
       "    <tr>\n",
       "      <th>5</th>\n",
       "      <td>2284.0</td>\n",
       "      <td>the egyptian government is a strong proponent ...</td>\n",
       "      <td>egyptian government strong proponent renewable...</td>\n",
       "      <td>1</td>\n",
       "      <td>0</td>\n",
       "      <td>1</td>\n",
       "      <td>1</td>\n",
       "      <td>0</td>\n",
       "      <td>0</td>\n",
       "      <td>0</td>\n",
       "      <td>0</td>\n",
       "      <td>0</td>\n",
       "      <td>0</td>\n",
       "      <td>food_and_agricultural_commodities</td>\n",
       "      <td>finance_economy</td>\n",
       "      <td>capacity_building</td>\n",
       "      <td>[1, 0, 1, 1, 0, 0, 0, 0, 0, 0]</td>\n",
       "    </tr>\n",
       "    <tr>\n",
       "      <th>7</th>\n",
       "      <td>2596.0</td>\n",
       "      <td>the overall objective of the project is to red...</td>\n",
       "      <td>overall objective project reduce environmental...</td>\n",
       "      <td>1</td>\n",
       "      <td>0</td>\n",
       "      <td>0</td>\n",
       "      <td>0</td>\n",
       "      <td>0</td>\n",
       "      <td>0</td>\n",
       "      <td>1</td>\n",
       "      <td>0</td>\n",
       "      <td>0</td>\n",
       "      <td>1</td>\n",
       "      <td>technology_innovation</td>\n",
       "      <td>management_operation</td>\n",
       "      <td>capacity_building</td>\n",
       "      <td>[1, 0, 0, 0, 0, 0, 1, 0, 0, 1]</td>\n",
       "    </tr>\n",
       "    <tr>\n",
       "      <th>8</th>\n",
       "      <td>2762.0</td>\n",
       "      <td>madagascar is recognized as one of the greates...</td>\n",
       "      <td>madagascar recognize great mega diversity hots...</td>\n",
       "      <td>0</td>\n",
       "      <td>0</td>\n",
       "      <td>0</td>\n",
       "      <td>1</td>\n",
       "      <td>0</td>\n",
       "      <td>0</td>\n",
       "      <td>1</td>\n",
       "      <td>0</td>\n",
       "      <td>1</td>\n",
       "      <td>0</td>\n",
       "      <td>management_operation</td>\n",
       "      <td>food_and_agricultural_commodities</td>\n",
       "      <td>monitor_inventory</td>\n",
       "      <td>[0, 0, 0, 1, 0, 0, 1, 0, 1, 0]</td>\n",
       "    </tr>\n",
       "    <tr>\n",
       "      <th>9</th>\n",
       "      <td>2890.0</td>\n",
       "      <td>the binational artibonite river basin has suff...</td>\n",
       "      <td>binational artibonite river basin suffer accel...</td>\n",
       "      <td>0</td>\n",
       "      <td>1</td>\n",
       "      <td>0</td>\n",
       "      <td>0</td>\n",
       "      <td>1</td>\n",
       "      <td>0</td>\n",
       "      <td>1</td>\n",
       "      <td>0</td>\n",
       "      <td>0</td>\n",
       "      <td>0</td>\n",
       "      <td>governance</td>\n",
       "      <td>management_operation</td>\n",
       "      <td>enabling</td>\n",
       "      <td>[0, 1, 0, 0, 1, 0, 1, 0, 0, 0]</td>\n",
       "    </tr>\n",
       "    <tr>\n",
       "      <th>10</th>\n",
       "      <td>3066.0</td>\n",
       "      <td>this project will address land degradation ld ...</td>\n",
       "      <td>project address land degradation ld state serg...</td>\n",
       "      <td>0</td>\n",
       "      <td>0</td>\n",
       "      <td>0</td>\n",
       "      <td>0</td>\n",
       "      <td>1</td>\n",
       "      <td>1</td>\n",
       "      <td>1</td>\n",
       "      <td>0</td>\n",
       "      <td>0</td>\n",
       "      <td>0</td>\n",
       "      <td>governance</td>\n",
       "      <td>law_regulation</td>\n",
       "      <td>management_operation</td>\n",
       "      <td>[0, 0, 0, 0, 1, 1, 1, 0, 0, 0]</td>\n",
       "    </tr>\n",
       "  </tbody>\n",
       "</table>\n",
       "</div>"
      ],
      "text/plain": [
       "    PIMS_ID                                     all_text_clean  \\\n",
       "5    2284.0  the egyptian government is a strong proponent ...   \n",
       "7    2596.0  the overall objective of the project is to red...   \n",
       "8    2762.0  madagascar is recognized as one of the greates...   \n",
       "9    2890.0  the binational artibonite river basin has suff...   \n",
       "10   3066.0  this project will address land degradation ld ...   \n",
       "\n",
       "                                 all_text_clean_spacy  capacity_building  \\\n",
       "5   egyptian government strong proponent renewable...                  1   \n",
       "7   overall objective project reduce environmental...                  1   \n",
       "8   madagascar recognize great mega diversity hots...                  0   \n",
       "9   binational artibonite river basin suffer accel...                  0   \n",
       "10  project address land degradation ld state serg...                  0   \n",
       "\n",
       "    enabling  finance_economy  food_and_agricultural_commodities  governance  \\\n",
       "5          0                1                                  1           0   \n",
       "7          0                0                                  0           0   \n",
       "8          0                0                                  1           0   \n",
       "9          1                0                                  0           1   \n",
       "10         0                0                                  0           1   \n",
       "\n",
       "    law_regulation  management_operation  mitigation_adaptation  \\\n",
       "5                0                     0                      0   \n",
       "7                0                     1                      0   \n",
       "8                0                     1                      0   \n",
       "9                0                     1                      0   \n",
       "10               1                     1                      0   \n",
       "\n",
       "    monitor_inventory  technology_innovation  \\\n",
       "5                   0                      0   \n",
       "7                   0                      1   \n",
       "8                   1                      0   \n",
       "9                   0                      0   \n",
       "10                  0                      0   \n",
       "\n",
       "                           category_1                         category_2  \\\n",
       "5   food_and_agricultural_commodities                    finance_economy   \n",
       "7               technology_innovation               management_operation   \n",
       "8                management_operation  food_and_agricultural_commodities   \n",
       "9                          governance               management_operation   \n",
       "10                         governance                     law_regulation   \n",
       "\n",
       "              category_3                          labels  \n",
       "5      capacity_building  [1, 0, 1, 1, 0, 0, 0, 0, 0, 0]  \n",
       "7      capacity_building  [1, 0, 0, 0, 0, 0, 1, 0, 0, 1]  \n",
       "8      monitor_inventory  [0, 0, 0, 1, 0, 0, 1, 0, 1, 0]  \n",
       "9               enabling  [0, 1, 0, 0, 1, 0, 1, 0, 0, 0]  \n",
       "10  management_operation  [0, 0, 0, 0, 1, 1, 1, 0, 0, 0]  "
      ]
     },
     "execution_count": 21,
     "metadata": {},
     "output_type": "execute_result"
    }
   ],
   "source": [
    "#Holding out 5 rows from the original dataframe for prediction at the end\n",
    "df_holdout = df_trunc.iloc[:5]\n",
    "\n",
    "df_trunc = df_trunc.iloc[5:]\n",
    "df_holdout"
   ]
  },
  {
   "cell_type": "code",
   "execution_count": 25,
   "metadata": {},
   "outputs": [],
   "source": [
    "#Creating the features (tf-idf weights) for the processed text\n",
    "texts = df_trunc['all_text_clean'].astype('str')\n",
    "\n",
    "tfidf_vectorizer = TfidfVectorizer(ngram_range=(1, 2), \n",
    "                                   min_df = 2, \n",
    "                                   max_df = .95)\n",
    "\n",
    "X = tfidf_vectorizer.fit_transform(texts)\n",
    "   \n",
    "\n",
    "#LE = LabelEncoder()\n",
    "#df_trunc['label_num'] = LE.fit_transform(df_trunc['capacity_building'])\n",
    "\n",
    "y = df_trunc['food_and_agricultural_commodities'].values\n",
    "\n",
    "#Dimenionality reduction. Only using the 100 best features er category\n",
    "\n",
    "lsa = TruncatedSVD(n_components=100, \n",
    "                   n_iter=10, \n",
    "                   random_state=3)\n",
    "\n",
    "X = lsa.fit_transform(X)"
   ]
  },
  {
   "cell_type": "code",
   "execution_count": 26,
   "metadata": {},
   "outputs": [
    {
     "name": "stderr",
     "output_type": "stream",
     "text": [
      "C:\\Users\\Jonas\\Anaconda3\\envs\\nce_1\\lib\\site-packages\\sklearn\\dummy.py:131: FutureWarning: The default value of strategy will change from stratified to prior in 0.24.\n",
      "  warnings.warn(\"The default value of strategy will change from \"\n"
     ]
    },
    {
     "data": {
      "text/html": [
       "<div>\n",
       "<style scoped>\n",
       "    .dataframe tbody tr th:only-of-type {\n",
       "        vertical-align: middle;\n",
       "    }\n",
       "\n",
       "    .dataframe tbody tr th {\n",
       "        vertical-align: top;\n",
       "    }\n",
       "\n",
       "    .dataframe thead th {\n",
       "        text-align: right;\n",
       "    }\n",
       "</style>\n",
       "<table border=\"1\" class=\"dataframe\">\n",
       "  <thead>\n",
       "    <tr style=\"text-align: right;\">\n",
       "      <th></th>\n",
       "      <th>model_name</th>\n",
       "      <th>accuracy_score</th>\n",
       "      <th>precision_score</th>\n",
       "      <th>recall_score</th>\n",
       "      <th>f1_score</th>\n",
       "    </tr>\n",
       "  </thead>\n",
       "  <tbody>\n",
       "    <tr>\n",
       "      <th>1</th>\n",
       "      <td>Logistic weighted Regression</td>\n",
       "      <td>0.847561</td>\n",
       "      <td>0.670857</td>\n",
       "      <td>0.719444</td>\n",
       "      <td>0.689559</td>\n",
       "    </tr>\n",
       "    <tr>\n",
       "      <th>7</th>\n",
       "      <td>Gaussian Naive Bayes</td>\n",
       "      <td>0.79878</td>\n",
       "      <td>0.638667</td>\n",
       "      <td>0.734722</td>\n",
       "      <td>0.659001</td>\n",
       "    </tr>\n",
       "    <tr>\n",
       "      <th>6</th>\n",
       "      <td>AdaBoost</td>\n",
       "      <td>0.884146</td>\n",
       "      <td>0.729391</td>\n",
       "      <td>0.611111</td>\n",
       "      <td>0.640641</td>\n",
       "    </tr>\n",
       "    <tr>\n",
       "      <th>2</th>\n",
       "      <td>Stochastic Gradient Descent</td>\n",
       "      <td>0.896341</td>\n",
       "      <td>0.849686</td>\n",
       "      <td>0.596528</td>\n",
       "      <td>0.631947</td>\n",
       "    </tr>\n",
       "    <tr>\n",
       "      <th>3</th>\n",
       "      <td>Stochastic Gradient Descent balanceed</td>\n",
       "      <td>0.786585</td>\n",
       "      <td>0.604097</td>\n",
       "      <td>0.663194</td>\n",
       "      <td>0.617716</td>\n",
       "    </tr>\n",
       "    <tr>\n",
       "      <th>5</th>\n",
       "      <td>Decsision Tree</td>\n",
       "      <td>0.810976</td>\n",
       "      <td>0.580789</td>\n",
       "      <td>0.590972</td>\n",
       "      <td>0.585149</td>\n",
       "    </tr>\n",
       "    <tr>\n",
       "      <th>8</th>\n",
       "      <td>K Nearest Neighbor</td>\n",
       "      <td>0.878049</td>\n",
       "      <td>0.696203</td>\n",
       "      <td>0.564583</td>\n",
       "      <td>0.582272</td>\n",
       "    </tr>\n",
       "    <tr>\n",
       "      <th>4</th>\n",
       "      <td>Random Forest</td>\n",
       "      <td>0.884146</td>\n",
       "      <td>0.777433</td>\n",
       "      <td>0.546528</td>\n",
       "      <td>0.555809</td>\n",
       "    </tr>\n",
       "    <tr>\n",
       "      <th>0</th>\n",
       "      <td>Dummy</td>\n",
       "      <td>0.79878</td>\n",
       "      <td>0.520327</td>\n",
       "      <td>0.519444</td>\n",
       "      <td>0.51983</td>\n",
       "    </tr>\n",
       "  </tbody>\n",
       "</table>\n",
       "</div>"
      ],
      "text/plain": [
       "                              model_name accuracy_score precision_score  \\\n",
       "1           Logistic weighted Regression       0.847561        0.670857   \n",
       "7                   Gaussian Naive Bayes        0.79878        0.638667   \n",
       "6                               AdaBoost       0.884146        0.729391   \n",
       "2            Stochastic Gradient Descent       0.896341        0.849686   \n",
       "3  Stochastic Gradient Descent balanceed       0.786585        0.604097   \n",
       "5                         Decsision Tree       0.810976        0.580789   \n",
       "8                     K Nearest Neighbor       0.878049        0.696203   \n",
       "4                          Random Forest       0.884146        0.777433   \n",
       "0                                  Dummy        0.79878        0.520327   \n",
       "\n",
       "  recall_score  f1_score  \n",
       "1     0.719444  0.689559  \n",
       "7     0.734722  0.659001  \n",
       "6     0.611111  0.640641  \n",
       "2     0.596528  0.631947  \n",
       "3     0.663194  0.617716  \n",
       "5     0.590972  0.585149  \n",
       "8     0.564583  0.582272  \n",
       "4     0.546528  0.555809  \n",
       "0     0.519444   0.51983  "
      ]
     },
     "execution_count": 26,
     "metadata": {},
     "output_type": "execute_result"
    }
   ],
   "source": [
    "#Preliminary model evaluation using default parameters\n",
    "\n",
    "#Creating a dict of the models\n",
    "model_dict = {'Dummy' : DummyClassifier(random_state=3),\n",
    "              'Logistic weighted Regression' : LogisticRegression(class_weight = \"balanced\"),\n",
    "              'Stochastic Gradient Descent' : SGDClassifier(random_state=3, loss='log'),\n",
    "              'Stochastic Gradient Descent balanceed' : SGDClassifier(random_state=3, loss='log',class_weight = \"balanced\" ),\n",
    "              'Random Forest': RandomForestClassifier(random_state=3),\n",
    "              'Decsision Tree': DecisionTreeClassifier(random_state=3),\n",
    "              'AdaBoost': AdaBoostClassifier(random_state=3),\n",
    "              'Gaussian Naive Bayes': GaussianNB(),\n",
    "              'K Nearest Neighbor': KNeighborsClassifier()}\n",
    "\n",
    "#Train test split with stratified sampling for evaluation\n",
    "X_train, X_test, y_train, y_test = train_test_split(X, \n",
    "                                                    y, \n",
    "                                                    test_size = .3, \n",
    "                                                    shuffle = True, \n",
    "                                                    stratify = y, \n",
    "                                                    random_state = 3)\n",
    "\n",
    "#Function to get the scores for each model in a df\n",
    "def model_score_df(model_dict):   \n",
    "    model_name, ac_score_list, p_score_list, r_score_list, f1_score_list = [], [], [], [], []\n",
    "    for k,v in model_dict.items():   \n",
    "        model_name.append(k)\n",
    "        v.fit(X_train, y_train)\n",
    "        y_pred = v.predict(X_test)\n",
    "        ac_score_list.append(accuracy_score(y_test, y_pred))\n",
    "        p_score_list.append(precision_score(y_test, y_pred, average='macro'))\n",
    "        r_score_list.append(recall_score(y_test, y_pred, average='macro'))\n",
    "        f1_score_list.append(f1_score(y_test, y_pred, average='macro'))\n",
    "        model_comparison_df = pd.DataFrame([model_name, ac_score_list, p_score_list, r_score_list, f1_score_list]).T\n",
    "        model_comparison_df.columns = ['model_name', 'accuracy_score', 'precision_score', 'recall_score', 'f1_score']\n",
    "        model_comparison_df = model_comparison_df.sort_values(by='f1_score', ascending=False)\n",
    "    return model_comparison_df\n",
    "\n",
    "model_score_df(model_dict)"
   ]
  },
  {
   "cell_type": "markdown",
   "metadata": {},
   "source": [
    "## Hpyereparameter Tuning:\n"
   ]
  },
  {
   "cell_type": "code",
   "execution_count": null,
   "metadata": {},
   "outputs": [],
   "source": [
    "#Gridsearch with 5-fold cross validation\n",
    "#Warning this can take a long time!!!\n",
    "\n",
    "#Logistic\n",
    "loss =  ['log']\n",
    "penalty = ['l2','l1']\n",
    "alpha = [1e-6, 1e-3, 1e-1, 1e0]\n",
    "max_iter = [100, 1000, 10000]\n",
    "tol = [None, 1e-3]\n",
    "eta0 = [0.1, 0.001]\n",
    "c = np.logspace(-4, 4, 20)\n",
    "solver =  ['liblinear ','lbfgs']\n",
    "\n",
    "random_state = [3]\n",
    "\n",
    "clf = LogisticRegression()\n",
    "\n",
    "params = dict(#loss=loss,\n",
    "              penalty=penalty,\n",
    "              #alpha=alpha,\n",
    "              max_iter=max_iter,\n",
    "              tol=tol,\n",
    "              random_state=random_state,\n",
    "              C = c,\n",
    "              solver = solver)\n",
    "\n",
    "gridsearch = GridSearchCV(clf,\n",
    "                          params,\n",
    "                          cv = 5,\n",
    "                          verbose = 1, \n",
    "                          n_jobs = -1)\n",
    "\n",
    "sgd_best_model = gridsearch.fit(X, y)\n",
    "print (gridsearch.best_params_)"
   ]
  },
  {
   "cell_type": "code",
   "execution_count": null,
   "metadata": {},
   "outputs": [],
   "source": [
    "#SDG\n",
    "loss =  ['log']\n",
    "penalty = ['l2','l1']\n",
    "alpha = [1e-6, 1e-3, 1e-1, 1e0]\n",
    "max_iter = [100, 1000, 10000]\n",
    "tol = [None, 1e-3]\n",
    "eta0 = [0.1, 0.001]\n",
    "c = np.logspace(-4, 4, 20)\n",
    "solver =  ['liblinear ','lbfgs']\n",
    "\n",
    "random_state = [3]\n",
    "\n",
    "clf = SGDClassifier()\n",
    "\n",
    "params = dict(loss=loss,\n",
    "              penalty=penalty,\n",
    "              alpha=alpha,\n",
    "              max_iter=max_iter,\n",
    "              tol=tol)\n",
    "\n",
    "gridsearch = GridSearchCV(clf,\n",
    "                          params,\n",
    "                          cv = 5,\n",
    "                          verbose = 1, \n",
    "                          n_jobs = -1)\n",
    "\n",
    "sgd_best_model = gridsearch.fit(X, y)\n",
    "print (gridsearch.best_params_)"
   ]
  },
  {
   "cell_type": "code",
   "execution_count": null,
   "metadata": {},
   "outputs": [],
   "source": [
    "sgd_best_model = SGDClassifier(alpha = 0.001,\n",
    "             loss = 'log',\n",
    "             max_iter = 100,\n",
    "             penalty = 'l2',\n",
    "             tol = 0.001)"
   ]
  },
  {
   "cell_type": "markdown",
   "metadata": {},
   "source": [
    "## Prediction on unseen data using best clf"
   ]
  },
  {
   "cell_type": "code",
   "execution_count": null,
   "metadata": {
    "scrolled": true
   },
   "outputs": [],
   "source": [
    "#Get the text of the 5 articles we held out from each of the categories in the beginning\n",
    "unseen = df_holdout['all_text_clean_spacy'].astype('str') \n",
    "\n",
    "#Use the saved models to transform the unseen text with tf-idf and lsa\n",
    "X_unseen_tfidf = tfidf_vectorizer.transform(unseen) \n",
    "X_unseen = lsa.transform(X_unseen_tfidf)\n",
    "\n",
    "#Fit the models with the best params on the full data\n",
    "clf.fit(X, y)\n",
    "\n",
    "#Make the prediction on the unseen articles with the fitted best models and put it into a df alongside the correct labels\n",
    "df_holdout['prediction'] = clf.predict(X_unseen)\n",
    "\n",
    "label_num_dict = {1: 1,\n",
    "                  0: 0}\n",
    "\n",
    "df_holdout['correct'] = df_holdout['food_and_agricultural_commodities'].map(label_num_dict)\n",
    "df_holdout_2 = pd.DataFrame(df_holdout, columns = ['all_text_clean', 'food_and_agricultural_commodities', 'prediction'])\n",
    "\n",
    "df_holdout_2"
   ]
  },
  {
   "cell_type": "markdown",
   "metadata": {},
   "source": [
    "## Logistic Regression Grid Search:"
   ]
  },
  {
   "cell_type": "code",
   "execution_count": 12,
   "metadata": {},
   "outputs": [],
   "source": [
    "def binary_log_classifier(dataframe, category):\n",
    "    X_train, X_test, y_train, y_test = train_test_split(dataframe['all_text_clean_spacy'],\n",
    "                                                        dataframe[category].values,\n",
    "                                                        test_size = .3,\n",
    "                                                        random_state = 1,\n",
    "                                                        shuffle = True)\n",
    "    print('training size:', len(X_train))\n",
    "    print('test size:', len(X_test))\n",
    "    print('distribution of tagged projects:', dataframe[category].value_counts())\n",
    "    #if weighted == True:\n",
    "        #class_weights = tools.get_class_weights(y_train)\n",
    "        #print(class_weights)\n",
    "    #else: \n",
    "        #class_weights = None\n",
    "        \n",
    "\n",
    "    '''extract features using tfidf vecorization:'''\n",
    "    vectorizer = TfidfVectorizer(ngram_range = (1,2), min_df = 0.01, max_df = 0.95)\n",
    "    vect = vectorizer.fit(X_train)\n",
    "    X_train = vect.transform(X_train)\n",
    "    X_test = vect.transform(X_test)\n",
    "    \n",
    "    \"feature reduction\"\n",
    "    #lsa = TruncatedSVD(n_components=100, \n",
    "                   #n_iter=10, \n",
    "                   #random_state=3)\n",
    "\n",
    "    #X_train = lsa.fit_transform(X_train)\n",
    "    #X_test = lsa.fit_transform(X_test)    \n",
    "    \n",
    "    \n",
    "    # set pipeline\n",
    "    pipe = Pipeline([('classifier' , LogisticRegression())])\n",
    "\n",
    "    # Create param grid.\n",
    "    param_grid = [\n",
    "        {'classifier' : [LogisticRegression(class_weight = \"balanced\")],\n",
    "         'classifier__penalty' : ['l1', 'l2'],\n",
    "        'classifier__C' : np.logspace(-4, 4, 20),\n",
    "        'classifier__solver' : ['liblinear ','lbfgs']}\n",
    "    ]\n",
    "\n",
    "    # Create grid search object\n",
    "    clf = GridSearchCV(pipe, param_grid = param_grid, cv = 5, verbose=True, n_jobs=-1, scoring = 'accuracy')\n",
    "\n",
    "    # Fit on data\n",
    "    best_clf = clf.fit(X_train, y_train)\n",
    "    print('')\n",
    "    print('Training accuracy:', best_clf.score(X_train, y_train).round(3))\n",
    "    print('Test accuracy:', best_clf.score(X_test, y_test).round(3))\n",
    "    y_hat = best_clf.predict(X_test)\n",
    "    print('recall', recall_score(y_test, y_hat))\n",
    "\n",
    "    from sklearn.metrics import classification_report\n",
    "    print(classification_report(y_test, y_hat))    \n",
    "    \n",
    "    tn, fp, fn, tp = confusion_matrix(y_test, y_hat).ravel()\n",
    "    specificity = tn / (tn+fp)\n",
    "    print('specificity is:', specificity)\n",
    "\n",
    "    return best_clf, vectorizer, y_train"
   ]
  },
  {
   "cell_type": "code",
   "execution_count": 13,
   "metadata": {},
   "outputs": [
    {
     "name": "stdout",
     "output_type": "stream",
     "text": [
      "training size: 385\n",
      "test size: 165\n",
      "distribution of tagged projects: 0    481\n",
      "1     69\n",
      "Name: food_and_agricultural_commodities, dtype: int64\n",
      "Fitting 5 folds for each of 80 candidates, totalling 400 fits\n"
     ]
    },
    {
     "name": "stderr",
     "output_type": "stream",
     "text": [
      "[Parallel(n_jobs=-1)]: Using backend LokyBackend with 8 concurrent workers.\n",
      "[Parallel(n_jobs=-1)]: Done  34 tasks      | elapsed:    2.7s\n"
     ]
    },
    {
     "name": "stdout",
     "output_type": "stream",
     "text": [
      "\n",
      "Training accuracy: 1.0\n",
      "Test accuracy: 0.879\n",
      "recall 0.15789473684210525\n",
      "              precision    recall  f1-score   support\n",
      "\n",
      "           0       0.90      0.97      0.93       146\n",
      "           1       0.43      0.16      0.23        19\n",
      "\n",
      "    accuracy                           0.88       165\n",
      "   macro avg       0.66      0.57      0.58       165\n",
      "weighted avg       0.84      0.88      0.85       165\n",
      "\n",
      "specificity is: 0.9726027397260274\n"
     ]
    },
    {
     "name": "stderr",
     "output_type": "stream",
     "text": [
      "[Parallel(n_jobs=-1)]: Done 400 out of 400 | elapsed:    3.9s finished\n"
     ]
    }
   ],
   "source": [
    "best_clf, vectorizer, y_train = binary_log_classifier(df_trunc, 'food_and_agricultural_commodities')\n",
    "\n",
    "# precision 0.33 on class 1: 33% of all items predicted as 1 are truly 1.\n",
    "# recall 0.6 on class 1: 60% of all true 1 are predicted as 1. "
   ]
  },
  {
   "cell_type": "code",
   "execution_count": null,
   "metadata": {},
   "outputs": [],
   "source": [
    "'''Test unseen data:'''\n",
    "\n",
    "def infer_data():\n",
    "    \n",
    "    input_string =  input(\"Enter your text: \") \n",
    "    test = [input_string]\n",
    "\n",
    "    \n",
    "    #transform data\n",
    "    test = pd.DataFrame(test, columns =['input_text'])\n",
    "    test['text'] = test['input_text'].apply(clean.basic)\n",
    "    cleaned = pd.Series(test['text'])\n",
    "    vector = vectorizer.transform(cleaned)\n",
    "    \n",
    "    y_hat = best_clf.predict(vector)\n",
    "    y_prob = best_clf.predict_proba(vector)\n",
    "    print(y_prob)   \n",
    "    print(y_hat)\n",
    "    return y_hat, y_prob"
   ]
  },
  {
   "cell_type": "code",
   "execution_count": null,
   "metadata": {},
   "outputs": [],
   "source": [
    "prediction, probability = infer_data()"
   ]
  },
  {
   "cell_type": "markdown",
   "metadata": {},
   "source": [
    "## Let's build a mulit-class model for the first main strategy and see how it works:"
   ]
  },
  {
   "cell_type": "code",
   "execution_count": 53,
   "metadata": {},
   "outputs": [
    {
     "name": "stdout",
     "output_type": "stream",
     "text": [
      "Shape:(8, 2)\n"
     ]
    },
    {
     "data": {
      "text/html": [
       "<div>\n",
       "<style scoped>\n",
       "    .dataframe tbody tr th:only-of-type {\n",
       "        vertical-align: middle;\n",
       "    }\n",
       "\n",
       "    .dataframe tbody tr th {\n",
       "        vertical-align: top;\n",
       "    }\n",
       "\n",
       "    .dataframe thead th {\n",
       "        text-align: right;\n",
       "    }\n",
       "</style>\n",
       "<table border=\"1\" class=\"dataframe\">\n",
       "  <thead>\n",
       "    <tr style=\"text-align: right;\">\n",
       "      <th></th>\n",
       "      <th>category_1</th>\n",
       "      <th>Count</th>\n",
       "    </tr>\n",
       "  </thead>\n",
       "  <tbody>\n",
       "    <tr>\n",
       "      <th>0</th>\n",
       "      <td>capacity_building</td>\n",
       "      <td>367</td>\n",
       "    </tr>\n",
       "    <tr>\n",
       "      <th>1</th>\n",
       "      <td>enabling</td>\n",
       "      <td>73</td>\n",
       "    </tr>\n",
       "    <tr>\n",
       "      <th>2</th>\n",
       "      <td>finance_economy</td>\n",
       "      <td>57</td>\n",
       "    </tr>\n",
       "    <tr>\n",
       "      <th>3</th>\n",
       "      <td>food_and_agricultural_commodities</td>\n",
       "      <td>17</td>\n",
       "    </tr>\n",
       "    <tr>\n",
       "      <th>4</th>\n",
       "      <td>governance</td>\n",
       "      <td>61</td>\n",
       "    </tr>\n",
       "    <tr>\n",
       "      <th>5</th>\n",
       "      <td>law_regulation</td>\n",
       "      <td>16</td>\n",
       "    </tr>\n",
       "    <tr>\n",
       "      <th>6</th>\n",
       "      <td>management_operation</td>\n",
       "      <td>7</td>\n",
       "    </tr>\n",
       "    <tr>\n",
       "      <th>7</th>\n",
       "      <td>monitor_inventory</td>\n",
       "      <td>1</td>\n",
       "    </tr>\n",
       "  </tbody>\n",
       "</table>\n",
       "</div>"
      ],
      "text/plain": [
       "                          category_1  Count\n",
       "0                  capacity_building    367\n",
       "1                           enabling     73\n",
       "2                    finance_economy     57\n",
       "3  food_and_agricultural_commodities     17\n",
       "4                         governance     61\n",
       "5                     law_regulation     16\n",
       "6               management_operation      7\n",
       "7                  monitor_inventory      1"
      ]
     },
     "metadata": {},
     "output_type": "display_data"
    }
   ],
   "source": [
    "#drop columns with tiny sample sizes\n",
    "df= df.drop(columns=['mitigation_adaptation'])\n",
    "def get_label(row):\n",
    "    for c in df.columns:\n",
    "       if row[c]==1:\n",
    "            return c\n",
    "        \n",
    "df['category_1'] = df.apply(get_label, axis=1)\n",
    "df.category_1 = pd.Categorical(df.category_1)\n",
    "df['cat'] = df.category_1.cat.codes\n",
    "\n",
    "\n",
    "df_lambda = df.groupby('category_1', as_index = False).agg({'PIMS_ID':'count'})\n",
    "df_lambda.rename({'PIMS_ID':'Count'}, axis = 1, inplace = True)\n",
    "print(f'Shape:{df_lambda.shape}')\n",
    "display(df_lambda)\n"
   ]
  },
  {
   "cell_type": "code",
   "execution_count": 55,
   "metadata": {},
   "outputs": [
    {
     "name": "stdout",
     "output_type": "stream",
     "text": [
      "train size: 420\n",
      "test size: 180\n"
     ]
    },
    {
     "ename": "AssertionError",
     "evalue": "Unequal splits with some labels missing",
     "output_type": "error",
     "traceback": [
      "\u001b[1;31m---------------------------------------------------------------------------\u001b[0m",
      "\u001b[1;31mAssertionError\u001b[0m                            Traceback (most recent call last)",
      "\u001b[1;32m<ipython-input-55-4441eac44686>\u001b[0m in \u001b[0;36m<module>\u001b[1;34m\u001b[0m\n\u001b[0;32m      7\u001b[0m \u001b[0mprint\u001b[0m\u001b[1;33m(\u001b[0m\u001b[1;34m'test size:'\u001b[0m\u001b[1;33m,\u001b[0m \u001b[0mlen\u001b[0m\u001b[1;33m(\u001b[0m\u001b[0mX_test\u001b[0m\u001b[1;33m)\u001b[0m\u001b[1;33m)\u001b[0m\u001b[1;33m\u001b[0m\u001b[1;33m\u001b[0m\u001b[0m\n\u001b[0;32m      8\u001b[0m \u001b[1;33m\u001b[0m\u001b[0m\n\u001b[1;32m----> 9\u001b[1;33m \u001b[1;32massert\u001b[0m \u001b[0mlen\u001b[0m\u001b[1;33m(\u001b[0m\u001b[0mset\u001b[0m\u001b[1;33m(\u001b[0m\u001b[0my_train\u001b[0m\u001b[1;33m)\u001b[0m\u001b[1;33m)\u001b[0m \u001b[1;33m==\u001b[0m \u001b[0mlen\u001b[0m\u001b[1;33m(\u001b[0m\u001b[0mset\u001b[0m\u001b[1;33m(\u001b[0m\u001b[0my_test\u001b[0m\u001b[1;33m)\u001b[0m\u001b[1;33m)\u001b[0m\u001b[1;33m,\u001b[0m \u001b[1;34m\"Unequal splits with some labels missing\"\u001b[0m\u001b[1;33m\u001b[0m\u001b[1;33m\u001b[0m\u001b[0m\n\u001b[0m\u001b[0;32m     10\u001b[0m \u001b[1;33m\u001b[0m\u001b[0m\n\u001b[0;32m     11\u001b[0m \u001b[1;34m'''extract features using tfidf vecorization:'''\u001b[0m\u001b[1;33m\u001b[0m\u001b[1;33m\u001b[0m\u001b[0m\n",
      "\u001b[1;31mAssertionError\u001b[0m: Unequal splits with some labels missing"
     ]
    }
   ],
   "source": [
    "X_train, X_test, y_train, y_test = train_test_split(df['all_text_clean_spacy'],\n",
    "                                                    df['category_1'].values,\n",
    "                                                    test_size = .3,\n",
    "                                                    random_state = 1,\n",
    "                                                    shuffle = True)\n",
    "print('train size:', len(X_train))\n",
    "print('test size:', len(X_test))\n",
    "\n",
    "assert len(set(y_train)) == len(set(y_test)), \"Unequal splits with some labels missing\"\n",
    "\n",
    "'''extract features using tfidf vecorization:'''\n",
    "vectorizer = TfidfVectorizer(ngram_range = (1,2),min_df = 0.01, max_df = 0.95)\n",
    "vect = vectorizer.fit(X_train)\n",
    "X_train = vect.transform(X_train)\n",
    "X_test = vect.transform(X_test)\n",
    "\n",
    "\"feature reduction\"\n",
    "lsa = TruncatedSVD(n_components=100, \n",
    "                n_iter=10, \n",
    "                random_state=3)\n",
    "\n",
    "    #X_train = lsa.fit_transform(X_train)\n",
    "    #X_test = lsa.fit_transform(X_test)  \n",
    "    \n",
    "clf = LogisticRegression(solver = 'lbfgs', multi_class = 'multinomial', class_weight = 'balanced').fit(X_train, y_train)\n",
    "print('Training accuracy:', clf.score(X_train, y_train).round(3))\n",
    "print('Test accuracy:', clf.score(X_test, y_test).round(3))\n",
    "y_hat = clf.predict(X_test)\n",
    "tools.show_labels(y_test, y_hat, title = 'Logistic Regression Clasifier', class_range = (1,11))"
   ]
  },
  {
   "cell_type": "code",
   "execution_count": null,
   "metadata": {},
   "outputs": [],
   "source": [
    "print(classification_report(y_test, y_hat))\n",
    "\n",
    "df_lambda = tools.get_topwords(clf, vectorizer, n = 10, n_models = 10, show_idxmax = True)\n",
    "print(f'Shape:{df_lambda.shape}')\n",
    "display(df_lambda)"
   ]
  },
  {
   "cell_type": "markdown",
   "metadata": {},
   "source": [
    "### Works okayish for main_strategy_1 and significantly worse for 2 and 3. The reason is probably the smaller sample size for the deeper levels."
   ]
  },
  {
   "cell_type": "markdown",
   "metadata": {},
   "source": [
    "## Classifier chain to baseline multi label classification:"
   ]
  },
  {
   "cell_type": "code",
   "execution_count": null,
   "metadata": {},
   "outputs": [],
   "source": [
    "'''import data'''\n",
    "df = pd.read_json(os.path.abspath(os.path.join('..', 'data/processed'))+'/main_strategies_all.json')\n",
    "    \n",
    "'''lowercase data and str type data'''\n",
    "df['all_text_clean_spacy'] = df['all_text_clean_spacy'].astype(str).apply(clean.basic)\n",
    "df['all_text_clean'] = df['all_text_clean'].astype(str)\n",
    "\n",
    "train, test = train_test_split(df, random_state=42, test_size=0.30, shuffle=True)\n",
    "train_text = train['all_text_clean_spacy'].values\n",
    "test_text = test['all_text_clean_spacy'].values\n",
    "\n",
    "'''extract features using tfidf vecorization:'''\n",
    "vectorizer = TfidfVectorizer(ngram_range = (1,2),min_df = 0.01, max_df = 0.95)\n",
    "vect = vectorizer.fit(train_text)\n",
    "x_train = vect.transform(train_text)\n",
    "x_test = vect.transform(test_text)\n",
    "\n",
    "y_train = train.drop(labels = ['PIMS_ID', 'all_text_clean_spacy', 'all_text_clean', 'category_1', 'category_2', 'category_3', 'labels'], axis=1)\n",
    "y_test = test.drop(labels = ['PIMS_ID', 'all_text_clean_spacy', 'all_text_clean', 'category_1', 'category_2', 'category_3', 'labels'], axis=1)\n"
   ]
  },
  {
   "cell_type": "code",
   "execution_count": null,
   "metadata": {},
   "outputs": [],
   "source": [
    "cc_classifier = ClassifierChain(LogisticRegression(solver='lbfgs'))\n",
    "cc_classifier.fit(x_train, y_train)\n",
    "cc_predictions_proba = cc_classifier.predict_proba(x_test)\n",
    "\n",
    "#for plotting metrics as a function of threashold\n",
    "th = []\n",
    "f = []\n",
    "ham = []\n",
    "ac = []\n",
    "for t in range (5,60): # threshold value\n",
    "    y_pred_new = (cc_predictions_proba >= t/100).astype(int)\n",
    "    th.append(t)\n",
    "    ac.append(accuracy_score(y_test,y_pred_new))\n",
    "    f.append(f1_score(y_test,y_pred_new, average=\"micro\"))\n",
    "    ham.append(hamming_loss(y_test,y_pred_new))\n",
    "plt.rcParams[\"figure.figsize\"] = (12,6)\n",
    "\n",
    "with plt.style.context('ggplot'):\n",
    "    plt.plot(th, f)\n",
    "    plt.plot(th, ham)\n",
    "    plt.plot(th, ac)\n",
    "    plt.legend(['F1', 'Hamming loss', 'Accuracy'], loc='center left', fontsize = 14)\n",
    "    plt.ylabel(\"metrics\", fontsize = 14)\n",
    "    plt.xlabel(\"threshold\", fontsize = 14)\n",
    "    plt.title(\"Classfier Chain Model\", fontsize = 18)\n",
    "plt.show()"
   ]
  },
  {
   "cell_type": "code",
   "execution_count": null,
   "metadata": {},
   "outputs": [],
   "source": [
    "df.columns"
   ]
  },
  {
   "cell_type": "markdown",
   "metadata": {},
   "source": [
    "## Binary with top regressors and manually tuned tf-idf features but no grid search"
   ]
  },
  {
   "cell_type": "code",
   "execution_count": 19,
   "metadata": {},
   "outputs": [
    {
     "name": "stdout",
     "output_type": "stream",
     "text": [
      "train size: 385\n",
      "test size: 165\n",
      "C equals: 10\n",
      "\n",
      "Training accuracy: 0.997\n",
      "Test accuracy: 0.873\n",
      "f1 score: 0.5764576457645765\n"
     ]
    },
    {
     "data": {
      "text/plain": [
       "label_1    production\n",
       "dtype: object"
      ]
     },
     "metadata": {},
     "output_type": "display_data"
    },
    {
     "name": "stdout",
     "output_type": "stream",
     "text": [
      "C equals: 5\n",
      "\n",
      "Training accuracy: 0.992\n",
      "Test accuracy: 0.879\n",
      "f1 score: 0.6097445600756859\n"
     ]
    },
    {
     "data": {
      "text/plain": [
       "label_1    production\n",
       "dtype: object"
      ]
     },
     "metadata": {},
     "output_type": "display_data"
    },
    {
     "name": "stdout",
     "output_type": "stream",
     "text": [
      "C equals: 1\n",
      "\n",
      "Training accuracy: 0.956\n",
      "Test accuracy: 0.867\n",
      "f1 score: 0.6870689655172414\n"
     ]
    },
    {
     "data": {
      "text/plain": [
       "label_1    farmer\n",
       "dtype: object"
      ]
     },
     "metadata": {},
     "output_type": "display_data"
    },
    {
     "name": "stdout",
     "output_type": "stream",
     "text": [
      "C equals: 0.1\n",
      "\n",
      "Training accuracy: 0.901\n",
      "Test accuracy: 0.836\n",
      "f1 score: 0.6526315789473683\n"
     ]
    },
    {
     "data": {
      "text/plain": [
       "label_1    farmer\n",
       "dtype: object"
      ]
     },
     "metadata": {},
     "output_type": "display_data"
    },
    {
     "data": {
      "image/png": "[encoded data removed]",
      "text/plain": [
       "<Figure size 720x720 with 1 Axes>"
      ]
     },
     "metadata": {},
     "output_type": "display_data"
    },
    {
     "data": {
      "image/png": "[encoded data removed]",
      "text/plain": [
       "<Figure size 720x720 with 1 Axes>"
      ]
     },
     "metadata": {},
     "output_type": "display_data"
    },
    {
     "data": {
      "image/png": "[encoded data removed]",
      "text/plain": [
       "<Figure size 720x720 with 1 Axes>"
      ]
     },
     "metadata": {},
     "output_type": "display_data"
    },
    {
     "data": {
      "image/png": "[encoded data removed]",
      "text/plain": [
       "<Figure size 720x720 with 1 Axes>"
      ]
     },
     "metadata": {},
     "output_type": "display_data"
    }
   ],
   "source": [
    "df_regressors = pd.DataFrame(columns = [\"label\", \"features\", \"score\"])\n",
    "\n",
    "\n",
    "X_train, X_test, y_train, y_test = train_test_split(df_trunc['all_text_clean_spacy'],\n",
    "                                                    df_trunc['food_and_agricultural_commodities'].values,\n",
    "                                                    test_size = .3,\n",
    "                                                    random_state = 1,\n",
    "                                                    shuffle = True)\n",
    "print('train size:', len(X_train))\n",
    "print('test size:', len(X_test))\n",
    "\n",
    "assert len(set(y_train)) == len(set(y_test)), \"Unequal splits with some labels missing\"\n",
    "\n",
    "'''extract features using tfidf vecorization:'''\n",
    "vectorizer = TfidfVectorizer(ngram_range = (1,2),min_df = 0.01, max_df = 0.95)\n",
    "\n",
    "\n",
    "vect = vectorizer.fit(X_train)\n",
    "X_train = vect.transform(X_train)\n",
    "X_test = vect.transform(X_test)\n",
    "\n",
    "\n",
    "\n",
    "\n",
    "#add additional feature weight\n",
    "\"\"\"\n",
    "vect = vectorizer.fit(X_train)\n",
    "query_vec = vect.transform(X_train)\n",
    "\n",
    "weight = 10\n",
    "\n",
    "position = vect.vocabulary_['ews']\n",
    "query_vec[:, position] *= weight\n",
    "\n",
    "position = vect.vocabulary_['early warning']\n",
    "query_vec[:, position] *= weight\n",
    "\"\"\"\n",
    "\n",
    "\n",
    "C = [10, 5, 1, 0.1]\n",
    "\n",
    "for c in C:\n",
    "    print('C equals:', c)\n",
    "    clf = LogisticRegression(penalty='l2', solver = 'lbfgs', class_weight= 'balanced', C = c).fit(X_train, y_train)\n",
    "    print('')\n",
    "    print('Training accuracy:', clf.score(X_train, y_train).round(3))\n",
    "    print('Test accuracy:', clf.score(X_test, y_test).round(3))\n",
    "    y_hat = clf.predict(X_test)\n",
    "    print('f1 score:', f1_score(y_test, y_hat, average=\"macro\"))\n",
    "\n",
    "    #top regressors \n",
    "    #return top  regressors and convert to dataframe for visualisation:\n",
    "    df_lambda = tools.get_topwords(clf, vectorizer, n = 8, n_models = 1, show_idxmax = True)\n",
    "    keywords = df_lambda.Keywords.iloc[0]\n",
    "\n",
    "    for key in keywords:\n",
    "\n",
    "        df_regressors = df_regressors.append({'label': 'Food_and_Agricultural_Commodities', \"features\":key}, ignore_index=True)\n",
    "        df_regressors['features'] = df_regressors['features'].astype(str)\n",
    "        df_regressors['features'] = df_regressors['features'].str.replace('(','')\n",
    "        df_regressors['features'] = df_regressors['features'].str.replace(')','')\n",
    "        df_regressors['features'] = df_regressors['features'].str.replace(\"'\",'')               \n",
    "\n",
    "\n",
    "    df_regressors[['features','score']] = df_regressors['features'].str.split(',',expand=True)\n",
    "    df_regressors['score'] = df_regressors['score'].astype(float)    \n",
    "    plt.figure(figsize=(10,10))\n",
    "    sns.barplot(x = 'score' , y = 'features', orient = 'h' , data = df_regressors)"
   ]
  },
  {
   "cell_type": "code",
   "execution_count": null,
   "metadata": {},
   "outputs": [],
   "source": []
  },
  {
   "cell_type": "code",
   "execution_count": null,
   "metadata": {},
   "outputs": [],
   "source": []
  }
 ],
 "metadata": {
  "kernelspec": {
   "display_name": "Python 3",
   "language": "python",
   "name": "python3"
  },
  "language_info": {
   "codemirror_mode": {
    "name": "ipython",
    "version": 3
   },
   "file_extension": ".py",
   "mimetype": "text/x-python",
   "name": "python",
   "nbconvert_exporter": "python",
   "pygments_lexer": "ipython3",
   "version": "3.8.5"
  }
 },
 "nbformat": 4,
 "nbformat_minor": 4
}
