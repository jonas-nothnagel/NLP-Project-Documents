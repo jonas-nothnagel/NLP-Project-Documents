{
 "cells": [
  {
   "cell_type": "markdown",
   "metadata": {},
   "source": [
    "## Import Libraries"
   ]
  },
  {
   "cell_type": "code",
   "execution_count": 75,
   "metadata": {},
   "outputs": [],
   "source": [
    "'''basics'''\n",
    "import os\n",
    "import sys\n",
    "sys.path.insert(0, os.path.abspath(os.path.join('../..', 'src')))\n",
    "sys.setrecursionlimit(20500)\n",
    "import pandas as pd\n",
    "#import pickle5 as pickle\n",
    "import pickle\n",
    "import numpy as np\n",
    "\n",
    "'''Plotting'''\n",
    "import matplotlib.pyplot as plt\n",
    "import seaborn as sns\n",
    "sns.set_style('darkgrid')\n",
    "\n",
    "'''features'''\n",
    "from sklearn.preprocessing import LabelEncoder\n",
    "from sklearn.model_selection import train_test_split\n",
    "from sklearn.feature_extraction.text import TfidfVectorizer\n",
    "from sklearn.decomposition import TruncatedSVD\n",
    "from sklearn.preprocessing import label_binarize\n",
    "\n",
    "'''Classifiers'''\n",
    "from sklearn.dummy import DummyClassifier\n",
    "from sklearn.linear_model import SGDClassifier\n",
    "from sklearn.naive_bayes import GaussianNB\n",
    "from sklearn.tree import DecisionTreeClassifier\n",
    "from sklearn.ensemble import RandomForestClassifier, AdaBoostClassifier\n",
    "from sklearn.neighbors import KNeighborsClassifier\n",
    "from sklearn.multiclass import OneVsRestClassifier\n",
    "from sklearn.linear_model import LogisticRegression\n",
    "from sklearn import svm\n",
    "from sklearn.naive_bayes import MultinomialNB\n",
    "\n",
    "\n",
    "'''Metrics/Evaluation'''\n",
    "from sklearn.model_selection import GridSearchCV\n",
    "from sklearn.metrics import accuracy_score, precision_score, recall_score, f1_score, roc_curve, auc, confusion_matrix\n",
    "from scipy import interp\n",
    "from itertools import cycle\n",
    "from sklearn.model_selection import cross_val_score\n",
    "from sklearn.metrics import classification_report\n",
    "from sklearn.pipeline import make_pipeline\n",
    "from sklearn_hierarchical_classification.classifier import HierarchicalClassifier\n",
    "from sklearn_hierarchical_classification.constants import ROOT\n",
    "from sklearn_hierarchical_classification.metrics import h_fbeta_score, multi_labeled\n",
    "from sklearn.pipeline import Pipeline\n",
    "\n",
    "\n",
    "import warnings\n",
    "warnings.filterwarnings('ignore')\n",
    "\n",
    "from tabulate import tabulate  "
   ]
  },
  {
   "cell_type": "markdown",
   "metadata": {},
   "source": [
    "## Import data and holdout data for prediction"
   ]
  },
  {
   "cell_type": "code",
   "execution_count": 20,
   "metadata": {},
   "outputs": [
    {
     "data": {
      "text/plain": [
       "Index(['PIMS_ID', 'all_text_clean', 'all_text_clean_spacy', 'forest', 'tundra',\n",
       "       'conserved_areas', 'freshwater', 'grassland', 'desert', 'marine',\n",
       "       'wetlands', 'human_altered_areas', 'no tag', 'category_1', 'category_2',\n",
       "       'category_3', 'labels'],\n",
       "      dtype='object')"
      ]
     },
     "execution_count": 20,
     "metadata": {},
     "output_type": "execute_result"
    }
   ],
   "source": [
    "df = pd.read_json('../../data/processed/encoded_labels/main_landscapes_all.json')\n",
    "df.columns"
   ]
  },
  {
   "cell_type": "code",
   "execution_count": 21,
   "metadata": {},
   "outputs": [
    {
     "data": {
      "text/html": [
       "<div>\n",
       "<style scoped>\n",
       "    .dataframe tbody tr th:only-of-type {\n",
       "        vertical-align: middle;\n",
       "    }\n",
       "\n",
       "    .dataframe tbody tr th {\n",
       "        vertical-align: top;\n",
       "    }\n",
       "\n",
       "    .dataframe thead th {\n",
       "        text-align: right;\n",
       "    }\n",
       "</style>\n",
       "<table border=\"1\" class=\"dataframe\">\n",
       "  <thead>\n",
       "    <tr style=\"text-align: right;\">\n",
       "      <th></th>\n",
       "      <th>category</th>\n",
       "      <th>number_of_inputs</th>\n",
       "    </tr>\n",
       "  </thead>\n",
       "  <tbody>\n",
       "    <tr>\n",
       "      <th>0</th>\n",
       "      <td>forest</td>\n",
       "      <td>120</td>\n",
       "    </tr>\n",
       "    <tr>\n",
       "      <th>1</th>\n",
       "      <td>tundra</td>\n",
       "      <td>3</td>\n",
       "    </tr>\n",
       "    <tr>\n",
       "      <th>2</th>\n",
       "      <td>conserved_areas</td>\n",
       "      <td>153</td>\n",
       "    </tr>\n",
       "    <tr>\n",
       "      <th>3</th>\n",
       "      <td>freshwater</td>\n",
       "      <td>58</td>\n",
       "    </tr>\n",
       "    <tr>\n",
       "      <th>4</th>\n",
       "      <td>grassland</td>\n",
       "      <td>48</td>\n",
       "    </tr>\n",
       "    <tr>\n",
       "      <th>5</th>\n",
       "      <td>desert</td>\n",
       "      <td>15</td>\n",
       "    </tr>\n",
       "    <tr>\n",
       "      <th>6</th>\n",
       "      <td>marine</td>\n",
       "      <td>85</td>\n",
       "    </tr>\n",
       "    <tr>\n",
       "      <th>7</th>\n",
       "      <td>wetlands</td>\n",
       "      <td>39</td>\n",
       "    </tr>\n",
       "    <tr>\n",
       "      <th>8</th>\n",
       "      <td>human_altered_areas</td>\n",
       "      <td>222</td>\n",
       "    </tr>\n",
       "    <tr>\n",
       "      <th>9</th>\n",
       "      <td>no tag</td>\n",
       "      <td>516</td>\n",
       "    </tr>\n",
       "  </tbody>\n",
       "</table>\n",
       "</div>"
      ],
      "text/plain": [
       "              category  number_of_inputs\n",
       "0               forest               120\n",
       "1               tundra                 3\n",
       "2      conserved_areas               153\n",
       "3           freshwater                58\n",
       "4            grassland                48\n",
       "5               desert                15\n",
       "6               marine                85\n",
       "7             wetlands                39\n",
       "8  human_altered_areas               222\n",
       "9               no tag               516"
      ]
     },
     "execution_count": 21,
     "metadata": {},
     "output_type": "execute_result"
    }
   ],
   "source": [
    "df_labels = df.drop(['PIMS_ID', 'all_text_clean', 'all_text_clean_spacy', 'category_1', 'category_2', 'category_3',\n",
    "       'labels'], axis=1)\n",
    "counts = []\n",
    "categories = list(df_labels.columns.values)\n",
    "for i in categories:\n",
    "    counts.append((i, df_labels[i].sum()))\n",
    "df_stats = pd.DataFrame(counts, columns=['category', 'number_of_inputs'])\n",
    "df_stats"
   ]
  },
  {
   "cell_type": "code",
   "execution_count": 22,
   "metadata": {
    "scrolled": true
   },
   "outputs": [
    {
     "data": {
      "text/plain": [
       "Text(0.5, 0, 'category')"
      ]
     },
     "execution_count": 22,
     "metadata": {},
     "output_type": "execute_result"
    },
    {
     "data": {
      "image/png": "[encoded data removed]",
      "text/plain": [
       "<Figure size 576x360 with 1 Axes>"
      ]
     },
     "metadata": {},
     "output_type": "display_data"
    }
   ],
   "source": [
    "df_stats.plot(x='category', y='number_of_inputs', kind='bar', legend=False, grid=True, figsize=(8, 5))\n",
    "plt.title(\"Number of comments per category\")\n",
    "plt.ylabel('# of Occurrences', fontsize=12)\n",
    "plt.xlabel('category', fontsize=12)"
   ]
  },
  {
   "cell_type": "markdown",
   "metadata": {},
   "source": [
    "## How many comments have multi labels"
   ]
  },
  {
   "cell_type": "code",
   "execution_count": 23,
   "metadata": {
    "scrolled": true
   },
   "outputs": [
    {
     "data": {
      "text/plain": [
       "Text(0.5, 0, '# of categories')"
      ]
     },
     "execution_count": 23,
     "metadata": {},
     "output_type": "execute_result"
    },
    {
     "data": {
      "image/png": "[encoded data removed]",
      "text/plain": [
       "<Figure size 576x360 with 1 Axes>"
      ]
     },
     "metadata": {},
     "output_type": "display_data"
    }
   ],
   "source": [
    "rowsums = df.iloc[:,4:].sum(axis=1)\n",
    "x=rowsums.value_counts()\n",
    "#plot\n",
    "plt.figure(figsize=(8,5))\n",
    "ax = sns.barplot(x.index, x.values)\n",
    "plt.title(\"Multiple categories per comment\")\n",
    "plt.ylabel('# of Occurrences', fontsize=12)\n",
    "plt.xlabel('# of categories', fontsize=12)"
   ]
  },
  {
   "cell_type": "markdown",
   "metadata": {},
   "source": [
    "## The distribution of the number of words in input texts"
   ]
  },
  {
   "cell_type": "code",
   "execution_count": 24,
   "metadata": {
    "scrolled": true
   },
   "outputs": [
    {
     "data": {
      "text/plain": [
       "<AxesSubplot:>"
      ]
     },
     "execution_count": 24,
     "metadata": {},
     "output_type": "execute_result"
    },
    {
     "data": {
      "image/png": "[encoded data removed]",
      "text/plain": [
       "<Figure size 432x288 with 1 Axes>"
      ]
     },
     "metadata": {},
     "output_type": "display_data"
    }
   ],
   "source": [
    "lens = df.all_text_clean.str.len()\n",
    "lens.hist(bins = np.arange(0,5000,50))"
   ]
  },
  {
   "cell_type": "markdown",
   "metadata": {},
   "source": [
    "## Holding out 5 rows from the original dataframe for prediction at the end"
   ]
  },
  {
   "cell_type": "code",
   "execution_count": 25,
   "metadata": {
    "scrolled": true
   },
   "outputs": [],
   "source": [
    "df_holdout = df.iloc[:5]\n",
    "\n",
    "df = df.iloc[5:]"
   ]
  },
  {
   "cell_type": "code",
   "execution_count": 26,
   "metadata": {},
   "outputs": [
    {
     "data": {
      "text/plain": [
       "Index(['PIMS_ID', 'all_text_clean', 'all_text_clean_spacy', 'forest', 'tundra',\n",
       "       'conserved_areas', 'freshwater', 'grassland', 'desert', 'marine',\n",
       "       'wetlands', 'human_altered_areas', 'no tag', 'category_1', 'category_2',\n",
       "       'category_3', 'labels'],\n",
       "      dtype='object')"
      ]
     },
     "execution_count": 26,
     "metadata": {},
     "output_type": "execute_result"
    }
   ],
   "source": [
    "df.columns"
   ]
  },
  {
   "cell_type": "markdown",
   "metadata": {},
   "source": [
    "##  Features engineering"
   ]
  },
  {
   "cell_type": "code",
   "execution_count": 28,
   "metadata": {},
   "outputs": [],
   "source": [
    "categories = [ 'forest', 'tundra',\n",
    "       'conserved_areas', 'freshwater', 'grassland', 'desert', 'marine',\n",
    "       'wetlands', 'human_altered_areas', 'no tag']\n",
    "\n",
    "\n",
    "#Creating the features (tf-idf weights) for the processed text\n",
    "texts = df['all_text_clean'].astype('str')\n",
    "\n",
    "tfidf_vectorizer = TfidfVectorizer(ngram_range=(1, 2), \n",
    "                                   min_df = 2, \n",
    "                                   max_df = .95)\n",
    "\n",
    "X = tfidf_vectorizer.fit_transform(texts)\n",
    "\n",
    "#Turning the labels into numbers\n",
    "y = pd.DataFrame(df, columns = categories)\n",
    "#Dimenionality reduction. Only using the 100 best features er category\n",
    "\n",
    "lsa = TruncatedSVD(n_components=100, \n",
    "                   n_iter=10, \n",
    "                   random_state=3)\n",
    "\n",
    "X = lsa.fit_transform(X)\n"
   ]
  },
  {
   "cell_type": "markdown",
   "metadata": {},
   "source": [
    "## Train multiple ML models / OneVsRest multi-label strategy"
   ]
  },
  {
   "cell_type": "code",
   "execution_count": 74,
   "metadata": {
    "scrolled": true
   },
   "outputs": [],
   "source": [
    "LogReg_pipeline = Pipeline([\n",
    "                ('tfidf', TfidfVectorizer()),\n",
    "                ('clf', OneVsRestClassifier(LogisticRegression(solver='sag'), n_jobs=1)),\n",
    "            ])\n",
    "#Creating a dict of the models\n",
    "model_dict = {\n",
    "              'Stochastic Gradient Descent' : OneVsRestClassifier(SGDClassifier(random_state=3, loss='log'), n_jobs=1),\n",
    "              'Random Forest': OneVsRestClassifier(RandomForestClassifier(random_state=3), n_jobs=1),\n",
    "              'Decsision Tree': OneVsRestClassifier(DecisionTreeClassifier(random_state=3), n_jobs=1),\n",
    "              'AdaBoost': OneVsRestClassifier(AdaBoostClassifier(random_state=3), n_jobs=1),\n",
    "              'Gaussian Naive Bayes': OneVsRestClassifier(GaussianNB(), n_jobs=1),\n",
    "              'K Nearest Neighbor': OneVsRestClassifier(KNeighborsClassifier(), n_jobs=1)}\n",
    "\n",
    "\n",
    "#Train test split with stratified sampling for evaluation\n",
    "X_train, X_test, y_train, y_test = train_test_split(X, \n",
    "                                                    y, \n",
    "                                                    test_size = .3, \n",
    "                                                    shuffle = True,  \n",
    "                                                    random_state = 3)\n",
    "y_train = y_train.dropna(axis=1)\n",
    "#Function to get the scores for each model in a df\n",
    "def model_score_df(model_dict, X_train, X_test, y_train, y_test):   \n",
    "    model_name, ac_score_list, p_score_list, r_score_list, f1_score_list = [], [], [], [], []\n",
    "    for k,v in model_dict.items():   \n",
    "        model_name.append(k)\n",
    "        v.fit(X_train, y_train)\n",
    "        y_pred = v.predict(X_test)\n",
    "        ac_score_list.append(accuracy_score(y_test, y_pred))\n",
    "        p_score_list.append(precision_score(y_test, y_pred, average='macro'))\n",
    "        r_score_list.append(recall_score(y_test, y_pred, average='macro'))\n",
    "        f1_score_list.append(f1_score(y_test, y_pred, average='macro'))\n",
    "        model_comparison_df = pd.DataFrame([model_name, ac_score_list, p_score_list, r_score_list, f1_score_list]).T\n",
    "        model_comparison_df.columns = ['model_name', 'accuracy_score', 'precision_score', 'recall_score', 'f1_score']\n",
    "        model_comparison_df = model_comparison_df.sort_values(by='f1_score', ascending=False)\n",
    "    return model_comparison_df\n",
    "    \n",
    "      \n",
    "lis = []\n",
    "for category in categories:\n",
    "    dic = {}\n",
    "    dff = model_score_df(model_dict, X_train, X_test, y_train[category], y_test[category])\n",
    "    #dff[['accuracy_score', 'precision_score', 'recall_score', 'f1_score']] = dff[['accuracy_score', 'precision_score', 'recall_score', 'f1_score']].astype(float).round(3)\n",
    "    # Using DataFrame.insert() to add a column\n",
    "    dic['Category'] = category\n",
    "    dic['#Inputs'] = df_stats.number_of_inputs[df_stats['category'] == category]\n",
    "    dic['Classifiers'] = '    \\n '.join(dff.model_name.apply(str).tolist())\n",
    "    dic['accuracy_score'] = '    \\n '.join(dff.accuracy_score.apply(str).tolist()) \n",
    "    dic['precision_score'] = '   \\n '.join(dff.precision_score.apply(str).tolist())\n",
    "    dic['recall_score'] = '    \\n '.join(dff.recall_score.apply(str).tolist())\n",
    "    dic['f1_score'] = '    \\n '.join(dff.f1_score.apply(str).tolist())\n",
    "    lis.append(dic)\n",
    "    \n",
    "#headers = ['Category', 'Classifiers', 'accuracy_score', 'precision_score', 'recall_score', 'f1_score']\n",
    "#tabulate(lis, tablefmt='html')\n",
    "header = lis[0].keys()\n",
    "rows =  [x.values() for x in lis]\n",
    "\n"
   ]
  },
  {
   "cell_type": "code",
   "execution_count": 72,
   "metadata": {},
   "outputs": [
    {
     "data": {
      "text/html": [
       "<table>\n",
       "<thead>\n",
       "<tr><th>Category           </th><th style=\"text-align: right;\">  #Inputs</th><th>Classifiers  </th><th>accuracy_score  </th><th>precision_score  </th><th>recall_score  </th><th>f1_score  </th></tr>\n",
       "</thead>\n",
       "<tbody>\n",
       "<tr><td>forest             </td><td style=\"text-align: right;\">      120</td><td>Stochastic Gradient Descent    \n",
       " Decsision Tree    \n",
       " AdaBoost    \n",
       " Gaussian Naive Bayes    \n",
       " K Nearest Neighbor    \n",
       " Random Forest              </td><td>0.8055555555555556    \n",
       " 0.8055555555555556    \n",
       " 0.8222222222222222    \n",
       " 0.7222222222222222    \n",
       " 0.7944444444444444    \n",
       " 0.8277777777777777                 </td><td>0.7319711538461539   \n",
       " 0.7232142857142857   \n",
       " 0.7625806451612904   \n",
       " 0.6918160170447424   \n",
       " 0.704045954045954   \n",
       " 0.9088235294117647                  </td><td>0.7709247236357255    \n",
       " 0.7193367257413581    \n",
       " 0.6785400947534656    \n",
       " 0.7685558869977189    \n",
       " 0.6433584839445516    \n",
       " 0.6219512195121951               </td><td>0.7462848858281986    \n",
       " 0.7212266029470331    \n",
       " 0.7031539888682746    \n",
       " 0.6875    \n",
       " 0.6607406652743111    \n",
       " 0.6459166190748143           </td></tr>\n",
       "<tr><td>tundra             </td><td style=\"text-align: right;\">        3</td><td>Stochastic Gradient Descent    \n",
       " Random Forest    \n",
       " AdaBoost    \n",
       " Gaussian Naive Bayes    \n",
       " K Nearest Neighbor    \n",
       " Decsision Tree              </td><td>0.9944444444444445    \n",
       " 0.9944444444444445    \n",
       " 0.9944444444444445    \n",
       " 0.9944444444444445    \n",
       " 0.9944444444444445    \n",
       " 0.9888888888888889                 </td><td>0.49722222222222223   \n",
       " 0.49722222222222223   \n",
       " 0.49722222222222223   \n",
       " 0.49722222222222223   \n",
       " 0.49722222222222223   \n",
       " 0.4972067039106145                  </td><td>0.5    \n",
       " 0.5    \n",
       " 0.5    \n",
       " 0.5    \n",
       " 0.5    \n",
       " 0.4972067039106145               </td><td>0.4986072423398329    \n",
       " 0.4986072423398329    \n",
       " 0.4986072423398329    \n",
       " 0.4986072423398329    \n",
       " 0.4986072423398329    \n",
       " 0.4972067039106145           </td></tr>\n",
       "<tr><td>conserved_areas    </td><td style=\"text-align: right;\">      153</td><td>K Nearest Neighbor    \n",
       " Stochastic Gradient Descent    \n",
       " Gaussian Naive Bayes    \n",
       " AdaBoost    \n",
       " Decsision Tree    \n",
       " Random Forest              </td><td>0.85    \n",
       " 0.8388888888888889    \n",
       " 0.8277777777777777    \n",
       " 0.8333333333333334    \n",
       " 0.8222222222222222    \n",
       " 0.8277777777777777                 </td><td>0.7962962962962963   \n",
       " 0.7813846382409746   \n",
       " 0.7738669238187078   \n",
       " 0.7736742424242424   \n",
       " 0.7593582887700534   \n",
       " 0.7695035460992907                  </td><td>0.8008021390374331    \n",
       " 0.8165106951871658    \n",
       " 0.8322192513368984    \n",
       " 0.7897727272727273    \n",
       " 0.7593582887700534    \n",
       " 0.7476604278074866               </td><td>0.7984991085865916    \n",
       " 0.795382384069617    \n",
       " 0.7915966386554623    \n",
       " 0.7809863724853991    \n",
       " 0.7593582887700534    \n",
       " 0.7572963333478318           </td></tr>\n",
       "<tr><td>freshwater         </td><td style=\"text-align: right;\">       58</td><td>AdaBoost    \n",
       " Stochastic Gradient Descent    \n",
       " K Nearest Neighbor    \n",
       " Decsision Tree    \n",
       " Gaussian Naive Bayes    \n",
       " Random Forest              </td><td>0.9111111111111111    \n",
       " 0.8944444444444445    \n",
       " 0.8944444444444445    \n",
       " 0.8722222222222222    \n",
       " 0.6888888888888889    \n",
       " 0.9                 </td><td>0.7976190476190477   \n",
       " 0.7394715111478117   \n",
       " 0.7394715111478117   \n",
       " 0.6473975126669738   \n",
       " 0.5917065390749601   \n",
       " 0.949438202247191                  </td><td>0.6875    \n",
       " 0.590625    \n",
       " 0.590625    \n",
       " 0.6    \n",
       " 0.715625    \n",
       " 0.55               </td><td>0.725609756097561    \n",
       " 0.6196196196196196    \n",
       " 0.6196196196196196    \n",
       " 0.616346955796497    \n",
       " 0.572228823629265    \n",
       " 0.5642818719741797           </td></tr>\n",
       "<tr><td>grassland          </td><td style=\"text-align: right;\">       48</td><td>Decsision Tree    \n",
       " K Nearest Neighbor    \n",
       " Gaussian Naive Bayes    \n",
       " AdaBoost    \n",
       " Stochastic Gradient Descent    \n",
       " Random Forest              </td><td>0.9111111111111111    \n",
       " 0.9277777777777778    \n",
       " 0.8111111111111111    \n",
       " 0.9111111111111111    \n",
       " 0.9222222222222223    \n",
       " 0.9222222222222223                 </td><td>0.6901893287435455   \n",
       " 0.7685714285714286   \n",
       " 0.5902777777777778   \n",
       " 0.632183908045977   \n",
       " 0.7134831460674158   \n",
       " 0.7134831460674158                  </td><td>0.6901893287435455    \n",
       " 0.601118760757315    \n",
       " 0.7013769363166953    \n",
       " 0.5593803786574871    \n",
       " 0.5327022375215147    \n",
       " 0.5327022375215147               </td><td>0.6901893287435455    \n",
       " 0.6388331532643926    \n",
       " 0.6051612903225807    \n",
       " 0.5764705882352942    \n",
       " 0.5421511627906976    \n",
       " 0.5421511627906976           </td></tr>\n",
       "<tr><td>desert             </td><td style=\"text-align: right;\">       15</td><td>AdaBoost    \n",
       " K Nearest Neighbor    \n",
       " Decsision Tree    \n",
       " Stochastic Gradient Descent    \n",
       " Gaussian Naive Bayes    \n",
       " Random Forest              </td><td>0.9777777777777777    \n",
       " 0.9777777777777777    \n",
       " 0.9611111111111111    \n",
       " 0.9722222222222222    \n",
       " 0.8888888888888888    \n",
       " 0.9777777777777777                 </td><td>0.7443181818181819   \n",
       " 0.7443181818181819   \n",
       " 0.6370767960363336   \n",
       " 0.6581920903954802   \n",
       " 0.5437500000000001   \n",
       " 0.4888888888888889                  </td><td>0.7443181818181819    \n",
       " 0.7443181818181819    \n",
       " 0.7357954545454546    \n",
       " 0.6193181818181819    \n",
       " 0.6988636363636364    \n",
       " 0.5               </td><td>0.7443181818181819    \n",
       " 0.7443181818181819    \n",
       " 0.6717895285230528    \n",
       " 0.6357749898826386    \n",
       " 0.5535714285714286    \n",
       " 0.4943820224719101           </td></tr>\n",
       "<tr><td>marine             </td><td style=\"text-align: right;\">       85</td><td>Stochastic Gradient Descent    \n",
       " AdaBoost    \n",
       " K Nearest Neighbor    \n",
       " Random Forest    \n",
       " Decsision Tree    \n",
       " Gaussian Naive Bayes              </td><td>0.8888888888888888    \n",
       " 0.8777777777777778    \n",
       " 0.8611111111111112    \n",
       " 0.8833333333333333    \n",
       " 0.7944444444444444    \n",
       " 0.6833333333333333                 </td><td>0.7754168028767571   \n",
       " 0.7448337825696316   \n",
       " 0.7083333333333333   \n",
       " 0.8591954022988506   \n",
       " 0.5966666666666667   \n",
       " 0.5937001594896332                  </td><td>0.7174193548387097    \n",
       " 0.7109677419354838    \n",
       " 0.7012903225806452    \n",
       " 0.5967741935483871    \n",
       " 0.6122580645161291    \n",
       " 0.6819354838709677               </td><td>0.7410817031070195    \n",
       " 0.7258377180836333    \n",
       " 0.7047050331386573    \n",
       " 0.6293754289636239    \n",
       " 0.6029806259314456    \n",
       " 0.5808652314228522           </td></tr>\n",
       "<tr><td>wetlands           </td><td style=\"text-align: right;\">       39</td><td>Stochastic Gradient Descent    \n",
       " Gaussian Naive Bayes    \n",
       " Random Forest    \n",
       " K Nearest Neighbor    \n",
       " AdaBoost    \n",
       " Decsision Tree              </td><td>0.9388888888888889    \n",
       " 0.8222222222222222    \n",
       " 0.9333333333333333    \n",
       " 0.9333333333333333    \n",
       " 0.9111111111111111    \n",
       " 0.9                 </td><td>0.9691011235955056   \n",
       " 0.5856524427952999   \n",
       " 0.9664804469273742   \n",
       " 0.9664804469273742   \n",
       " 0.5657142857142857   \n",
       " 0.5367464905037159                  </td><td>0.5769230769230769    \n",
       " 0.6913864578535237    \n",
       " 0.5384615384615384    \n",
       " 0.5384615384615384    \n",
       " 0.5264854905573468    \n",
       " 0.5204974666052511               </td><td>0.6173913043478261    \n",
       " 0.6012184990307394    \n",
       " 0.5540875309661437    \n",
       " 0.5540875309661437    \n",
       " 0.5321637426900585    \n",
       " 0.5235294117647059           </td></tr>\n",
       "<tr><td>human_altered_areas</td><td style=\"text-align: right;\">      222</td><td>Stochastic Gradient Descent    \n",
       " K Nearest Neighbor    \n",
       " Random Forest    \n",
       " AdaBoost    \n",
       " Decsision Tree    \n",
       " Gaussian Naive Bayes              </td><td>0.7944444444444444    \n",
       " 0.75    \n",
       " 0.7444444444444445    \n",
       " 0.7    \n",
       " 0.6611111111111111    \n",
       " 0.6277777777777778                 </td><td>0.7809806034482758   \n",
       " 0.7341718485019786   \n",
       " 0.7534097108565194   \n",
       " 0.6772282683565229   \n",
       " 0.636762360446571   \n",
       " 0.6402439024390244                  </td><td>0.7755250297186633    \n",
       " 0.7188614449874521    \n",
       " 0.6840575881653679    \n",
       " 0.669924712719588    \n",
       " 0.635913353586052    \n",
       " 0.6488574824990094               </td><td>0.7779925997533251    \n",
       " 0.7242553191489363    \n",
       " 0.6924676868221662    \n",
       " 0.6726831896551724    \n",
       " 0.636315458249147    \n",
       " 0.6251748251748251           </td></tr>\n",
       "<tr><td>no tag             </td><td style=\"text-align: right;\">      516</td><td>Stochastic Gradient Descent    \n",
       " Gaussian Naive Bayes    \n",
       " AdaBoost    \n",
       " Random Forest    \n",
       " K Nearest Neighbor    \n",
       " Decsision Tree              </td><td>0.8611111111111112    \n",
       " 0.75    \n",
       " 0.85    \n",
       " 0.8611111111111112    \n",
       " 0.8444444444444444    \n",
       " 0.7833333333333333                 </td><td>0.7259615384615384   \n",
       " 0.6437252685132844   \n",
       " 0.6897590361445782   \n",
       " 0.7382352941176471   \n",
       " 0.6727272727272727   \n",
       " 0.59                  </td><td>0.7047930283224401    \n",
       " 0.7461873638344226    \n",
       " 0.6067538126361656    \n",
       " 0.5980392156862745    \n",
       " 0.6034858387799564    \n",
       " 0.5980392156862745               </td><td>0.7144488863506567    \n",
       " 0.653475935828877    \n",
       " 0.6284119581007721    \n",
       " 0.6234624717596853    \n",
       " 0.6226415094339623    \n",
       " 0.5935383011985409           </td></tr>\n",
       "</tbody>\n",
       "</table>"
      ],
      "text/plain": [
       "'<table>\\n<thead>\\n<tr><th>Category           </th><th style=\"text-align: right;\">  #Inputs</th><th>Classifiers  </th><th>accuracy_score  </th><th>precision_score  </th><th>recall_score  </th><th>f1_score  </th></tr>\\n</thead>\\n<tbody>\\n<tr><td>forest             </td><td style=\"text-align: right;\">      120</td><td>Stochastic Gradient Descent    \\n Decsision Tree    \\n AdaBoost    \\n Gaussian Naive Bayes    \\n K Nearest Neighbor    \\n Random Forest              </td><td>0.8055555555555556    \\n 0.8055555555555556    \\n 0.8222222222222222    \\n 0.7222222222222222    \\n 0.7944444444444444    \\n 0.8277777777777777                 </td><td>0.7319711538461539   \\n 0.7232142857142857   \\n 0.7625806451612904   \\n 0.6918160170447424   \\n 0.704045954045954   \\n 0.9088235294117647                  </td><td>0.7709247236357255    \\n 0.7193367257413581    \\n 0.6785400947534656    \\n 0.7685558869977189    \\n 0.6433584839445516    \\n 0.6219512195121951               </td><td>0.7462848858281986    \\n 0.7212266029470331    \\n 0.7031539888682746    \\n 0.6875    \\n 0.6607406652743111    \\n 0.6459166190748143           </td></tr>\\n<tr><td>tundra             </td><td style=\"text-align: right;\">        3</td><td>Stochastic Gradient Descent    \\n Random Forest    \\n AdaBoost    \\n Gaussian Naive Bayes    \\n K Nearest Neighbor    \\n Decsision Tree              </td><td>0.9944444444444445    \\n 0.9944444444444445    \\n 0.9944444444444445    \\n 0.9944444444444445    \\n 0.9944444444444445    \\n 0.9888888888888889                 </td><td>0.49722222222222223   \\n 0.49722222222222223   \\n 0.49722222222222223   \\n 0.49722222222222223   \\n 0.49722222222222223   \\n 0.4972067039106145                  </td><td>0.5    \\n 0.5    \\n 0.5    \\n 0.5    \\n 0.5    \\n 0.4972067039106145               </td><td>0.4986072423398329    \\n 0.4986072423398329    \\n 0.4986072423398329    \\n 0.4986072423398329    \\n 0.4986072423398329    \\n 0.4972067039106145           </td></tr>\\n<tr><td>conserved_areas    </td><td style=\"text-align: right;\">      153</td><td>K Nearest Neighbor    \\n Stochastic Gradient Descent    \\n Gaussian Naive Bayes    \\n AdaBoost    \\n Decsision Tree    \\n Random Forest              </td><td>0.85    \\n 0.8388888888888889    \\n 0.8277777777777777    \\n 0.8333333333333334    \\n 0.8222222222222222    \\n 0.8277777777777777                 </td><td>0.7962962962962963   \\n 0.7813846382409746   \\n 0.7738669238187078   \\n 0.7736742424242424   \\n 0.7593582887700534   \\n 0.7695035460992907                  </td><td>0.8008021390374331    \\n 0.8165106951871658    \\n 0.8322192513368984    \\n 0.7897727272727273    \\n 0.7593582887700534    \\n 0.7476604278074866               </td><td>0.7984991085865916    \\n 0.795382384069617    \\n 0.7915966386554623    \\n 0.7809863724853991    \\n 0.7593582887700534    \\n 0.7572963333478318           </td></tr>\\n<tr><td>freshwater         </td><td style=\"text-align: right;\">       58</td><td>AdaBoost    \\n Stochastic Gradient Descent    \\n K Nearest Neighbor    \\n Decsision Tree    \\n Gaussian Naive Bayes    \\n Random Forest              </td><td>0.9111111111111111    \\n 0.8944444444444445    \\n 0.8944444444444445    \\n 0.8722222222222222    \\n 0.6888888888888889    \\n 0.9                 </td><td>0.7976190476190477   \\n 0.7394715111478117   \\n 0.7394715111478117   \\n 0.6473975126669738   \\n 0.5917065390749601   \\n 0.949438202247191                  </td><td>0.6875    \\n 0.590625    \\n 0.590625    \\n 0.6    \\n 0.715625    \\n 0.55               </td><td>0.725609756097561    \\n 0.6196196196196196    \\n 0.6196196196196196    \\n 0.616346955796497    \\n 0.572228823629265    \\n 0.5642818719741797           </td></tr>\\n<tr><td>grassland          </td><td style=\"text-align: right;\">       48</td><td>Decsision Tree    \\n K Nearest Neighbor    \\n Gaussian Naive Bayes    \\n AdaBoost    \\n Stochastic Gradient Descent    \\n Random Forest              </td><td>0.9111111111111111    \\n 0.9277777777777778    \\n 0.8111111111111111    \\n 0.9111111111111111    \\n 0.9222222222222223    \\n 0.9222222222222223                 </td><td>0.6901893287435455   \\n 0.7685714285714286   \\n 0.5902777777777778   \\n 0.632183908045977   \\n 0.7134831460674158   \\n 0.7134831460674158                  </td><td>0.6901893287435455    \\n 0.601118760757315    \\n 0.7013769363166953    \\n 0.5593803786574871    \\n 0.5327022375215147    \\n 0.5327022375215147               </td><td>0.6901893287435455    \\n 0.6388331532643926    \\n 0.6051612903225807    \\n 0.5764705882352942    \\n 0.5421511627906976    \\n 0.5421511627906976           </td></tr>\\n<tr><td>desert             </td><td style=\"text-align: right;\">       15</td><td>AdaBoost    \\n K Nearest Neighbor    \\n Decsision Tree    \\n Stochastic Gradient Descent    \\n Gaussian Naive Bayes    \\n Random Forest              </td><td>0.9777777777777777    \\n 0.9777777777777777    \\n 0.9611111111111111    \\n 0.9722222222222222    \\n 0.8888888888888888    \\n 0.9777777777777777                 </td><td>0.7443181818181819   \\n 0.7443181818181819   \\n 0.6370767960363336   \\n 0.6581920903954802   \\n 0.5437500000000001   \\n 0.4888888888888889                  </td><td>0.7443181818181819    \\n 0.7443181818181819    \\n 0.7357954545454546    \\n 0.6193181818181819    \\n 0.6988636363636364    \\n 0.5               </td><td>0.7443181818181819    \\n 0.7443181818181819    \\n 0.6717895285230528    \\n 0.6357749898826386    \\n 0.5535714285714286    \\n 0.4943820224719101           </td></tr>\\n<tr><td>marine             </td><td style=\"text-align: right;\">       85</td><td>Stochastic Gradient Descent    \\n AdaBoost    \\n K Nearest Neighbor    \\n Random Forest    \\n Decsision Tree    \\n Gaussian Naive Bayes              </td><td>0.8888888888888888    \\n 0.8777777777777778    \\n 0.8611111111111112    \\n 0.8833333333333333    \\n 0.7944444444444444    \\n 0.6833333333333333                 </td><td>0.7754168028767571   \\n 0.7448337825696316   \\n 0.7083333333333333   \\n 0.8591954022988506   \\n 0.5966666666666667   \\n 0.5937001594896332                  </td><td>0.7174193548387097    \\n 0.7109677419354838    \\n 0.7012903225806452    \\n 0.5967741935483871    \\n 0.6122580645161291    \\n 0.6819354838709677               </td><td>0.7410817031070195    \\n 0.7258377180836333    \\n 0.7047050331386573    \\n 0.6293754289636239    \\n 0.6029806259314456    \\n 0.5808652314228522           </td></tr>\\n<tr><td>wetlands           </td><td style=\"text-align: right;\">       39</td><td>Stochastic Gradient Descent    \\n Gaussian Naive Bayes    \\n Random Forest    \\n K Nearest Neighbor    \\n AdaBoost    \\n Decsision Tree              </td><td>0.9388888888888889    \\n 0.8222222222222222    \\n 0.9333333333333333    \\n 0.9333333333333333    \\n 0.9111111111111111    \\n 0.9                 </td><td>0.9691011235955056   \\n 0.5856524427952999   \\n 0.9664804469273742   \\n 0.9664804469273742   \\n 0.5657142857142857   \\n 0.5367464905037159                  </td><td>0.5769230769230769    \\n 0.6913864578535237    \\n 0.5384615384615384    \\n 0.5384615384615384    \\n 0.5264854905573468    \\n 0.5204974666052511               </td><td>0.6173913043478261    \\n 0.6012184990307394    \\n 0.5540875309661437    \\n 0.5540875309661437    \\n 0.5321637426900585    \\n 0.5235294117647059           </td></tr>\\n<tr><td>human_altered_areas</td><td style=\"text-align: right;\">      222</td><td>Stochastic Gradient Descent    \\n K Nearest Neighbor    \\n Random Forest    \\n AdaBoost    \\n Decsision Tree    \\n Gaussian Naive Bayes              </td><td>0.7944444444444444    \\n 0.75    \\n 0.7444444444444445    \\n 0.7    \\n 0.6611111111111111    \\n 0.6277777777777778                 </td><td>0.7809806034482758   \\n 0.7341718485019786   \\n 0.7534097108565194   \\n 0.6772282683565229   \\n 0.636762360446571   \\n 0.6402439024390244                  </td><td>0.7755250297186633    \\n 0.7188614449874521    \\n 0.6840575881653679    \\n 0.669924712719588    \\n 0.635913353586052    \\n 0.6488574824990094               </td><td>0.7779925997533251    \\n 0.7242553191489363    \\n 0.6924676868221662    \\n 0.6726831896551724    \\n 0.636315458249147    \\n 0.6251748251748251           </td></tr>\\n<tr><td>no tag             </td><td style=\"text-align: right;\">      516</td><td>Stochastic Gradient Descent    \\n Gaussian Naive Bayes    \\n AdaBoost    \\n Random Forest    \\n K Nearest Neighbor    \\n Decsision Tree              </td><td>0.8611111111111112    \\n 0.75    \\n 0.85    \\n 0.8611111111111112    \\n 0.8444444444444444    \\n 0.7833333333333333                 </td><td>0.7259615384615384   \\n 0.6437252685132844   \\n 0.6897590361445782   \\n 0.7382352941176471   \\n 0.6727272727272727   \\n 0.59                  </td><td>0.7047930283224401    \\n 0.7461873638344226    \\n 0.6067538126361656    \\n 0.5980392156862745    \\n 0.6034858387799564    \\n 0.5980392156862745               </td><td>0.7144488863506567    \\n 0.653475935828877    \\n 0.6284119581007721    \\n 0.6234624717596853    \\n 0.6226415094339623    \\n 0.5935383011985409           </td></tr>\\n</tbody>\\n</table>'"
      ]
     },
     "execution_count": 72,
     "metadata": {},
     "output_type": "execute_result"
    }
   ],
   "source": [
    "tabulate(rows, header, tablefmt='html')"
   ]
  },
  {
   "cell_type": "code",
   "execution_count": 59,
   "metadata": {},
   "outputs": [],
   "source": [
    "dff[['accuracy_score', 'precision_score', 'recall_score', 'f1_score']] = dff[['accuracy_score', 'precision_score', 'recall_score', 'f1_score']].astype(float).round(3)"
   ]
  },
  {
   "cell_type": "code",
   "execution_count": 60,
   "metadata": {},
   "outputs": [
    {
     "data": {
      "text/html": [
       "<div>\n",
       "<style scoped>\n",
       "    .dataframe tbody tr th:only-of-type {\n",
       "        vertical-align: middle;\n",
       "    }\n",
       "\n",
       "    .dataframe tbody tr th {\n",
       "        vertical-align: top;\n",
       "    }\n",
       "\n",
       "    .dataframe thead th {\n",
       "        text-align: right;\n",
       "    }\n",
       "</style>\n",
       "<table border=\"1\" class=\"dataframe\">\n",
       "  <thead>\n",
       "    <tr style=\"text-align: right;\">\n",
       "      <th></th>\n",
       "      <th>model_name</th>\n",
       "      <th>accuracy_score</th>\n",
       "      <th>precision_score</th>\n",
       "      <th>recall_score</th>\n",
       "      <th>f1_score</th>\n",
       "    </tr>\n",
       "  </thead>\n",
       "  <tbody>\n",
       "    <tr>\n",
       "      <th>0</th>\n",
       "      <td>Stochastic Gradient Descent</td>\n",
       "      <td>0.861</td>\n",
       "      <td>0.726</td>\n",
       "      <td>0.705</td>\n",
       "      <td>0.714</td>\n",
       "    </tr>\n",
       "    <tr>\n",
       "      <th>4</th>\n",
       "      <td>Gaussian Naive Bayes</td>\n",
       "      <td>0.750</td>\n",
       "      <td>0.644</td>\n",
       "      <td>0.746</td>\n",
       "      <td>0.653</td>\n",
       "    </tr>\n",
       "    <tr>\n",
       "      <th>3</th>\n",
       "      <td>AdaBoost</td>\n",
       "      <td>0.850</td>\n",
       "      <td>0.690</td>\n",
       "      <td>0.607</td>\n",
       "      <td>0.628</td>\n",
       "    </tr>\n",
       "    <tr>\n",
       "      <th>1</th>\n",
       "      <td>Random Forest</td>\n",
       "      <td>0.861</td>\n",
       "      <td>0.738</td>\n",
       "      <td>0.598</td>\n",
       "      <td>0.623</td>\n",
       "    </tr>\n",
       "    <tr>\n",
       "      <th>5</th>\n",
       "      <td>K Nearest Neighbor</td>\n",
       "      <td>0.844</td>\n",
       "      <td>0.673</td>\n",
       "      <td>0.603</td>\n",
       "      <td>0.623</td>\n",
       "    </tr>\n",
       "    <tr>\n",
       "      <th>2</th>\n",
       "      <td>Decsision Tree</td>\n",
       "      <td>0.783</td>\n",
       "      <td>0.590</td>\n",
       "      <td>0.598</td>\n",
       "      <td>0.594</td>\n",
       "    </tr>\n",
       "  </tbody>\n",
       "</table>\n",
       "</div>"
      ],
      "text/plain": [
       "                    model_name  accuracy_score  precision_score  recall_score  \\\n",
       "0  Stochastic Gradient Descent           0.861            0.726         0.705   \n",
       "4         Gaussian Naive Bayes           0.750            0.644         0.746   \n",
       "3                     AdaBoost           0.850            0.690         0.607   \n",
       "1                Random Forest           0.861            0.738         0.598   \n",
       "5           K Nearest Neighbor           0.844            0.673         0.603   \n",
       "2               Decsision Tree           0.783            0.590         0.598   \n",
       "\n",
       "   f1_score  \n",
       "0     0.714  \n",
       "4     0.653  \n",
       "3     0.628  \n",
       "1     0.623  \n",
       "5     0.623  \n",
       "2     0.594  "
      ]
     },
     "execution_count": 60,
     "metadata": {},
     "output_type": "execute_result"
    }
   ],
   "source": [
    "dff"
   ]
  },
  {
   "cell_type": "code",
   "execution_count": null,
   "metadata": {},
   "outputs": [],
   "source": []
  }
 ],
 "metadata": {
  "kernelspec": {
   "display_name": "Python 3",
   "language": "python",
   "name": "python3"
  },
  "language_info": {
   "codemirror_mode": {
    "name": "ipython",
    "version": 3
   },
   "file_extension": ".py",
   "mimetype": "text/x-python",
   "name": "python",
   "nbconvert_exporter": "python",
   "pygments_lexer": "ipython3",
   "version": "3.8.5"
  }
 },
 "nbformat": 4,
 "nbformat_minor": 4
}
