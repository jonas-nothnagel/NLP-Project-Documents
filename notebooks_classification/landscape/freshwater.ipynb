{
 "cells": [
  {
   "cell_type": "code",
   "execution_count": 2,
   "metadata": {},
   "outputs": [
    {
     "name": "stderr",
     "output_type": "stream",
     "text": [
      "[nltk_data] Downloading package stopwords to C:\\Users\\Jonas\n",
      "[nltk_data]     Nothnagel\\AppData\\Roaming\\nltk_data...\n",
      "[nltk_data]   Package stopwords is already up-to-date!\n",
      "[nltk_data] Downloading package punkt to C:\\Users\\Jonas\n",
      "[nltk_data]     Nothnagel\\AppData\\Roaming\\nltk_data...\n",
      "[nltk_data]   Package punkt is already up-to-date!\n",
      "[nltk_data] Downloading package stopwords to C:\\Users\\Jonas\n",
      "[nltk_data]     Nothnagel\\AppData\\Roaming\\nltk_data...\n",
      "[nltk_data]   Package stopwords is already up-to-date!\n",
      "[nltk_data] Downloading package punkt to C:\\Users\\Jonas\n",
      "[nltk_data]     Nothnagel\\AppData\\Roaming\\nltk_data...\n",
      "[nltk_data]   Package punkt is already up-to-date!\n"
     ]
    }
   ],
   "source": [
    "import os\n",
    "import sys\n",
    "sys.path.insert(0, os.path.abspath(os.path.join('../..', 'src')))\n",
    "sys.setrecursionlimit(20500)\n",
    "import pandas as pd\n",
    "import spacy\n",
    "\n",
    "import matplotlib.pyplot as plt\n",
    "import clean_dataset as clean\n",
    "import make_dataset as mk\n",
    "import vectorize_embed as em\n",
    "import tools as tools\n",
    "import models as m\n",
    "\n",
    "import pickle\n",
    "import numpy as np\n",
    "\n",
    "'''features'''\n",
    "from sklearn.preprocessing import LabelEncoder\n",
    "from sklearn.model_selection import train_test_split\n",
    "from sklearn.feature_extraction.text import TfidfVectorizer\n",
    "from sklearn.decomposition import TruncatedSVD\n",
    "from sklearn.preprocessing import label_binarize\n",
    "\n",
    "'''Classifiers'''\n",
    "from sklearn.dummy import DummyClassifier\n",
    "from sklearn.linear_model import SGDClassifier\n",
    "from sklearn.naive_bayes import GaussianNB\n",
    "from sklearn.tree import DecisionTreeClassifier\n",
    "from sklearn.ensemble import RandomForestClassifier, AdaBoostClassifier\n",
    "from sklearn.neighbors import KNeighborsClassifier\n",
    "from sklearn.multiclass import OneVsRestClassifier\n",
    "from sklearn.linear_model import LogisticRegression\n",
    "from sklearn import svm\n",
    "from sklearn.pipeline import Pipeline\n",
    "\n",
    "'''Metrics/Evaluation'''\n",
    "from sklearn.model_selection import GridSearchCV\n",
    "from sklearn.metrics import accuracy_score, precision_score, recall_score, f1_score, roc_curve, auc, confusion_matrix\n",
    "from scipy import interp\n",
    "from itertools import cycle\n",
    "from sklearn.model_selection import cross_val_score\n",
    "from sklearn.metrics import classification_report\n",
    "from sklearn.pipeline import make_pipeline\n",
    "\n",
    "import joblib\n",
    "import seaborn as sns"
   ]
  },
  {
   "cell_type": "code",
   "execution_count": 9,
   "metadata": {},
   "outputs": [],
   "source": [
    "'''import data'''\n",
    "\n",
    "df = pd.read_excel(os.path.abspath(os.path.join('../..', 'data/processed/encoded_labels'))+'/Freshwater.xlsx')  \n",
    "'''lowercase data and str type data'''\n",
    "df['all_text_clean_spacy'] = df['all_text_clean_spacy'].astype(str).apply(clean.basic)\n",
    "df['all_text_clean'] = df['all_text_clean'].astype(str)"
   ]
  },
  {
   "cell_type": "code",
   "execution_count": 10,
   "metadata": {},
   "outputs": [],
   "source": [
    "'''remove small data points'''\n",
    "df_trunc = mk.truncate(df, 300, save=True, printing =False)\n",
    "\n",
    "'''remove french entries'''\n",
    "df_all_clean = clean.detect_lang(df_trunc, \"fr\", printing =False)\n",
    "\n",
    "'''remove spanish entries'''\n",
    "df_all_clean = clean.detect_lang(df_trunc, \"es\", printing =False)"
   ]
  },
  {
   "cell_type": "code",
   "execution_count": 11,
   "metadata": {},
   "outputs": [
    {
     "name": "stdout",
     "output_type": "stream",
     "text": [
      "(58, 9)\n",
      "Index(['Unnamed: 0', 'PIMS_ID', 'all_text_clean', 'all_text_clean_spacy',\n",
      "       'freshwaters', 'rivers_and_river_basins', 'lakes', 'aquifers',\n",
      "       'estuaries'],\n",
      "      dtype='object')\n"
     ]
    }
   ],
   "source": [
    "print(df.shape)\n",
    "print(df.columns)"
   ]
  },
  {
   "cell_type": "code",
   "execution_count": 12,
   "metadata": {},
   "outputs": [
    {
     "data": {
      "text/plain": [
       "<AxesSubplot:>"
      ]
     },
     "execution_count": 12,
     "metadata": {},
     "output_type": "execute_result"
    },
    {
     "data": {
      "image/png": "[encoded data removed]",
      "text/plain": [
       "<Figure size 432x288 with 1 Axes>"
      ]
     },
     "metadata": {},
     "output_type": "display_data"
    }
   ],
   "source": [
    "df[[ 'rivers_and_river_basins', 'lakes', 'aquifers',\n",
    "       'estuaries']].sum(axis=0).sort_values(ascending = False).plot.bar()"
   ]
  },
  {
   "cell_type": "code",
   "execution_count": 6,
   "metadata": {},
   "outputs": [],
   "source": [
    "categories = [ 'rivers_and_river_basins', 'lakes', 'aquifers',\n",
    "       'estuaries']"
   ]
  },
  {
   "cell_type": "code",
   "execution_count": 8,
   "metadata": {},
   "outputs": [
    {
     "name": "stdout",
     "output_type": "stream",
     "text": [
      "processing: rivers_and_river_basins\n",
      "_____\n",
      "rivers_and_river_basins\n",
      "processing: lakes\n",
      "_____\n",
      "processing: aquifers\n",
      "_____\n",
      "processing: estuaries\n",
      "_____\n"
     ]
    }
   ],
   "source": [
    "# iterate over categories and save best models:\n",
    "    #Creating a dict of the models\n",
    "model_dict = {\n",
    "              'Logistic Regression balanced' : LogisticRegression(random_state = 3, class_weight = \"balanced\"),\n",
    "              'Logistic Regression' : LogisticRegression(random_state = 3),\n",
    "              'Stochastic Gradient Descent' : SGDClassifier(random_state=3, loss='log'),\n",
    "              'Stochastic Gradient Descent balanceed' : SGDClassifier(random_state=3, loss='log',class_weight = \"balanced\" ),\n",
    "              'Random Forest': RandomForestClassifier(random_state=3),\n",
    "              'Decsision Tree': DecisionTreeClassifier(random_state=3),\n",
    "              'AdaBoost': AdaBoostClassifier(random_state=3),\n",
    "              'Gaussian Naive Bayes': GaussianNB(),\n",
    "              'K Nearest Neighbor': KNeighborsClassifier()}\n",
    "    \n",
    "for category in categories: \n",
    "    \n",
    "    print('processing:', category)\n",
    "    print('_____')\n",
    "    #Creating the features (tf-idf weights) for the processed text\n",
    "    texts = df_all_clean['all_text_clean'].astype('str')\n",
    "\n",
    "    tfidf_vectorizer = TfidfVectorizer(ngram_range=(1, 2), \n",
    "                                       min_df = 2, \n",
    "                                       max_df = .95)\n",
    "    X = tfidf_vectorizer.fit_transform(texts)     \n",
    "    y = df_all_clean[category].values\n",
    "    \n",
    "    if len(category) > 50:\n",
    "         shorter = category[0:50]\n",
    "         #save vectorizer:\n",
    "         filename = '../../models/tf_idf/landscape/'+shorter+'_'+'vectorizer.sav'\n",
    "         joblib.dump(tfidf_vectorizer, filename)    \n",
    "        \n",
    "    else:\n",
    "        #save vectorizer:\n",
    "        filename = '../../models/tf_idf/landscape/'+category+'_'+'vectorizer.sav'\n",
    "        joblib.dump(tfidf_vectorizer, filename)    \n",
    "        \n",
    "    #Dimenionality reduction. Only using the 100 best features er category\n",
    "    lsa = TruncatedSVD(n_components=100, \n",
    "                       n_iter=10, \n",
    "                       random_state=3)\n",
    "    X = lsa.fit_transform(X)\n",
    "\n",
    "    if len(category) > 50:\n",
    "        print('long')\n",
    "        shorter = category[0:50]\n",
    "        #save lsa model:\n",
    "        filename = '../../models/tf_idf/landscape/'+shorter+'_'+'lsa.sav'\n",
    "        joblib.dump(lsa, filename)\n",
    "    else:\n",
    "        #save vectorizer:\n",
    "        filename = '../../models/tf_idf/landscape/'+category+'_'+'lsa.sav'\n",
    "        joblib.dump(lsa, filename)  \n",
    "    \n",
    "    #Train test split with stratified sampling for evaluation\n",
    "    X_train, X_test, y_train, y_test = train_test_split(X, \n",
    "                                                        y, \n",
    "                                                        test_size = .3, \n",
    "                                                        shuffle = True, \n",
    "                                                        stratify = y, \n",
    "                                                        random_state = 3)\n",
    "    \n",
    "    m.model_score_df(model_dict, category, 'landscape', X_train, X_test, y_train, y_test)"
   ]
  },
  {
   "cell_type": "code",
   "execution_count": 14,
   "metadata": {},
   "outputs": [
    {
     "name": "stdout",
     "output_type": "stream",
     "text": [
      "train size: 39\n",
      "test size: 17\n"
     ]
    },
    {
     "ename": "TypeError",
     "evalue": "__init__() got an unexpected keyword argument 'score'",
     "output_type": "error",
     "traceback": [
      "\u001b[1;31m---------------------------------------------------------------------------\u001b[0m",
      "\u001b[1;31mTypeError\u001b[0m                                 Traceback (most recent call last)",
      "\u001b[1;32m<ipython-input-14-c203502bfb30>\u001b[0m in \u001b[0;36m<module>\u001b[1;34m\u001b[0m\n\u001b[0;32m     23\u001b[0m \u001b[1;33m\u001b[0m\u001b[0m\n\u001b[0;32m     24\u001b[0m \u001b[1;33m\u001b[0m\u001b[0m\n\u001b[1;32m---> 25\u001b[1;33m \u001b[0mclf\u001b[0m \u001b[1;33m=\u001b[0m \u001b[0mLogisticRegression\u001b[0m\u001b[1;33m(\u001b[0m\u001b[0mpenalty\u001b[0m\u001b[1;33m=\u001b[0m\u001b[1;34m'l2'\u001b[0m\u001b[1;33m,\u001b[0m \u001b[0msolver\u001b[0m \u001b[1;33m=\u001b[0m \u001b[1;34m'lbfgs'\u001b[0m\u001b[1;33m,\u001b[0m \u001b[0mclass_weight\u001b[0m\u001b[1;33m=\u001b[0m \u001b[1;34m'balanced'\u001b[0m\u001b[1;33m,\u001b[0m \u001b[0mscore\u001b[0m \u001b[1;33m=\u001b[0m \u001b[1;34m\"recall\"\u001b[0m\u001b[1;33m)\u001b[0m\u001b[1;33m.\u001b[0m\u001b[0mfit\u001b[0m\u001b[1;33m(\u001b[0m\u001b[0mX_train\u001b[0m\u001b[1;33m,\u001b[0m \u001b[0my_train\u001b[0m\u001b[1;33m)\u001b[0m\u001b[1;33m\u001b[0m\u001b[1;33m\u001b[0m\u001b[0m\n\u001b[0m\u001b[0;32m     26\u001b[0m \u001b[0mprint\u001b[0m\u001b[1;33m(\u001b[0m\u001b[1;34m''\u001b[0m\u001b[1;33m)\u001b[0m\u001b[1;33m\u001b[0m\u001b[1;33m\u001b[0m\u001b[0m\n\u001b[0;32m     27\u001b[0m \u001b[0mprint\u001b[0m\u001b[1;33m(\u001b[0m\u001b[1;34m'Training accuracy:'\u001b[0m\u001b[1;33m,\u001b[0m \u001b[0mclf\u001b[0m\u001b[1;33m.\u001b[0m\u001b[0mscore\u001b[0m\u001b[1;33m(\u001b[0m\u001b[0mX_train\u001b[0m\u001b[1;33m,\u001b[0m \u001b[0my_train\u001b[0m\u001b[1;33m)\u001b[0m\u001b[1;33m.\u001b[0m\u001b[0mround\u001b[0m\u001b[1;33m(\u001b[0m\u001b[1;36m3\u001b[0m\u001b[1;33m)\u001b[0m\u001b[1;33m)\u001b[0m\u001b[1;33m\u001b[0m\u001b[1;33m\u001b[0m\u001b[0m\n",
      "\u001b[1;32mC:\\Users\\Jonas\\Anaconda3\\envs\\nce_1\\lib\\site-packages\\sklearn\\utils\\validation.py\u001b[0m in \u001b[0;36minner_f\u001b[1;34m(*args, **kwargs)\u001b[0m\n\u001b[0;32m     70\u001b[0m                           FutureWarning)\n\u001b[0;32m     71\u001b[0m         \u001b[0mkwargs\u001b[0m\u001b[1;33m.\u001b[0m\u001b[0mupdate\u001b[0m\u001b[1;33m(\u001b[0m\u001b[1;33m{\u001b[0m\u001b[0mk\u001b[0m\u001b[1;33m:\u001b[0m \u001b[0marg\u001b[0m \u001b[1;32mfor\u001b[0m \u001b[0mk\u001b[0m\u001b[1;33m,\u001b[0m \u001b[0marg\u001b[0m \u001b[1;32min\u001b[0m \u001b[0mzip\u001b[0m\u001b[1;33m(\u001b[0m\u001b[0msig\u001b[0m\u001b[1;33m.\u001b[0m\u001b[0mparameters\u001b[0m\u001b[1;33m,\u001b[0m \u001b[0margs\u001b[0m\u001b[1;33m)\u001b[0m\u001b[1;33m}\u001b[0m\u001b[1;33m)\u001b[0m\u001b[1;33m\u001b[0m\u001b[1;33m\u001b[0m\u001b[0m\n\u001b[1;32m---> 72\u001b[1;33m         \u001b[1;32mreturn\u001b[0m \u001b[0mf\u001b[0m\u001b[1;33m(\u001b[0m\u001b[1;33m**\u001b[0m\u001b[0mkwargs\u001b[0m\u001b[1;33m)\u001b[0m\u001b[1;33m\u001b[0m\u001b[1;33m\u001b[0m\u001b[0m\n\u001b[0m\u001b[0;32m     73\u001b[0m     \u001b[1;32mreturn\u001b[0m \u001b[0minner_f\u001b[0m\u001b[1;33m\u001b[0m\u001b[1;33m\u001b[0m\u001b[0m\n\u001b[0;32m     74\u001b[0m \u001b[1;33m\u001b[0m\u001b[0m\n",
      "\u001b[1;31mTypeError\u001b[0m: __init__() got an unexpected keyword argument 'score'"
     ]
    }
   ],
   "source": [
    "df_regressors = pd.DataFrame(columns = [\"label\", \"features\", \"score\"])\n",
    "\n",
    "\n",
    "X_train, X_test, y_train, y_test = train_test_split(df_all_clean['all_text_clean_spacy'],\n",
    "                                                    df_all_clean['rivers_and_river_basins'].values,\n",
    "                                                    test_size = .3,\n",
    "                                                    random_state = 1,\n",
    "                                                    shuffle = True)\n",
    "print('train size:', len(X_train))\n",
    "print('test size:', len(X_test))\n",
    "\n",
    "assert len(set(y_train)) == len(set(y_test)), \"Unequal splits with some labels missing\"\n",
    "\n",
    "'''extract features using tfidf vecorization:'''\n",
    "vectorizer = TfidfVectorizer(ngram_range = (1,2),min_df = 0.01, max_df = 0.95)\n",
    "\n",
    "\n",
    "vect = vectorizer.fit(X_train)\n",
    "X_train = vect.transform(X_train)\n",
    "X_test = vect.transform(X_test)\n",
    "\n",
    "\n",
    "\n",
    "\n",
    "clf = LogisticRegression(penalty='l2', solver = 'lbfgs', class_weight= 'balanced').fit(X_train, y_train)\n",
    "print('')\n",
    "print('Training accuracy:', clf.score(X_train, y_train).round(3))\n",
    "print('Test accuracy:', clf.score(X_test, y_test).round(3))\n",
    "y_hat = clf.predict(X_test)\n",
    "print('f1 score:', f1_score(y_test, y_hat))\n",
    "#top regressors \n",
    "#return top  regressors and convert to dataframe for visualisation:\n",
    "df_lambda = tools.get_topwords(clf, vectorizer, n = 8, n_models = 1, show_idxmax = True)\n",
    "keywords = df_lambda.Keywords.iloc[0]\n",
    "\n",
    "for key in keywords:\n",
    "\n",
    "    df_regressors = df_regressors.append({'label': 'persistent_organic_pollutants', \"features\":key}, ignore_index=True)\n",
    "    df_regressors['features'] = df_regressors['features'].astype(str)\n",
    "    df_regressors['features'] = df_regressors['features'].str.replace('(','')\n",
    "    df_regressors['features'] = df_regressors['features'].str.replace(')','')\n",
    "    df_regressors['features'] = df_regressors['features'].str.replace(\"'\",'')               \n",
    "\n",
    "from sklearn.metrics import classification_report\n",
    "print(classification_report(y_test, y_hat))\n",
    "\n",
    "df_regressors[['features','score']] = df_regressors['features'].str.split(',',expand=True)\n",
    "df_regressors['score'] = df_regressors['score'].astype(float)    \n",
    "plt.figure(figsize=(10,10))\n",
    "sns.barplot(x = 'score' , y = 'features', orient = 'h' , data = df_regressors)"
   ]
  },
  {
   "cell_type": "code",
   "execution_count": null,
   "metadata": {},
   "outputs": [],
   "source": []
  }
 ],
 "metadata": {
  "kernelspec": {
   "display_name": "Python 3",
   "language": "python",
   "name": "python3"
  },
  "language_info": {
   "codemirror_mode": {
    "name": "ipython",
    "version": 3
   },
   "file_extension": ".py",
   "mimetype": "text/x-python",
   "name": "python",
   "nbconvert_exporter": "python",
   "pygments_lexer": "ipython3",
   "version": "3.8.5"
  }
 },
 "nbformat": 4,
 "nbformat_minor": 4
}
