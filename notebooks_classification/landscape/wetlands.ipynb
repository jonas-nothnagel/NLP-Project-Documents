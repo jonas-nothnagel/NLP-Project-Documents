{
 "cells": [
  {
   "cell_type": "code",
   "execution_count": 24,
   "metadata": {},
   "outputs": [],
   "source": [
    "import os\n",
    "import sys\n",
    "sys.path.insert(0, os.path.abspath(os.path.join('../..', 'src')))\n",
    "sys.setrecursionlimit(20500)\n",
    "import pandas as pd\n",
    "import spacy\n",
    "\n",
    "import matplotlib.pyplot as plt\n",
    "import clean_dataset as clean\n",
    "import make_dataset as mk\n",
    "import vectorize_embed as em\n",
    "import tools as tools\n",
    "import models as m\n",
    "\n",
    "import pickle\n",
    "import numpy as np\n",
    "\n",
    "'''features'''\n",
    "from sklearn.preprocessing import LabelEncoder\n",
    "from sklearn.model_selection import train_test_split\n",
    "from sklearn.feature_extraction.text import TfidfVectorizer\n",
    "from sklearn.decomposition import TruncatedSVD\n",
    "from sklearn.preprocessing import label_binarize\n",
    "\n",
    "'''Classifiers'''\n",
    "from sklearn.dummy import DummyClassifier\n",
    "from sklearn.linear_model import SGDClassifier\n",
    "from sklearn.naive_bayes import GaussianNB\n",
    "from sklearn.tree import DecisionTreeClassifier\n",
    "from sklearn.ensemble import RandomForestClassifier, AdaBoostClassifier\n",
    "from sklearn.neighbors import KNeighborsClassifier\n",
    "from sklearn.multiclass import OneVsRestClassifier\n",
    "from sklearn.linear_model import LogisticRegression\n",
    "from sklearn import svm\n",
    "from sklearn.pipeline import Pipeline\n",
    "\n",
    "'''Metrics/Evaluation'''\n",
    "from sklearn.model_selection import GridSearchCV\n",
    "from sklearn.metrics import accuracy_score, precision_score, recall_score, f1_score, roc_curve, auc, confusion_matrix\n",
    "from scipy import interp\n",
    "from itertools import cycle\n",
    "from sklearn.model_selection import cross_val_score\n",
    "from sklearn.metrics import classification_report\n",
    "from sklearn.pipeline import make_pipeline\n",
    "\n",
    "import joblib\n",
    "import seaborn as sns"
   ]
  },
  {
   "cell_type": "code",
   "execution_count": 54,
   "metadata": {},
   "outputs": [],
   "source": [
    "'''import data'''\n",
    "\n",
    "df = pd.read_excel(os.path.abspath(os.path.join('../..', 'data/processed/encoded_labels'))+'/Wetlands.xlsx')  \n",
    "'''lowercase data and str type data'''\n",
    "df['all_text_clean_spacy'] = df['all_text_clean_spacy'].astype(str).apply(clean.basic)\n",
    "df['all_text_clean'] = df['all_text_clean'].astype(str)"
   ]
  },
  {
   "cell_type": "code",
   "execution_count": 55,
   "metadata": {},
   "outputs": [],
   "source": [
    "'''remove small data points'''\n",
    "df_trunc = mk.truncate(df, 300, save=True, printing =False)\n",
    "\n",
    "'''remove french entries'''\n",
    "df_all_clean = clean.detect_lang(df_trunc, \"fr\", printing =False)\n",
    "\n",
    "'''remove spanish entries'''\n",
    "df_all_clean = clean.detect_lang(df_trunc, \"es\", printing =False)"
   ]
  },
  {
   "cell_type": "code",
   "execution_count": 27,
   "metadata": {},
   "outputs": [
    {
     "name": "stdout",
     "output_type": "stream",
     "text": [
      "(39, 9)\n",
      "Index(['Unnamed: 0', 'PIMS_ID', 'all_text_clean', 'all_text_clean_spacy',\n",
      "       'wetlands', 'mangroves', 'marshes', 'swamps', 'peatlands'],\n",
      "      dtype='object')\n"
     ]
    }
   ],
   "source": [
    "print(df.shape)\n",
    "print(df.columns)"
   ]
  },
  {
   "cell_type": "code",
   "execution_count": 28,
   "metadata": {},
   "outputs": [
    {
     "data": {
      "text/plain": [
       "<AxesSubplot:>"
      ]
     },
     "execution_count": 28,
     "metadata": {},
     "output_type": "execute_result"
    },
    {
     "data": {
      "image/png": "[encoded data removed]",
      "text/plain": [
       "<Figure size 432x288 with 1 Axes>"
      ]
     },
     "metadata": {},
     "output_type": "display_data"
    }
   ],
   "source": [
    "df[['mangroves', 'marshes', 'swamps', 'peatlands']].sum(axis=0).sort_values(ascending = False).plot.bar()"
   ]
  },
  {
   "cell_type": "code",
   "execution_count": 35,
   "metadata": {},
   "outputs": [],
   "source": [
    "categories = ['mangroves', 'marshes', 'swamps', 'peatlands']"
   ]
  },
  {
   "cell_type": "code",
   "execution_count": 37,
   "metadata": {},
   "outputs": [
    {
     "name": "stdout",
     "output_type": "stream",
     "text": [
      "processing: mangroves\n",
      "_____\n",
      "processing: marshes\n",
      "_____\n",
      "processing: swamps\n",
      "_____\n",
      "processing: peatlands\n",
      "_____\n"
     ]
    }
   ],
   "source": [
    "# iterate over categories and save best models:\n",
    "    #Creating a dict of the models\n",
    "model_dict = {\n",
    "              'Logistic Regression balanced' : LogisticRegression(random_state = 3, class_weight = \"balanced\"),\n",
    "              'Logistic Regression' : LogisticRegression(random_state = 3),\n",
    "              'Stochastic Gradient Descent' : SGDClassifier(random_state=3, loss='log'),\n",
    "              'Stochastic Gradient Descent balanceed' : SGDClassifier(random_state=3, loss='log',class_weight = \"balanced\" ),\n",
    "              'Random Forest': RandomForestClassifier(random_state=3),\n",
    "              'Decsision Tree': DecisionTreeClassifier(random_state=3),\n",
    "              'AdaBoost': AdaBoostClassifier(random_state=3),\n",
    "              'Gaussian Naive Bayes': GaussianNB(),\n",
    "              'K Nearest Neighbor': KNeighborsClassifier()}\n",
    "    \n",
    "for category in categories: \n",
    "    \n",
    "    print('processing:', category)\n",
    "    print('_____')\n",
    "    #Creating the features (tf-idf weights) for the processed text\n",
    "    texts = df_all_clean['all_text_clean'].astype('str')\n",
    "\n",
    "    tfidf_vectorizer = TfidfVectorizer(ngram_range=(1, 2), \n",
    "                                       min_df = 2, \n",
    "                                       max_df = .95)\n",
    "    X = tfidf_vectorizer.fit_transform(texts)     \n",
    "    y = df_all_clean[category].values\n",
    "    \n",
    "    if len(category) > 50:\n",
    "         shorter = category[0:50]\n",
    "         #save vectorizer:\n",
    "         filename = '../../models/tf_idf/landscape/'+shorter+'_'+'vectorizer.sav'\n",
    "         joblib.dump(tfidf_vectorizer, filename)    \n",
    "        \n",
    "    else:\n",
    "        #save vectorizer:\n",
    "        filename = '../../models/tf_idf/landscape/'+category+'_'+'vectorizer.sav'\n",
    "        joblib.dump(tfidf_vectorizer, filename)    \n",
    "        \n",
    "    #Dimenionality reduction. Only using the 100 best features er category\n",
    "    lsa = TruncatedSVD(n_components=100, \n",
    "                       n_iter=10, \n",
    "                       random_state=3)\n",
    "    X = lsa.fit_transform(X)\n",
    "\n",
    "    if len(category) > 50:\n",
    "        print('long')\n",
    "        shorter = category[0:50]\n",
    "        #save lsa model:\n",
    "        filename = '../../models/tf_idf/landscape/'+shorter+'_'+'lsa.sav'\n",
    "        joblib.dump(lsa, filename)\n",
    "    else:\n",
    "        #save vectorizer:\n",
    "        filename = '../../models/tf_idf/landscape/'+category+'_'+'lsa.sav'\n",
    "        joblib.dump(lsa, filename)  \n",
    "    \n",
    "    #Train test split with stratified sampling for evaluation\n",
    "    X_train, X_test, y_train, y_test = train_test_split(X, \n",
    "                                                        y, \n",
    "                                                        test_size = .3, \n",
    "                                                        shuffle = True, \n",
    "                                                        stratify = y, \n",
    "                                                        random_state = 3)\n",
    "    \n",
    "    m.model_score_df(model_dict, category, 'landscape', X_train, X_test, y_train, y_test)"
   ]
  },
  {
   "cell_type": "code",
   "execution_count": 60,
   "metadata": {},
   "outputs": [
    {
     "name": "stdout",
     "output_type": "stream",
     "text": [
      "train size: 26\n",
      "test size: 12\n",
      "\n",
      "Training accuracy: 0.962\n",
      "Test accuracy: 0.583\n",
      "f1 score: 0.6153846153846154\n"
     ]
    },
    {
     "data": {
      "text/plain": [
       "label_1    mangrove\n",
       "dtype: object"
      ]
     },
     "metadata": {},
     "output_type": "display_data"
    },
    {
     "name": "stdout",
     "output_type": "stream",
     "text": [
      "              precision    recall  f1-score   support\n",
      "\n",
      "           0       0.75      0.43      0.55         7\n",
      "           1       0.50      0.80      0.62         5\n",
      "\n",
      "    accuracy                           0.58        12\n",
      "   macro avg       0.62      0.61      0.58        12\n",
      "weighted avg       0.65      0.58      0.57        12\n",
      "\n"
     ]
    },
    {
     "data": {
      "text/plain": [
       "<AxesSubplot:xlabel='score', ylabel='features'>"
      ]
     },
     "execution_count": 60,
     "metadata": {},
     "output_type": "execute_result"
    },
    {
     "data": {
      "image/png": "[encoded data removed]",
      "text/plain": [
       "<Figure size 720x720 with 1 Axes>"
      ]
     },
     "metadata": {},
     "output_type": "display_data"
    }
   ],
   "source": [
    "df_regressors = pd.DataFrame(columns = [\"label\", \"features\", \"score\"])\n",
    "\n",
    "\n",
    "X_train, X_test, y_train, y_test = train_test_split(df_all_clean['all_text_clean_spacy'],\n",
    "                                                    df_all_clean['mangroves'].values,\n",
    "                                                    test_size = .3,\n",
    "                                                    random_state = 1,\n",
    "                                                    shuffle = True)\n",
    "print('train size:', len(X_train))\n",
    "print('test size:', len(X_test))\n",
    "\n",
    "assert len(set(y_train)) == len(set(y_test)), \"Unequal splits with some labels missing\"\n",
    "\n",
    "'''extract features using tfidf vecorization:'''\n",
    "vectorizer = TfidfVectorizer(ngram_range = (1,2),min_df = 0.01, max_df = 0.95)\n",
    "\n",
    "\n",
    "vect = vectorizer.fit(X_train)\n",
    "X_train = vect.transform(X_train)\n",
    "X_test = vect.transform(X_test)\n",
    "\n",
    "weight = 10\n",
    "\n",
    "position = vect.vocabulary_['mangrove']\n",
    "X_train[:, position] *= weight\n",
    "X_test[:, position] *= weight\n",
    "\n",
    "\n",
    "clf = LogisticRegression(penalty='l2', solver = 'lbfgs', class_weight= 'balanced').fit(X_train, y_train)\n",
    "print('')\n",
    "print('Training accuracy:', clf.score(X_train, y_train).round(3))\n",
    "print('Test accuracy:', clf.score(X_test, y_test).round(3))\n",
    "y_hat = clf.predict(X_test)\n",
    "print('f1 score:', f1_score(y_test, y_hat))\n",
    "#top regressors \n",
    "#return top  regressors and convert to dataframe for visualisation:\n",
    "df_lambda = tools.get_topwords(clf, vectorizer, n = 8, n_models = 1, show_idxmax = True)\n",
    "keywords = df_lambda.Keywords.iloc[0]\n",
    "\n",
    "for key in keywords:\n",
    "\n",
    "    df_regressors = df_regressors.append({'label': 'persistent_organic_pollutants', \"features\":key}, ignore_index=True)\n",
    "    df_regressors['features'] = df_regressors['features'].astype(str)\n",
    "    df_regressors['features'] = df_regressors['features'].str.replace('(','')\n",
    "    df_regressors['features'] = df_regressors['features'].str.replace(')','')\n",
    "    df_regressors['features'] = df_regressors['features'].str.replace(\"'\",'')               \n",
    "\n",
    "from sklearn.metrics import classification_report\n",
    "print(classification_report(y_test, y_hat))\n",
    "\n",
    "df_regressors[['features','score']] = df_regressors['features'].str.split(',',expand=True)\n",
    "df_regressors['score'] = df_regressors['score'].astype(float)    \n",
    "plt.figure(figsize=(10,10))\n",
    "sns.barplot(x = 'score' , y = 'features', orient = 'h' , data = df_regressors)"
   ]
  },
  {
   "cell_type": "code",
   "execution_count": null,
   "metadata": {},
   "outputs": [],
   "source": []
  }
 ],
 "metadata": {
  "kernelspec": {
   "display_name": "Python 3",
   "language": "python",
   "name": "python3"
  },
  "language_info": {
   "codemirror_mode": {
    "name": "ipython",
    "version": 3
   },
   "file_extension": ".py",
   "mimetype": "text/x-python",
   "name": "python",
   "nbconvert_exporter": "python",
   "pygments_lexer": "ipython3",
   "version": "3.8.5"
  }
 },
 "nbformat": 4,
 "nbformat_minor": 4
}
