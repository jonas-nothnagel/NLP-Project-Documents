{
 "cells": [
  {
   "cell_type": "code",
   "execution_count": null,
   "metadata": {},
   "outputs": [],
   "source": [
    "'''basics'''\n",
    "import os\n",
    "import sys\n",
    "sys.path.insert(0, os.path.abspath(os.path.join('../..', 'src')))\n",
    "sys.setrecursionlimit(20500)\n",
    "\n",
    "import models as md\n",
    "import pandas as pd\n",
    "\n",
    "'''Plotting'''\n",
    "import matplotlib.pyplot as plt\n",
    "import seaborn as sns\n",
    "sns.set_style('darkgrid')\n",
    "\n",
    "'''helper'''\n",
    "import clean_dataset as clean\n",
    "\n",
    "'''features'''\n",
    "from sklearn.preprocessing import LabelEncoder\n",
    "from sklearn.model_selection import train_test_split\n",
    "from sklearn.feature_extraction.text import TfidfVectorizer\n",
    "from sklearn.decomposition import TruncatedSVD\n",
    "from sklearn.preprocessing import label_binarize\n",
    "\n",
    "'''Classifiers'''\n",
    "from sklearn.dummy import DummyClassifier\n",
    "from sklearn.linear_model import SGDClassifier\n",
    "from sklearn.naive_bayes import GaussianNB\n",
    "from sklearn.tree import DecisionTreeClassifier\n",
    "from sklearn.ensemble import RandomForestClassifier, AdaBoostClassifier\n",
    "from sklearn.neighbors import KNeighborsClassifier\n",
    "from sklearn.multiclass import OneVsRestClassifier\n",
    "from sklearn.linear_model import LogisticRegression\n",
    "from sklearn import svm\n",
    "from sklearn.naive_bayes import MultinomialNB\n",
    "\n",
    "\n",
    "'''Metrics/Evaluation'''\n",
    "from sklearn.model_selection import GridSearchCV\n",
    "from sklearn.metrics import accuracy_score, precision_score, recall_score, f1_score, roc_curve, auc, confusion_matrix\n",
    "from scipy import interp\n",
    "from itertools import cycle\n",
    "from sklearn.model_selection import cross_val_score\n",
    "from sklearn.metrics import classification_report\n",
    "\n",
    "import operator    \n",
    "import joblib"
   ]
  },
  {
   "cell_type": "code",
   "execution_count": null,
   "metadata": {},
   "outputs": [],
   "source": [
    "parent = ['forests','conserved_areas', 'freshwaters', 'grasslands', 'desert',\n",
    "       'marine', 'wetlands', 'human_altered_areas']\n",
    "\n",
    "forests = ['tropical_forests', 'temperate_forests', 'dryland_forests',\n",
    "       'montane_forests', 'intact_forests', 'boreal_forests_taiga_forests']\n",
    "\n",
    "conserved_areas = ['marine_and_coastal_protected_areas',\n",
    "       'terrestrial_protected_areas',\n",
    "       'indigenous_and_communities_conserved_areas_icca',\n",
    "       'transboundary_conservation_areas', 'productive_landscapes_seascapes',\n",
    "       'key_biodiversity_areas_kba',\n",
    "       '_important_bird_and_biodiversity_areas_ibas',\n",
    "       'specially_protected_areas_spas', 'protected_areas_network',\n",
    "       'oecm_other_effective_area_based_conservation_measures',\n",
    "       'locally_managed_marine_areas']\n",
    "\n",
    "freshwaters = [ 'rivers_and_river_basins', 'lakes', 'aquifers',\n",
    "       'estuaries']\n",
    "\n",
    "grasslands = ['grazing_lands', 'tropical_grasslands',\n",
    "       'temperate_grasslands', 'savannas', 'steppes', 'drylands']\n",
    "\n",
    "desert = ['sub_tropical_hot_and_dry_deserts', 'rift_valley',\n",
    "       'semi_arid_cold_winter_deserts']\n",
    "\n",
    "marine = ['seas', 'coasts', 'coral_reefs', 'seagrasses',\n",
    "       'large_marine_ecosystem', 'exclusive_economic_zone',\n",
    "       'areas_beyond_national_jurisdiction']\n",
    "\n",
    "wetlands = ['mangroves', 'marshes', 'swamps', 'peatlands']\n",
    "\n",
    "human_altered_areas = ['urban_areas', 'rural_areas', 'mining_sites',\n",
    "       'industrial_site',\n",
    "       'contaminated_sites']\n",
    "\n",
    "sub_categories = [forests, conserved_areas, freshwaters, grasslands, desert, marine,\n",
    "                 wetlands, human_altered_areas]\n",
    "\n",
    "d = dict(zip(parent, sub_categories)) "
   ]
  },
  {
   "cell_type": "code",
   "execution_count": null,
   "metadata": {
    "scrolled": true
   },
   "outputs": [],
   "source": [
    "input_string =  input(\"Enter your text: \")\n",
    "\n",
    "prediction, probability, hat, hat_2 = md.predict_text(input_string, 'landscape', d, parent_only = False, tfidf =True)"
   ]
  },
  {
   "cell_type": "code",
   "execution_count": null,
   "metadata": {},
   "outputs": [],
   "source": []
  }
 ],
 "metadata": {
  "kernelspec": {
   "display_name": "Python 3",
   "language": "python",
   "name": "python3"
  },
  "language_info": {
   "codemirror_mode": {
    "name": "ipython",
    "version": 3
   },
   "file_extension": ".py",
   "mimetype": "text/x-python",
   "name": "python",
   "nbconvert_exporter": "python",
   "pygments_lexer": "ipython3",
   "version": "3.8.5"
  }
 },
 "nbformat": 4,
 "nbformat_minor": 4
}
