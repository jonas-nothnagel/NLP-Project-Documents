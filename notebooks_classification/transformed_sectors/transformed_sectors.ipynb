{
 "cells": [
  {
   "cell_type": "code",
   "execution_count": 1,
   "metadata": {},
   "outputs": [
    {
     "name": "stderr",
     "output_type": "stream",
     "text": [
      "[nltk_data] Downloading package stopwords to C:\\Users\\Jonas\n",
      "[nltk_data]     Nothnagel\\AppData\\Roaming\\nltk_data...\n",
      "[nltk_data]   Package stopwords is already up-to-date!\n",
      "[nltk_data] Downloading package punkt to C:\\Users\\Jonas\n",
      "[nltk_data]     Nothnagel\\AppData\\Roaming\\nltk_data...\n",
      "[nltk_data]   Package punkt is already up-to-date!\n",
      "[nltk_data] Downloading package stopwords to C:\\Users\\Jonas\n",
      "[nltk_data]     Nothnagel\\AppData\\Roaming\\nltk_data...\n",
      "[nltk_data]   Package stopwords is already up-to-date!\n",
      "[nltk_data] Downloading package punkt to C:\\Users\\Jonas\n",
      "[nltk_data]     Nothnagel\\AppData\\Roaming\\nltk_data...\n",
      "[nltk_data]   Package punkt is already up-to-date!\n"
     ]
    }
   ],
   "source": [
    "import os\n",
    "import sys\n",
    "sys.path.insert(0, os.path.abspath(os.path.join('../..', 'src')))\n",
    "sys.setrecursionlimit(20500)\n",
    "import pandas as pd\n",
    "import spacy\n",
    "\n",
    "import matplotlib.pyplot as plt\n",
    "import clean_dataset as clean\n",
    "import make_dataset as mk\n",
    "import vectorize_embed as em\n",
    "import tools as tools\n",
    "import models as m\n",
    "\n",
    "import pickle\n",
    "import numpy as np\n",
    "\n",
    "'''features'''\n",
    "from sklearn.preprocessing import LabelEncoder\n",
    "from sklearn.model_selection import train_test_split\n",
    "from sklearn.feature_extraction.text import TfidfVectorizer\n",
    "from sklearn.decomposition import TruncatedSVD\n",
    "from sklearn.preprocessing import label_binarize\n",
    "\n",
    "'''Classifiers'''\n",
    "from sklearn.dummy import DummyClassifier\n",
    "from sklearn.linear_model import SGDClassifier\n",
    "from sklearn.naive_bayes import GaussianNB\n",
    "from sklearn.tree import DecisionTreeClassifier\n",
    "from sklearn.ensemble import RandomForestClassifier, AdaBoostClassifier\n",
    "from sklearn.neighbors import KNeighborsClassifier\n",
    "from sklearn.multiclass import OneVsRestClassifier\n",
    "from sklearn.linear_model import LogisticRegression\n",
    "from sklearn import svm\n",
    "from sklearn.pipeline import Pipeline\n",
    "\n",
    "'''Metrics/Evaluation'''\n",
    "from sklearn.model_selection import GridSearchCV\n",
    "from sklearn.metrics import accuracy_score, precision_score, recall_score, f1_score, roc_curve, auc, confusion_matrix\n",
    "from scipy import interp\n",
    "from itertools import cycle\n",
    "from sklearn.model_selection import cross_val_score\n",
    "from sklearn.metrics import classification_report\n",
    "from sklearn.pipeline import make_pipeline\n",
    "\n",
    "import joblib\n",
    "import seaborn as sns"
   ]
  },
  {
   "cell_type": "code",
   "execution_count": 3,
   "metadata": {},
   "outputs": [],
   "source": [
    "'''import data'''\n",
    "\n",
    "df = pd.read_csv(os.path.abspath(os.path.join('../..', 'data/processed/encoded_labels'))+'/transformed_sectors.csv')  \n",
    "'''lowercase data and str type data'''\n",
    "df['all_text_clean_spacy'] = df['all_text_clean_spacy'].astype(str).apply(clean.basic)\n",
    "df['all_text_clean'] = df['all_text_clean'].astype(str)"
   ]
  },
  {
   "cell_type": "code",
   "execution_count": 4,
   "metadata": {},
   "outputs": [
    {
     "name": "stdout",
     "output_type": "stream",
     "text": [
      "(576, 24)\n",
      "Index(['PIMS_ID', 'all_text_clean', 'all_text_clean_spacy',\n",
      "       'transformed_sectors', '_asgm', '_coal', '_metals_and_mining',\n",
      "       '_oil_gas_and_fuels', '_shipping', 'agriculture', 'aquaculture',\n",
      "       'electronic', 'energy', 'fisheries', 'forestry_and_other_land_use',\n",
      "       'health_care', 'high_tech', 'livestock', 'materials_and_manufacturing',\n",
      "       'no tag', 'other_sectors', 'retail', 'tourism', 'transportation'],\n",
      "      dtype='object')\n"
     ]
    }
   ],
   "source": [
    "print(df.shape)\n",
    "print(df.columns)"
   ]
  },
  {
   "cell_type": "code",
   "execution_count": 5,
   "metadata": {},
   "outputs": [
    {
     "data": {
      "text/plain": [
       "<AxesSubplot:>"
      ]
     },
     "execution_count": 5,
     "metadata": {},
     "output_type": "execute_result"
    },
    {
     "data": {
      "image/png": "[encoded data removed]",
      "text/plain": [
       "<Figure size 432x288 with 1 Axes>"
      ]
     },
     "metadata": {},
     "output_type": "display_data"
    }
   ],
   "source": [
    "df[['_asgm', '_coal', '_metals_and_mining',\n",
    "       '_oil_gas_and_fuels', '_shipping', 'agriculture', 'aquaculture',\n",
    "       'electronic', 'energy', 'fisheries', 'forestry_and_other_land_use',\n",
    "       'health_care', 'high_tech', 'livestock', 'materials_and_manufacturing',\n",
    "       'no tag', 'other_sectors', 'retail', 'tourism', 'transportation']].sum(axis=0).sort_values(ascending = False).plot.bar()"
   ]
  },
  {
   "cell_type": "code",
   "execution_count": 14,
   "metadata": {},
   "outputs": [
    {
     "name": "stdout",
     "output_type": "stream",
     "text": [
      "_asgm\n",
      "_metals_and_mining\n",
      "_oil_gas_and_fuels\n",
      "agriculture\n",
      "aquaculture\n",
      "energy\n",
      "fisheries\n",
      "forestry_and_other_land_use\n",
      "livestock\n",
      "materials_and_manufacturing\n",
      "other_sectors\n",
      "tourism\n",
      "transportation\n"
     ]
    }
   ],
   "source": [
    "for category in categories:\n",
    "    if category != \"no tag\":\n",
    "        if df[category].sum(axis=0) > 17:\n",
    "            print(category)\n",
    "    "
   ]
  },
  {
   "cell_type": "code",
   "execution_count": 15,
   "metadata": {},
   "outputs": [],
   "source": [
    "categories = ['_asgm',  '_metals_and_mining',\n",
    "       '_oil_gas_and_fuels', '_shipping', 'agriculture', 'aquaculture',\n",
    "       'energy', 'fisheries', 'forestry_and_other_land_use',\n",
    "       'health_care',  'livestock', 'materials_and_manufacturing',\n",
    "     'other_sectors', 'retail', 'tourism', 'transportation', 'no tag', 'high_tech','_shipping', 'electronic', '_coal']"
   ]
  },
  {
   "cell_type": "code",
   "execution_count": 16,
   "metadata": {},
   "outputs": [
    {
     "name": "stdout",
     "output_type": "stream",
     "text": [
      "processing: _metals_and_mining\n",
      "_____\n",
      "processing: agriculture\n",
      "_____\n",
      "processing: aquaculture\n",
      "_____\n",
      "processing: energy\n",
      "_____\n",
      "processing: fisheries\n",
      "_____\n",
      "processing: forestry_and_other_land_use\n",
      "_____\n",
      "processing: livestock\n",
      "_____\n",
      "processing: materials_and_manufacturing\n",
      "_____\n",
      "processing: other_sectors\n",
      "_____\n",
      "processing: tourism\n",
      "_____\n",
      "processing: transportation\n",
      "_____\n"
     ]
    }
   ],
   "source": [
    "# iterate over categories and save best models:\n",
    "    #Creating a dict of the models\n",
    "model_dict = {\n",
    "              'Logistic Regression balanced' : LogisticRegression(random_state = 3, class_weight = \"balanced\"),\n",
    "              'Logistic Regression' : LogisticRegression(random_state = 3),\n",
    "              'Stochastic Gradient Descent' : SGDClassifier(random_state=3, loss='log'),\n",
    "              'Stochastic Gradient Descent balanceed' : SGDClassifier(random_state=3, loss='log',class_weight = \"balanced\" ),\n",
    "              'Random Forest': RandomForestClassifier(random_state=3),\n",
    "              'Decsision Tree': DecisionTreeClassifier(random_state=3),\n",
    "              'AdaBoost': AdaBoostClassifier(random_state=3),\n",
    "              'Gaussian Naive Bayes': GaussianNB(),\n",
    "              'K Nearest Neighbor': KNeighborsClassifier()}\n",
    "    \n",
    "for category in categories: \n",
    "    if category != \"no tag\":\n",
    "        if df[category].sum(axis=0) > 20:\n",
    "            \n",
    "            print('processing:', category)\n",
    "            print('_____')\n",
    "            #Creating the features (tf-idf weights) for the processed text\n",
    "            texts = df['all_text_clean'].astype('str')\n",
    "\n",
    "            tfidf_vectorizer = TfidfVectorizer(ngram_range=(1, 2), \n",
    "                                               min_df = 2, \n",
    "                                               max_df = .95)\n",
    "            X = tfidf_vectorizer.fit_transform(texts)     \n",
    "            y = df[category].values\n",
    "\n",
    "            if len(category) > 50:\n",
    "                 shorter = category[0:20]\n",
    "                 #save vectorizer:\n",
    "                 filename = '../../models/tf_idf/transformed_sectors/'+shorter+'_'+'vectorizer.sav'\n",
    "                 joblib.dump(tfidf_vectorizer, filename)    \n",
    "\n",
    "            else:\n",
    "                #save vectorizer:\n",
    "                filename = '../../models/tf_idf/transformed_sectors/'+category+'_'+'vectorizer.sav'\n",
    "                joblib.dump(tfidf_vectorizer, filename)    \n",
    "\n",
    "            #Dimenionality reduction. Only using the 100 best features er category\n",
    "            lsa = TruncatedSVD(n_components=100, \n",
    "                               n_iter=10, \n",
    "                               random_state=3)\n",
    "            X = lsa.fit_transform(X)\n",
    "\n",
    "            if len(category) > 50:\n",
    "                print('long')\n",
    "                shorter = category[0:20]\n",
    "                #save lsa model:\n",
    "                filename = '../../models/tf_idf/transformed_sectors/'+shorter+'_'+'lsa.sav'\n",
    "                joblib.dump(lsa, filename)\n",
    "            else:\n",
    "                #save vectorizer:\n",
    "                filename = '../../models/tf_idf/transformed_sectors/'+category+'_'+'lsa.sav'\n",
    "                joblib.dump(lsa, filename)  \n",
    "\n",
    "            #Train test split with stratified sampling for evaluation\n",
    "            X_train, X_test, y_train, y_test = train_test_split(X, \n",
    "                                                                y, \n",
    "                                                                test_size = .3, \n",
    "                                                                shuffle = True, \n",
    "                                                                stratify = y, \n",
    "                                                                random_state = 3)\n",
    "\n",
    "            m.model_score_df(model_dict, category, 'transformed_sectors', X_train, X_test, y_train, y_test)"
   ]
  },
  {
   "cell_type": "code",
   "execution_count": null,
   "metadata": {},
   "outputs": [],
   "source": []
  }
 ],
 "metadata": {
  "kernelspec": {
   "display_name": "Python 3",
   "language": "python",
   "name": "python3"
  },
  "language_info": {
   "codemirror_mode": {
    "name": "ipython",
    "version": 3
   },
   "file_extension": ".py",
   "mimetype": "text/x-python",
   "name": "python",
   "nbconvert_exporter": "python",
   "pygments_lexer": "ipython3",
   "version": "3.8.5"
  }
 },
 "nbformat": 4,
 "nbformat_minor": 4
}
