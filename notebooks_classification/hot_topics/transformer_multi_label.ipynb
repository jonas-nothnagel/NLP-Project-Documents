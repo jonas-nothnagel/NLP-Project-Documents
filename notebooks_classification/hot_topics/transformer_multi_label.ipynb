{
 "cells": [
  {
   "cell_type": "markdown",
   "metadata": {},
   "source": [
    "## Note: Has to be run with GPU support"
   ]
  },
  {
   "cell_type": "code",
   "execution_count": null,
   "metadata": {},
   "outputs": [],
   "source": [
    "!pip install torch===1.7.0 torchvision===0.8.1 torchaudio===0.7.0 -f https://download.pytorch.org/whl/torch_stable.html\n",
    "!pip install --upgrade pip\n",
    "!pip install transformers==3.5.1\n",
    "!pip install tokenizers==0.9.3\n",
    "!pip install xlrd\n",
    "!pip install tabulate\n",
    "!pip install simpletransformers"
   ]
  },
  {
   "cell_type": "code",
   "execution_count": 4,
   "metadata": {},
   "outputs": [
    {
     "data": {
      "text/plain": [
       "'transformer'"
      ]
     },
     "execution_count": 4,
     "metadata": {},
     "output_type": "execute_result"
    }
   ],
   "source": [
    "'''basics'''\n",
    "import os\n",
    "import sys\n",
    "sys.path.insert(0, os.path.abspath(os.path.join('../..', 'src')))\n",
    "sys.setrecursionlimit(20500)\n",
    "\n",
    "import pandas as pd\n",
    "import pickle \n",
    "import numpy as np\n",
    "\n",
    "import sklearn\n",
    "\n",
    "from sklearn.metrics import f1_score, accuracy_score\n",
    "from sklearn.model_selection import train_test_split\n",
    "import numpy as np\n",
    "from ipywidgets import IntProgress\n",
    "#from tabulate import tabulate\n",
    "import string\n",
    "import re\n",
    "\n",
    "'''transformer'''\n",
    "# from simpletransformers.classification import (MultiLabelClassificationModel, MultiLabelClassificationArgs)\n",
    "# #from simpletransformers.classification import ClassificationModel, ClassificationArgs\n",
    "# import torch\n",
    "# from scipy.special import softmax\n",
    "# import numpy\n",
    "# import pandas as pd\n",
    "# import logging\n",
    "# import wandb"
   ]
  },
  {
   "cell_type": "code",
   "execution_count": 5,
   "metadata": {},
   "outputs": [],
   "source": [
    "#df = pd.read_csv('_hot_topics_clean.csv')  \n",
    "\n",
    "df = pd.read_csv(os.path.abspath(os.path.join('../..', 'data/processed/encoded_labels'))+'/_hot_topics.csv') "
   ]
  },
  {
   "cell_type": "code",
   "execution_count": 16,
   "metadata": {},
   "outputs": [
    {
     "name": "stderr",
     "output_type": "stream",
     "text": [
      "<ipython-input-16-f28a2c8caafe>:14: SettingWithCopyWarning: \n",
      "A value is trying to be set on a copy of a slice from a DataFrame.\n",
      "Try using .loc[row_indexer,col_indexer] = value instead\n",
      "\n",
      "See the caveats in the documentation: https://pandas.pydata.org/pandas-docs/stable/user_guide/indexing.html#returning-a-view-versus-a-copy\n",
      "  df_relevant['labels'] = list(df_relevant[label_cols].values)\n"
     ]
    }
   ],
   "source": [
    "# transform to multi label problem\n",
    "\n",
    "df_relevant = df[['all_text_clean',\n",
    "       'food_and_agricultural_commodities_strategy', 'green_recovery',\n",
    "       'health', 'human_rights', 'leaving_no_one_behind',\n",
    "       'multi_stakeholder_collaboration', 'nature_based_solution', 'no tag',\n",
    "       'plastic', 'poverty_reduction', 'public_private_partnership', 'sids',\n",
    "       'south_south_cooperation', 'structural_system_transformation']]\n",
    "\n",
    "cols = df_relevant.columns\n",
    "label_cols = list(cols[1:])\n",
    "num_labels = len(label_cols)\n",
    "\n",
    "df_relevant['labels'] = list(df_relevant[label_cols].values)\n",
    "df_alpha = df_relevant[['all_text_clean', 'labels']]"
   ]
  },
  {
   "cell_type": "code",
   "execution_count": null,
   "metadata": {},
   "outputs": [],
   "source": [
    "logging.basicConfig(level=logging.INFO)\n",
    "transformers_logger = logging.getLogger(\"transformers\")\n",
    "transformers_logger.setLevel(logging.WARNING)"
   ]
  },
  {
   "cell_type": "code",
   "execution_count": null,
   "metadata": {},
   "outputs": [],
   "source": [
    "\"\"\"No Hyperparameter tuning - simple model training\"\"\"\n",
    "\n",
    "\n",
    "model = MultiLabelClassificationModel('longformer', \n",
    "                                      'allenai/longformer-base-4096', \n",
    "                                      num_labels=num_labels, \n",
    "                                      #pos_weight = weights,\n",
    "                                      args={'overwrite_output_dir': True, 'max_seq_length': 4096, \"save_eval_checkpoints\": False, \"train_batch_size\": 1, \n",
    "                                            \"fp16\": True, \"num_train_epochs\": 5})\n",
    "\n",
    "# Train the model\n",
    "model.train_model(train_df, eval_df=eval_df)\n",
    "\n",
    "# Evaluate the model\n",
    "result, model_outputs, wrong_predictions = model.eval_model(eval_df)"
   ]
  }
 ],
 "metadata": {
  "kernelspec": {
   "display_name": "Python 3",
   "language": "python",
   "name": "python3"
  },
  "language_info": {
   "codemirror_mode": {
    "name": "ipython",
    "version": 3
   },
   "file_extension": ".py",
   "mimetype": "text/x-python",
   "name": "python",
   "nbconvert_exporter": "python",
   "pygments_lexer": "ipython3",
   "version": "3.8.5"
  }
 },
 "nbformat": 4,
 "nbformat_minor": 4
}
