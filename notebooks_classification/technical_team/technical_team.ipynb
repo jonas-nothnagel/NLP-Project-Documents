{
 "cells": [
  {
   "cell_type": "code",
   "execution_count": 4,
   "metadata": {},
   "outputs": [
    {
     "data": {
      "text/html": [
       "<style>\n",
       "    table.eli5-weights tr:hover {\n",
       "        filter: brightness(85%);\n",
       "    }\n",
       "</style>"
      ],
      "text/plain": [
       "<IPython.core.display.HTML object>"
      ]
     },
     "metadata": {},
     "output_type": "display_data"
    }
   ],
   "source": [
    "import os\n",
    "import sys\n",
    "sys.path.insert(0, os.path.abspath(os.path.join('../..', 'src')))\n",
    "sys.setrecursionlimit(20500)\n",
    "import pandas as pd\n",
    "import spacy\n",
    "\n",
    "import matplotlib.pyplot as plt\n",
    "#import clean_dataset as clean\n",
    "#import make_dataset as mk\n",
    "#import vectorize_embed as em\n",
    "import tools as tools\n",
    "import models as m\n",
    "\n",
    "import pickle\n",
    "import numpy as np\n",
    "\n",
    "'''features'''\n",
    "from sklearn.preprocessing import LabelEncoder\n",
    "from sklearn.model_selection import train_test_split\n",
    "from sklearn.feature_extraction.text import TfidfVectorizer\n",
    "from sklearn.decomposition import TruncatedSVD\n",
    "from sklearn.preprocessing import label_binarize\n",
    "\n",
    "'''Classifiers'''\n",
    "from sklearn.dummy import DummyClassifier\n",
    "from sklearn.linear_model import SGDClassifier\n",
    "from sklearn.naive_bayes import GaussianNB\n",
    "from sklearn.tree import DecisionTreeClassifier\n",
    "from sklearn.ensemble import RandomForestClassifier, AdaBoostClassifier\n",
    "from sklearn.neighbors import KNeighborsClassifier\n",
    "from sklearn.multiclass import OneVsRestClassifier\n",
    "from sklearn.linear_model import LogisticRegression\n",
    "from sklearn import svm\n",
    "from sklearn.pipeline import Pipeline\n",
    "\n",
    "'''Metrics/Evaluation'''\n",
    "from sklearn.model_selection import GridSearchCV\n",
    "from sklearn.metrics import accuracy_score, precision_score, recall_score, f1_score, roc_curve, auc, confusion_matrix\n",
    "from scipy import interp\n",
    "from itertools import cycle\n",
    "from sklearn.model_selection import cross_val_score\n",
    "from sklearn.metrics import classification_report\n",
    "from sklearn.pipeline import make_pipeline\n",
    "\n",
    "import joblib\n",
    "\n",
    "'''eli5'''\n",
    "import eli5\n",
    "from eli5 import explain_weights, explain_prediction, show_prediction\n",
    "from eli5.formatters import format_as_html, format_as_text, format_html_styles, fields\n",
    "from IPython.core.display import display, HTML\n",
    "show_html = lambda html: display(HTML(html))\n",
    "show_html_expl = lambda expl, **kwargs: show_html(format_as_html(expl, include_styles=False, **kwargs))\n",
    "show_html(format_html_styles())\n",
    "from eli5.lime import TextExplainer"
   ]
  },
  {
   "cell_type": "code",
   "execution_count": 5,
   "metadata": {},
   "outputs": [],
   "source": [
    "'''import data'''\n",
    "\n",
    "df = pd.read_csv(os.path.abspath(os.path.join('../..', 'data/processed/'))+'/technical_team.csv')  \n",
    "'''lowercase data and str type data'''\n",
    "df['all_text_clean_spacy'] = df['all_text_clean_spacy'].astype(str).apply(clean.basic)\n",
    "df['all_text_clean'] = df['all_text_clean'].astype(str)\n"
   ]
  },
  {
   "cell_type": "code",
   "execution_count": 8,
   "metadata": {},
   "outputs": [
    {
     "data": {
      "text/plain": [
       "39"
      ]
     },
     "execution_count": 8,
     "metadata": {},
     "output_type": "execute_result"
    }
   ],
   "source": [
    "df.chemicals_and_waste_programme.sum()"
   ]
  },
  {
   "cell_type": "code",
   "execution_count": 6,
   "metadata": {},
   "outputs": [],
   "source": [
    "categories = [ 'chemicals_and_waste_programme', 'persistent_organic_pollutants',\n",
    "       'ozone_depleting_substances', 'heavy_metals', 'chemical_waste_management',\n",
    "       'cooling_alternatives', 'climate_change_adaptation_programme',\n",
    "       'climate_information_and_early_warning_systems_ci_ews',\n",
    "       'cross_sectoral_climate_resilient_livelihoods',\n",
    "       'fostering_food_security_and_resilient_agricultural_systems',\n",
    "       'mainstreaming_integrated_policy_and_planning_for_climate_resilient_sustainable_development',\n",
    "       'ecosystem_based_adaptation', 'urban_resilience',\n",
    "       'climate_resilient_integrated_water_resource_and_coastal_management',\n",
    "       'climate_forest_of_climate_change_mitigation', 'carbon_sequestration',\n",
    "       'climate_financing_for_redd_redd',\n",
    "       'climate_strategies_and_policy_programme',\n",
    "       'ecosystems_and_biodiversity_programme',\n",
    "       'ecosystem_management_and_restoration', 'mainstreaming_biodiversity',\n",
    "       'strengthening_conservation_areas',\n",
    "       'energy_program_of_climate_change_mitigation', 'energy_efficiency',\n",
    "       'renewable_energy', 'energy_access', 'miscellaneous_energy_program',\n",
    "       'oceans_and_water_programme', 'small_island_dev_states_program_sids',\n",
    "       'climate_resilient_access_to_water_supply_sanitation',\n",
    "       'climate_resilient_integrated_water_resource_coastal_area_management',\n",
    "       'cross_cutting_governance_and_learning',\n",
    "       'protection_of_transboundary_surface_groundwater_resources_in_a_changing_climate',\n",
    "       'sustainable_management_of_oceans_in_a_changing_climate',\n",
    "       'environmental_governance_programme', 'mainstreaming_green_economy',\n",
    "       'gcp_green_commodities_programme']"
   ]
  },
  {
   "cell_type": "code",
   "execution_count": 162,
   "metadata": {},
   "outputs": [
    {
     "ename": "NameError",
     "evalue": "name 'categories' is not defined",
     "output_type": "error",
     "traceback": [
      "\u001b[1;31m---------------------------------------------------------------------------\u001b[0m",
      "\u001b[1;31mNameError\u001b[0m                                 Traceback (most recent call last)",
      "\u001b[1;32m<ipython-input-162-0b789798f83a>\u001b[0m in \u001b[0;36m<module>\u001b[1;34m\u001b[0m\n\u001b[0;32m     12\u001b[0m               'KNB': KNeighborsClassifier()}\n\u001b[0;32m     13\u001b[0m \u001b[1;33m\u001b[0m\u001b[0m\n\u001b[1;32m---> 14\u001b[1;33m \u001b[1;32mfor\u001b[0m \u001b[0mcategory\u001b[0m \u001b[1;32min\u001b[0m \u001b[0mcategories\u001b[0m\u001b[1;33m:\u001b[0m\u001b[1;33m\u001b[0m\u001b[1;33m\u001b[0m\u001b[0m\n\u001b[0m\u001b[0;32m     15\u001b[0m     \u001b[1;32mif\u001b[0m \u001b[0mcategory\u001b[0m \u001b[1;33m!=\u001b[0m \u001b[1;34m\"no tag\"\u001b[0m\u001b[1;33m:\u001b[0m\u001b[1;33m\u001b[0m\u001b[1;33m\u001b[0m\u001b[0m\n\u001b[0;32m     16\u001b[0m         \u001b[1;32mif\u001b[0m \u001b[0mdf\u001b[0m\u001b[1;33m[\u001b[0m\u001b[0mcategory\u001b[0m\u001b[1;33m]\u001b[0m\u001b[1;33m.\u001b[0m\u001b[0msum\u001b[0m\u001b[1;33m(\u001b[0m\u001b[0maxis\u001b[0m\u001b[1;33m=\u001b[0m\u001b[1;36m0\u001b[0m\u001b[1;33m)\u001b[0m \u001b[1;33m>\u001b[0m \u001b[1;36m20\u001b[0m\u001b[1;33m:\u001b[0m\u001b[1;33m\u001b[0m\u001b[1;33m\u001b[0m\u001b[0m\n",
      "\u001b[1;31mNameError\u001b[0m: name 'categories' is not defined"
     ]
    }
   ],
   "source": [
    "# iterate over categories and save best models:\n",
    "    #Creating a dict of the models\n",
    "model_dict = {\n",
    "              'LR_balanced' : LogisticRegression(random_state = 3, class_weight = \"balanced\"),\n",
    "              'LR' : LogisticRegression(random_state = 3),\n",
    "              'SDG' : SGDClassifier(random_state=3, loss='log'),\n",
    "              'SDG_balanceed' : SGDClassifier(random_state=3, loss='log',class_weight = \"balanced\" ),\n",
    "              'RF': RandomForestClassifier(random_state=3),\n",
    "              'Decsision_Tree': DecisionTreeClassifier(random_state=3),\n",
    "              'AdaBoost': AdaBoostClassifier(random_state=3),\n",
    "              'GNB': GaussianNB(),\n",
    "              'KNB': KNeighborsClassifier()}\n",
    "    \n",
    "for category in categories: \n",
    "    if category != \"no tag\":\n",
    "        if df[category].sum(axis=0) > 20:\n",
    "            \n",
    "            print('processing:', category)\n",
    "            print('_____')\n",
    "            #Creating the features (tf-idf weights) for the processed text\n",
    "            texts = df['all_text_clean'].astype('str')\n",
    "\n",
    "            tfidf_vectorizer = TfidfVectorizer(ngram_range=(1, 2), \n",
    "                                               min_df = 2, \n",
    "                                               max_df = .95)\n",
    "            X = tfidf_vectorizer.fit_transform(texts)     \n",
    "            y = df[category].values\n",
    "\n",
    "            if len(category) > 50:\n",
    "                 shorter = category[0:20]\n",
    "                 #save vectorizer:\n",
    "                 filename = '../../models/tf_idf/technical_team/'+shorter+'_'+'vectorizer.sav'\n",
    "                 joblib.dump(tfidf_vectorizer, filename)    \n",
    "\n",
    "            else:\n",
    "                #save vectorizer:\n",
    "                filename = '../../models/tf_idf/technical_team/'+category+'_'+'vectorizer.sav'\n",
    "                joblib.dump(tfidf_vectorizer, filename)    \n",
    "\n",
    "            #Dimenionality reduction. Only using the 100 best features er category\n",
    "            lsa = TruncatedSVD(n_components=100, \n",
    "                               n_iter=10, \n",
    "                               random_state=3)\n",
    "            X = lsa.fit_transform(X)\n",
    "\n",
    "            if len(category) > 50:\n",
    "                print('long')\n",
    "                shorter = category[0:20]\n",
    "                #save lsa model:\n",
    "                filename = '../../models/tf_idf/technical_team/'+shorter+'_'+'lsa.sav'\n",
    "                joblib.dump(lsa, filename)\n",
    "            else:\n",
    "                #save vectorizer:\n",
    "                filename = '../../models/tf_idf/technical_team/'+category+'_'+'lsa.sav'\n",
    "                joblib.dump(lsa, filename)  \n",
    "\n",
    "            #Train test split with stratified sampling for evaluation\n",
    "            X_train, X_test, y_train, y_test = train_test_split(X, \n",
    "                                                                y, \n",
    "                                                                test_size = .3, \n",
    "                                                                shuffle = True, \n",
    "                                                                stratify = y, \n",
    "                                                                random_state = 3)\n",
    "\n",
    "            m.model_score_df(model_dict, category, 'technical_team', X_train, X_test, y_train, y_test)"
   ]
  },
  {
   "cell_type": "code",
   "execution_count": 161,
   "metadata": {},
   "outputs": [
    {
     "name": "stdout",
     "output_type": "stream",
     "text": [
      "\n",
      "Training accuracy: 1.0\n",
      "Test accuracy: 0.994\n",
      "f1 score: 0.9565217391304348\n"
     ]
    },
    {
     "data": {
      "text/plain": [
       "label_1    mercury\n",
       "dtype: object"
      ]
     },
     "metadata": {},
     "output_type": "display_data"
    },
    {
     "name": "stdout",
     "output_type": "stream",
     "text": [
      "              precision    recall  f1-score   support\n",
      "\n",
      "           0       0.99      1.00      1.00       161\n",
      "           1       1.00      0.92      0.96        12\n",
      "\n",
      "    accuracy                           0.99       173\n",
      "   macro avg       1.00      0.96      0.98       173\n",
      "weighted avg       0.99      0.99      0.99       173\n",
      "\n"
     ]
    },
    {
     "data": {
      "text/plain": [
       "<AxesSubplot:xlabel='score', ylabel='features'>"
      ]
     },
     "execution_count": 161,
     "metadata": {},
     "output_type": "execute_result"
    },
    {
     "data": {
      "image/png": "[encoded data removed]",
      "text/plain": [
       "<Figure size 720x720 with 1 Axes>"
      ]
     },
     "metadata": {},
     "output_type": "display_data"
    }
   ],
   "source": [
    "df_regressors = pd.DataFrame(columns = [\"label\", \"features\", \"score\"])\n",
    "\n",
    "\n",
    "X_train, X_test, y_train, y_test = train_test_split(df['all_text_clean_spacy'],\n",
    "                                                    df['chemicals_and_waste_programme'],\n",
    "                                                    test_size = .3,\n",
    "                                                    random_state = 1,\n",
    "                                                    shuffle = True, \n",
    "                                                    stratify = df['chemicals_and_waste_programme'].values)\n",
    "\n",
    "\n",
    "'''extract features using tfidf vecorization:'''\n",
    "vectorizer = TfidfVectorizer(ngram_range = (1,2),min_df = 2, max_df = 0.95)\n",
    "\n",
    "vect = vectorizer.fit(X_train)\n",
    "X_train = vect.transform(X_train)\n",
    "X_test = vect.transform(X_test)\n",
    "\n",
    "fnames = vect.get_feature_names()\n",
    "\n",
    "clf = LogisticRegression(penalty='l2', solver = 'lbfgs', class_weight= 'balanced').fit(X_train, y_train)\n",
    "print('')\n",
    "print('Training accuracy:', clf.score(X_train, y_train).round(3))\n",
    "print('Test accuracy:', clf.score(X_test, y_test).round(3))\n",
    "y_hat = clf.predict(X_test)\n",
    "print('f1 score:', f1_score(y_test, y_hat))\n",
    "#top regressors \n",
    "#return top  regressors and convert to dataframe for visualisation:\n",
    "df_lambda = tools.get_topwords(clf, vectorizer, n = 8, n_models = 1, show_idxmax = True)\n",
    "keywords = df_lambda.Keywords.iloc[0]\n",
    "\n",
    "for key in keywords:\n",
    "\n",
    "    df_regressors = df_regressors.append({'label': 'persistent_organic_pollutants', \"features\":key}, ignore_index=True)\n",
    "    df_regressors['features'] = df_regressors['features'].astype(str)\n",
    "    df_regressors['features'] = df_regressors['features'].str.replace('(','')\n",
    "    df_regressors['features'] = df_regressors['features'].str.replace(')','')\n",
    "    df_regressors['features'] = df_regressors['features'].str.replace(\"'\",'')               \n",
    "\n",
    "from sklearn.metrics import classification_report\n",
    "print(classification_report(y_test, y_hat))\n",
    "\n",
    "df_regressors[['features','score']] = df_regressors['features'].str.split(',',expand=True)\n",
    "df_regressors['score'] = df_regressors['score'].astype(float)    \n",
    "plt.figure(figsize=(10,10))\n",
    "sns.barplot(x = 'score' , y = 'features', orient = 'h' , data = df_regressors)"
   ]
  },
  {
   "cell_type": "code",
   "execution_count": 28,
   "metadata": {},
   "outputs": [
    {
     "data": {
      "text/plain": [
       "TfidfVectorizer(max_df=0.95, min_df=2, ngram_range=(1, 2))"
      ]
     },
     "execution_count": 28,
     "metadata": {},
     "output_type": "execute_result"
    }
   ],
   "source": [
    "vect"
   ]
  },
  {
   "cell_type": "code",
   "execution_count": 39,
   "metadata": {},
   "outputs": [
    {
     "data": {
      "text/plain": [
       "[     Weight?         Feature\n",
       " 0     +2.999         mercury\n",
       " 1     +2.806             pop\n",
       " 2     +2.709             pcb\n",
       " 3     +1.732           waste\n",
       " 4     +1.628            asgm\n",
       " ...      ...             ...\n",
       " 4997  -0.619            area\n",
       " 4998  -0.625  climate change\n",
       " 4999  -0.663          change\n",
       " 5000  -1.130         climate\n",
       " 5001  -1.454          <BIAS>\n",
       " \n",
       " [5002 rows x 2 columns]]"
      ]
     },
     "execution_count": 39,
     "metadata": {},
     "output_type": "execute_result"
    }
   ],
   "source": [
    "w = eli5.show_weights(clf, feature_names=fnames, top=5000)\n",
    "result = pd.read_html(w.data)\n",
    "result"
   ]
  },
  {
   "cell_type": "code",
   "execution_count": 163,
   "metadata": {},
   "outputs": [
    {
     "name": "stdout",
     "output_type": "stream",
     "text": [
      "Toxic chemicals are found in all ecosystems on Earth, including Antarctica and the most remote seas, affecting biodiversity, agricultural production, water quality, and human health. Over 100 million man-made chemicals and chemical formulations are used in every sector of the industrial economy. Many chemicals, such as persistent organic pollutants (POPs) and mercury, travel over large distances through air, water currents and in migratory species. Some POPs can remain in the human body for more than 50 years. Mercury, an element, is infinitely persistent.  When used improperly or disposed of unsafely, chemicals pose significant risks for both the environment and human health: scientists estimate that just about every person on the planet carries within their body a large number of chemical contaminants that have an unknown impact on their well-being.  Due to the global impact on human health and the environment some of these highly dangerous chemicals are controlled by international law. Among the most significant agreements that cover the way chemicals are used and managed at the end of life are the Stockholm Convention on Persistent Organic Pollutants, the Minamata Convention on Mercury, and the Montreal Protocol on Substances that Deplete the Ozone Layer. Despite the advances made under these agreements, the production, use, and disposal of chemicals are rapidly increasing in developing countries and countries in economic transition. These rapid changes increase economic opportunities, but they must be matched by enhanced programs and initiatives for sound chemicals and waste management. The cost to national economies of human and environmental exposure to harmful chemicals is often unrecognized, but can be substantial.  Complicating matters further, in the pursuit of new materials and chemicals many manufacturers do not always conduct sufficient analysis of the potential harmful impacts of their products before they are used commercially, which often results in significant harm to humans as well as wild species and terrestrial, freshwater, and marine ecosystems. Neonicotinoid pesticides, for example, which are the most widely used insecticides in agriculture have now been linked to the current decline in bee populations.  Barriers in the private sector often hinder the possibility of change in the way chemicals are produced and managed. Small companies in particular find it difficult to afford ‘greener’ practices. Furthermore, scientists and regulatory agencies lack robust data and information on toxic chemicals, partly due to weak capacity in developing countries, which in turn affects the possibilities of bringing science-based reports to policy makers.\n"
     ]
    }
   ],
   "source": [
    "input_string = input()\n",
    "input_list = [input_string]\n",
    "input_df = pd.DataFrame(input_list, columns =['all_text_clean_spacy'])\n",
    "input_df['all_text_clean_spacy'] = input_df['all_text_clean_spacy'].apply(clean.spacy_clean)\n",
    "clean_df = pd.Series(input_df['all_text_clean_spacy'])"
   ]
  },
  {
   "cell_type": "code",
   "execution_count": 193,
   "metadata": {},
   "outputs": [
    {
     "data": {
      "text/plain": [
       "\"<div> <span class='highlight green'>waste</div>\""
      ]
     },
     "execution_count": 193,
     "metadata": {},
     "output_type": "execute_result"
    }
   ],
   "source": [
    "w = show_prediction(clf, vect.transform(clean_df), \n",
    "                highlight_spaces = True, \n",
    "                top=5000, \n",
    "                feature_names=fnames, \n",
    "                show_feature_values  = True)\n",
    "\n",
    "result = pd.read_html(w.data)[0]\n",
    "result = result[['Feature']]\n",
    "top_5 = result.Feature.iloc[0:5].tolist()\n",
    "top_5_10 = result.Feature.iloc[5:10].tolist()\n",
    "last_5 = result.Feature.iloc[-5:].tolist()\n",
    "top_5_10 = result.Feature.iloc[-10:].tolist()\n",
    "top_5_10 = list(set(top_5_10) - set(last_5))\n",
    "\n",
    "for i in top_5:\n",
    "    green = \"<div> <span class='highlight green'>\"+i+\"</div>\"\n",
    "    \n",
    "green"
   ]
  },
  {
   "cell_type": "markdown",
   "metadata": {},
   "source": [
    "## WITH LSA"
   ]
  },
  {
   "cell_type": "code",
   "execution_count": 119,
   "metadata": {},
   "outputs": [
    {
     "name": "stdout",
     "output_type": "stream",
     "text": [
      "Test accuracy: 0.994\n",
      "f1 score: 0.9565217391304348\n",
      "              precision    recall  f1-score   support\n",
      "\n",
      "           0       0.99      1.00      1.00       161\n",
      "           1       1.00      0.92      0.96        12\n",
      "\n",
      "    accuracy                           0.99       173\n",
      "   macro avg       1.00      0.96      0.98       173\n",
      "weighted avg       0.99      0.99      0.99       173\n",
      "\n"
     ]
    }
   ],
   "source": [
    "#Creating the features (tf-idf weights) for the processed text\n",
    "texts = df['all_text_clean'].astype('str')\n",
    "\n",
    "vec = TfidfVectorizer(ngram_range=(1, 2), \n",
    "                                   min_df = 2, \n",
    "                                   max_df = .95)\n",
    "\n",
    "#Dimenionality reduction. Only using the 250 best features er category\n",
    "svd = TruncatedSVD(n_components=250, \n",
    "                   n_iter=20, \n",
    "                   random_state=3)\n",
    "\n",
    "lsa = make_pipeline(vec, svd)\n",
    "clf = LogisticRegression(penalty='l2', solver = 'lbfgs', class_weight= 'balanced')\n",
    "\n",
    "pipe = make_pipeline(lsa, clf)\n",
    "\n",
    "#Train test split with stratified sampling for evaluation\n",
    "X_train, X_test, y_train, y_test = train_test_split(df['all_text_clean_spacy'],\n",
    "                                                    df['chemicals_and_waste_programme'],\n",
    "                                                    test_size = .3,\n",
    "                                                    random_state = 1,\n",
    "                                                    shuffle = True, \n",
    "                                                    stratify = df['chemicals_and_waste_programme'].values)\n",
    "\n",
    "pipe.fit(X_train, y_train)\n",
    "pipe.score(X_test, y_test)\n",
    "\n",
    "print('Test accuracy:', pipe.score(X_test, y_test).round(3))\n",
    "y_hat = pipe.predict(X_test)\n",
    "print('f1 score:', f1_score(y_test, y_hat))            \n",
    "\n",
    "from sklearn.metrics import classification_report\n",
    "print(classification_report(y_test, y_hat))"
   ]
  },
  {
   "cell_type": "code",
   "execution_count": 159,
   "metadata": {},
   "outputs": [
    {
     "data": {
      "text/plain": [
       "array([[0.42495892, 0.57504108]])"
      ]
     },
     "execution_count": 159,
     "metadata": {},
     "output_type": "execute_result"
    }
   ],
   "source": [
    "pipe.predict_proba(clean_df)"
   ]
  },
  {
   "cell_type": "code",
   "execution_count": 158,
   "metadata": {},
   "outputs": [
    {
     "ename": "AttributeError",
     "evalue": "'Series' object has no attribute 'toarray'",
     "output_type": "error",
     "traceback": [
      "\u001b[1;31m---------------------------------------------------------------------------\u001b[0m",
      "\u001b[1;31mAttributeError\u001b[0m                            Traceback (most recent call last)",
      "\u001b[1;32m<ipython-input-158-c1e36c6d87ce>\u001b[0m in \u001b[0;36m<module>\u001b[1;34m\u001b[0m\n\u001b[0;32m      3\u001b[0m \u001b[0mte\u001b[0m \u001b[1;33m=\u001b[0m \u001b[0mTextExplainer\u001b[0m\u001b[1;33m(\u001b[0m\u001b[0mrandom_state\u001b[0m\u001b[1;33m=\u001b[0m\u001b[1;36m42\u001b[0m\u001b[1;33m)\u001b[0m\u001b[1;33m\u001b[0m\u001b[1;33m\u001b[0m\u001b[0m\n\u001b[0;32m      4\u001b[0m \u001b[1;33m\u001b[0m\u001b[0m\n\u001b[1;32m----> 5\u001b[1;33m \u001b[0mte\u001b[0m\u001b[1;33m.\u001b[0m\u001b[0mfit\u001b[0m\u001b[1;33m(\u001b[0m\u001b[0mclean_df\u001b[0m\u001b[1;33m.\u001b[0m\u001b[0mtoarray\u001b[0m\u001b[1;33m(\u001b[0m\u001b[1;33m)\u001b[0m\u001b[1;33m,\u001b[0m \u001b[0mpipe\u001b[0m\u001b[1;33m.\u001b[0m\u001b[0mpredict_proba\u001b[0m\u001b[1;33m)\u001b[0m\u001b[1;33m\u001b[0m\u001b[1;33m\u001b[0m\u001b[0m\n\u001b[0m\u001b[0;32m      6\u001b[0m \u001b[1;31m#te.show_prediction()\u001b[0m\u001b[1;33m\u001b[0m\u001b[1;33m\u001b[0m\u001b[1;33m\u001b[0m\u001b[0m\n",
      "\u001b[1;32mC:\\Users\\Jonas\\Anaconda3\\envs\\nce_1\\lib\\site-packages\\pandas\\core\\generic.py\u001b[0m in \u001b[0;36m__getattr__\u001b[1;34m(self, name)\u001b[0m\n\u001b[0;32m   5137\u001b[0m             \u001b[1;32mif\u001b[0m \u001b[0mself\u001b[0m\u001b[1;33m.\u001b[0m\u001b[0m_info_axis\u001b[0m\u001b[1;33m.\u001b[0m\u001b[0m_can_hold_identifiers_and_holds_name\u001b[0m\u001b[1;33m(\u001b[0m\u001b[0mname\u001b[0m\u001b[1;33m)\u001b[0m\u001b[1;33m:\u001b[0m\u001b[1;33m\u001b[0m\u001b[1;33m\u001b[0m\u001b[0m\n\u001b[0;32m   5138\u001b[0m                 \u001b[1;32mreturn\u001b[0m \u001b[0mself\u001b[0m\u001b[1;33m[\u001b[0m\u001b[0mname\u001b[0m\u001b[1;33m]\u001b[0m\u001b[1;33m\u001b[0m\u001b[1;33m\u001b[0m\u001b[0m\n\u001b[1;32m-> 5139\u001b[1;33m             \u001b[1;32mreturn\u001b[0m \u001b[0mobject\u001b[0m\u001b[1;33m.\u001b[0m\u001b[0m__getattribute__\u001b[0m\u001b[1;33m(\u001b[0m\u001b[0mself\u001b[0m\u001b[1;33m,\u001b[0m \u001b[0mname\u001b[0m\u001b[1;33m)\u001b[0m\u001b[1;33m\u001b[0m\u001b[1;33m\u001b[0m\u001b[0m\n\u001b[0m\u001b[0;32m   5140\u001b[0m \u001b[1;33m\u001b[0m\u001b[0m\n\u001b[0;32m   5141\u001b[0m     \u001b[1;32mdef\u001b[0m \u001b[0m__setattr__\u001b[0m\u001b[1;33m(\u001b[0m\u001b[0mself\u001b[0m\u001b[1;33m,\u001b[0m \u001b[0mname\u001b[0m\u001b[1;33m:\u001b[0m \u001b[0mstr\u001b[0m\u001b[1;33m,\u001b[0m \u001b[0mvalue\u001b[0m\u001b[1;33m)\u001b[0m \u001b[1;33m->\u001b[0m \u001b[1;32mNone\u001b[0m\u001b[1;33m:\u001b[0m\u001b[1;33m\u001b[0m\u001b[1;33m\u001b[0m\u001b[0m\n",
      "\u001b[1;31mAttributeError\u001b[0m: 'Series' object has no attribute 'toarray'"
     ]
    }
   ],
   "source": [
    "import eli5\n",
    "from eli5.lime import TextExplainer\n",
    "te = TextExplainer(random_state=42)\n",
    "\n",
    "te.fit(clean_df, pipe.predict_proba)\n",
    "#te.show_prediction()"
   ]
  },
  {
   "cell_type": "code",
   "execution_count": 187,
   "metadata": {},
   "outputs": [],
   "source": [
    "for i in top_5:\n",
    "    green = \"<div> <span class='highlight green'>\"+i+\"</div>\"\n",
    "    replace_green = (i, \"\", green)"
   ]
  },
  {
   "cell_type": "code",
   "execution_count": 194,
   "metadata": {},
   "outputs": [
    {
     "data": {
      "text/plain": [
       "[['chemical', 'mercury', 'pop', 'health', 'waste'],\n",
       " ['specie', 'ecosystem', 'water', 'change', '<BIAS>']]"
      ]
     },
     "execution_count": 194,
     "metadata": {},
     "output_type": "execute_result"
    }
   ],
   "source": [
    "top = [top_5, last_5]"
   ]
  },
  {
   "cell_type": "code",
   "execution_count": 200,
   "metadata": {},
   "outputs": [
    {
     "name": "stdout",
     "output_type": "stream",
     "text": [
      "specie\n",
      "ecosystem\n",
      "water\n",
      "change\n",
      "<BIAS>\n"
     ]
    }
   ],
   "source": [
    "for i in top[1]:\n",
    "    print(i)"
   ]
  },
  {
   "cell_type": "code",
   "execution_count": null,
   "metadata": {},
   "outputs": [],
   "source": []
  }
 ],
 "metadata": {
  "kernelspec": {
   "display_name": "Python 3",
   "language": "python",
   "name": "python3"
  },
  "language_info": {
   "codemirror_mode": {
    "name": "ipython",
    "version": 3
   },
   "file_extension": ".py",
   "mimetype": "text/x-python",
   "name": "python",
   "nbconvert_exporter": "python",
   "pygments_lexer": "ipython3",
   "version": "3.7.9"
  }
 },
 "nbformat": 4,
 "nbformat_minor": 4
}
