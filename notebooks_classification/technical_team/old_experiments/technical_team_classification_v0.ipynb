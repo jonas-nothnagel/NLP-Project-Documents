{
 "cells": [
  {
   "cell_type": "code",
   "execution_count": 1,
   "metadata": {},
   "outputs": [
    {
     "name": "stderr",
     "output_type": "stream",
     "text": [
      "[nltk_data] Downloading package stopwords to C:\\Users\\Jonas\n",
      "[nltk_data]     Nothnagel\\AppData\\Roaming\\nltk_data...\n",
      "[nltk_data]   Package stopwords is already up-to-date!\n",
      "[nltk_data] Downloading package punkt to C:\\Users\\Jonas\n",
      "[nltk_data]     Nothnagel\\AppData\\Roaming\\nltk_data...\n",
      "[nltk_data]   Package punkt is already up-to-date!\n",
      "wandb: WARNING W&B installed but not logged in.  Run `wandb login` or set the WANDB_API_KEY env variable.\n"
     ]
    }
   ],
   "source": [
    "import os\n",
    "import sys\n",
    "sys.path.insert(0, os.path.abspath(os.path.join('../..', 'src')))\n",
    "sys.setrecursionlimit(20500)\n",
    "import pandas as pd\n",
    "import spacy\n",
    "import clean_dataset as clean\n",
    "import make_dataset as mk\n",
    "import vectorize_embed as em\n",
    "import tools as tools\n",
    "#import pickle5 as pickle\n",
    "import pickle\n",
    "import numpy as np\n",
    "\n",
    "from sklearn.metrics import make_scorer\n",
    "from sklearn.model_selection import train_test_split\n",
    "from sklearn.feature_extraction.text import TfidfVectorizer\n",
    "from sklearn.linear_model import LogisticRegression\n",
    "from sklearn.metrics import precision_score\n",
    "\n",
    "from sklearn.pipeline import Pipeline\n",
    "from sklearn.metrics import accuracy_score, confusion_matrix, classification_report\n",
    "from sklearn.model_selection import train_test_split, cross_val_score, GridSearchCV\n",
    "from sklearn.metrics import accuracy_score, f1_score, precision_score, recall_score, classification_report, confusion_matrix\n",
    "\n"
   ]
  },
  {
   "cell_type": "code",
   "execution_count": 8,
   "metadata": {},
   "outputs": [],
   "source": [
    "'''import data'''\n",
    "df = pd.read_json(os.path.abspath(os.path.join('../..', 'data/processed/encoded_labels'))+'/technical_team_all.json')\n",
    "\n",
    "'''lowercase data'''\n",
    "df['all_text_clean'] = df['all_text_clean'].apply(clean.basic)\n",
    "\n",
    "'''stop words'''\n",
    "df['text_stop'] = df['all_text_clean'].apply(clean.tidy)\n",
    "#tidy(text, http = True, punc = True, lem = True, stop_w = True):\n",
    "\n",
    "'''replace abbrevation for testing:'''\n",
    "df['all_text_clean'] = df['all_text_clean'].apply(clean.replace_abb)"
   ]
  },
  {
   "cell_type": "code",
   "execution_count": 22,
   "metadata": {},
   "outputs": [],
   "source": [
    "names = ['chemicals_and_waste_programme', 'climate_change_adaptation_programme',\n",
    "       'climate_forest_of_climate_change_mitigation',\n",
    "       'climate_strategies_and_policy_programme',\n",
    "       'ecosystems_and_biodiversity_programme',\n",
    "       'energy_program_of_climate_change_mitigation',\n",
    "       'oceans_and_water_programme',]"
   ]
  },
  {
   "cell_type": "code",
   "execution_count": 11,
   "metadata": {},
   "outputs": [],
   "source": [
    "df = mk.truncate(df, 550, printing = False)\n",
    "\n",
    "'''remove french entries'''\n",
    "df = clean.detect_lang(df, \"fr\", printing =False)\n",
    "\n",
    "'''remove spanish entries'''\n",
    "df = clean.detect_lang(df, \"es\", printing =False)"
   ]
  },
  {
   "cell_type": "code",
   "execution_count": 13,
   "metadata": {},
   "outputs": [
    {
     "name": "stdout",
     "output_type": "stream",
     "text": [
      "Shape:(7, 2)\n"
     ]
    },
    {
     "data": {
      "text/html": [
       "<div>\n",
       "<style scoped>\n",
       "    .dataframe tbody tr th:only-of-type {\n",
       "        vertical-align: middle;\n",
       "    }\n",
       "\n",
       "    .dataframe tbody tr th {\n",
       "        vertical-align: top;\n",
       "    }\n",
       "\n",
       "    .dataframe thead th {\n",
       "        text-align: right;\n",
       "    }\n",
       "</style>\n",
       "<table border=\"1\" class=\"dataframe\">\n",
       "  <thead>\n",
       "    <tr style=\"text-align: right;\">\n",
       "      <th></th>\n",
       "      <th>category</th>\n",
       "      <th>Count</th>\n",
       "    </tr>\n",
       "  </thead>\n",
       "  <tbody>\n",
       "    <tr>\n",
       "      <th>0</th>\n",
       "      <td>chemicals_and_waste_programme</td>\n",
       "      <td>38</td>\n",
       "    </tr>\n",
       "    <tr>\n",
       "      <th>1</th>\n",
       "      <td>climate_change_adaptation_programme</td>\n",
       "      <td>145</td>\n",
       "    </tr>\n",
       "    <tr>\n",
       "      <th>2</th>\n",
       "      <td>climate_forest_of_climate_change_mitigation</td>\n",
       "      <td>24</td>\n",
       "    </tr>\n",
       "    <tr>\n",
       "      <th>3</th>\n",
       "      <td>climate_strategies_and_policy_programme</td>\n",
       "      <td>14</td>\n",
       "    </tr>\n",
       "    <tr>\n",
       "      <th>4</th>\n",
       "      <td>ecosystems_and_biodiversity_programme</td>\n",
       "      <td>182</td>\n",
       "    </tr>\n",
       "    <tr>\n",
       "      <th>5</th>\n",
       "      <td>energy_program_of_climate_change_mitigation</td>\n",
       "      <td>103</td>\n",
       "    </tr>\n",
       "    <tr>\n",
       "      <th>6</th>\n",
       "      <td>oceans_and_water_programme</td>\n",
       "      <td>39</td>\n",
       "    </tr>\n",
       "  </tbody>\n",
       "</table>\n",
       "</div>"
      ],
      "text/plain": [
       "                                      category  Count\n",
       "0                chemicals_and_waste_programme     38\n",
       "1          climate_change_adaptation_programme    145\n",
       "2  climate_forest_of_climate_change_mitigation     24\n",
       "3      climate_strategies_and_policy_programme     14\n",
       "4        ecosystems_and_biodiversity_programme    182\n",
       "5  energy_program_of_climate_change_mitigation    103\n",
       "6                   oceans_and_water_programme     39"
      ]
     },
     "metadata": {},
     "output_type": "display_data"
    }
   ],
   "source": [
    "df, df_lambda = tools.count_labels (df)\n",
    "\n",
    "#df.to_excel(os.path.abspath(os.path.join('../..', 'data/processed'))+\"/technical_team_multi_class.xlsx\")"
   ]
  },
  {
   "cell_type": "markdown",
   "metadata": {},
   "source": [
    "## split into train and validation data and build feature space:"
   ]
  },
  {
   "cell_type": "code",
   "execution_count": 15,
   "metadata": {},
   "outputs": [
    {
     "name": "stdout",
     "output_type": "stream",
     "text": [
      "train size: 381\n",
      "test size: 164\n"
     ]
    }
   ],
   "source": [
    "X_train, X_test, y_train, y_test = train_test_split(df['all_text_clean_spacy'],\n",
    "                                                    df['cat'].values,\n",
    "                                                    test_size = .3,\n",
    "                                                    stratify=df['cat'].values,\n",
    "                                                    random_state = 1,\n",
    "                                                    shuffle = True)\n",
    "print('train size:', len(X_train))\n",
    "print('test size:', len(X_test))\n",
    "\n",
    "assert len(set(y_train)) == len(set(y_test)), \"Unequal splits with some labels missing\"\n",
    "\n",
    "'''extract features using tfidf vecorization:'''\n",
    "vectorizer = TfidfVectorizer(ngram_range = (1,3),min_df = 0.01, max_df = 0.95)\n",
    "vect = vectorizer.fit(X_train)\n",
    "X_train = vect.transform(X_train)\n",
    "X_test = vect.transform(X_test)"
   ]
  },
  {
   "cell_type": "code",
   "execution_count": 24,
   "metadata": {},
   "outputs": [
    {
     "name": "stdout",
     "output_type": "stream",
     "text": [
      "Training accuracy: 97.0 %\n",
      "Test accuracy: 92.0 %\n"
     ]
    },
    {
     "data": {
      "image/png": "[encoded data removed]",
      "text/plain": [
       "<Figure size 720x576 with 2 Axes>"
      ]
     },
     "metadata": {},
     "output_type": "display_data"
    }
   ],
   "source": [
    "clf = LogisticRegression(solver = 'lbfgs', multi_class = 'multinomial', class_weight=\"balanced\").fit(X_train, y_train)\n",
    "print('Training accuracy:', clf.score(X_train, y_train).round(2)*100, \"%\")\n",
    "print('Test accuracy:', clf.score(X_test, y_test).round(2)*100, \"%\")\n",
    "y_hat = clf.predict(X_test)\n",
    "tools.show_labels(y_test, y_hat, title = 'Logistic Regression Clasifier', class_range = (1,8))"
   ]
  },
  {
   "cell_type": "code",
   "execution_count": 17,
   "metadata": {},
   "outputs": [
    {
     "name": "stdout",
     "output_type": "stream",
     "text": [
      "              precision    recall  f1-score   support\n",
      "\n",
      "           0       0.91      0.91      0.91        11\n",
      "           1       0.91      0.91      0.91        44\n",
      "           2       1.00      1.00      1.00         7\n",
      "           3       0.50      0.50      0.50         4\n",
      "           4       0.92      0.98      0.95        55\n",
      "           5       1.00      0.90      0.95        31\n",
      "           6       0.91      0.83      0.87        12\n",
      "\n",
      "    accuracy                           0.92       164\n",
      "   macro avg       0.88      0.86      0.87       164\n",
      "weighted avg       0.92      0.92      0.92       164\n",
      "\n"
     ]
    }
   ],
   "source": [
    "print(classification_report(y_test, y_hat))"
   ]
  },
  {
   "cell_type": "code",
   "execution_count": 18,
   "metadata": {},
   "outputs": [
    {
     "data": {
      "text/plain": [
       "label_1              pcb\n",
       "label_2          climate\n",
       "label_3    environmental\n",
       "label_4        community\n",
       "label_5               pa\n",
       "label_6           energy\n",
       "label_7              sap\n",
       "dtype: object"
      ]
     },
     "metadata": {},
     "output_type": "display_data"
    },
    {
     "name": "stdout",
     "output_type": "stream",
     "text": [
      "Shape:(7, 1)\n"
     ]
    },
    {
     "data": {
      "text/html": [
       "<div>\n",
       "<style scoped>\n",
       "    .dataframe tbody tr th:only-of-type {\n",
       "        vertical-align: middle;\n",
       "    }\n",
       "\n",
       "    .dataframe tbody tr th {\n",
       "        vertical-align: top;\n",
       "    }\n",
       "\n",
       "    .dataframe thead th {\n",
       "        text-align: right;\n",
       "    }\n",
       "</style>\n",
       "<table border=\"1\" class=\"dataframe\">\n",
       "  <thead>\n",
       "    <tr style=\"text-align: right;\">\n",
       "      <th></th>\n",
       "      <th>Keywords</th>\n",
       "    </tr>\n",
       "  </thead>\n",
       "  <tbody>\n",
       "    <tr>\n",
       "      <th>label_1</th>\n",
       "      <td>[(pcb, 2.101), (mercury, 1.799), (pop, 1.684),...</td>\n",
       "    </tr>\n",
       "    <tr>\n",
       "      <th>label_2</th>\n",
       "      <td>[(climate, 2.673), (climate change, 1.472), (a...</td>\n",
       "    </tr>\n",
       "    <tr>\n",
       "      <th>label_3</th>\n",
       "      <td>[(environmental, 2.411), (rio, 1.447), (global...</td>\n",
       "    </tr>\n",
       "    <tr>\n",
       "      <th>label_4</th>\n",
       "      <td>[(community, 1.673), (landscape, 1.564), (sgp,...</td>\n",
       "    </tr>\n",
       "    <tr>\n",
       "      <th>label_5</th>\n",
       "      <td>[(pa, 1.227), (biodiversity, 1.074), (conserva...</td>\n",
       "    </tr>\n",
       "    <tr>\n",
       "      <th>label_6</th>\n",
       "      <td>[(energy, 2.06), (eop, 1.248), (urban, 0.89), ...</td>\n",
       "    </tr>\n",
       "    <tr>\n",
       "      <th>label_7</th>\n",
       "      <td>[(sap, 1.726), (water, 1.325), (basin, 1.266),...</td>\n",
       "    </tr>\n",
       "  </tbody>\n",
       "</table>\n",
       "</div>"
      ],
      "text/plain": [
       "                                                  Keywords\n",
       "label_1  [(pcb, 2.101), (mercury, 1.799), (pop, 1.684),...\n",
       "label_2  [(climate, 2.673), (climate change, 1.472), (a...\n",
       "label_3  [(environmental, 2.411), (rio, 1.447), (global...\n",
       "label_4  [(community, 1.673), (landscape, 1.564), (sgp,...\n",
       "label_5  [(pa, 1.227), (biodiversity, 1.074), (conserva...\n",
       "label_6  [(energy, 2.06), (eop, 1.248), (urban, 0.89), ...\n",
       "label_7  [(sap, 1.726), (water, 1.325), (basin, 1.266),..."
      ]
     },
     "metadata": {},
     "output_type": "display_data"
    }
   ],
   "source": [
    "df_lambda = tools.get_topwords(clf, vectorizer, n = 10, n_models = 7, show_idxmax = True)\n",
    "print(f'Shape:{df_lambda.shape}')\n",
    "display(df_lambda)"
   ]
  },
  {
   "cell_type": "code",
   "execution_count": 20,
   "metadata": {},
   "outputs": [],
   "source": [
    "\n",
    "key = df_lambda.Keywords.tolist()"
   ]
  },
  {
   "cell_type": "markdown",
   "metadata": {},
   "source": [
    "## Notes:\n",
    "* class weight balanced increases results a lot.\n",
    "* using truncated data_set also helps."
   ]
  },
  {
   "cell_type": "code",
   "execution_count": null,
   "metadata": {},
   "outputs": [],
   "source": []
  }
 ],
 "metadata": {
  "kernelspec": {
   "display_name": "Python 3",
   "language": "python",
   "name": "python3"
  },
  "language_info": {
   "codemirror_mode": {
    "name": "ipython",
    "version": 3
   },
   "file_extension": ".py",
   "mimetype": "text/x-python",
   "name": "python",
   "nbconvert_exporter": "python",
   "pygments_lexer": "ipython3",
   "version": "3.8.5"
  }
 },
 "nbformat": 4,
 "nbformat_minor": 4
}
