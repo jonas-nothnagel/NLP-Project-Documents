{
 "cells": [
  {
   "cell_type": "markdown",
   "metadata": {},
   "source": [
    "## Import Libraries"
   ]
  },
  {
   "cell_type": "code",
   "execution_count": 1,
   "metadata": {},
   "outputs": [],
   "source": [
    "'''basics'''\n",
    "import os\n",
    "import sys\n",
    "sys.path.insert(0, os.path.abspath(os.path.join('..', 'src')))\n",
    "sys.setrecursionlimit(20500)\n",
    "import pandas as pd\n",
    "import pickle5 as pickle\n",
    "import numpy as np\n",
    "\n",
    "'''Plotting'''\n",
    "import matplotlib.pyplot as plt\n",
    "import seaborn as sns\n",
    "sns.set_style('darkgrid')\n",
    "\n",
    "'''features'''\n",
    "from sklearn.preprocessing import LabelEncoder\n",
    "from sklearn.model_selection import train_test_split\n",
    "from sklearn.feature_extraction.text import TfidfVectorizer\n",
    "from sklearn.decomposition import TruncatedSVD\n",
    "from sklearn.preprocessing import label_binarize\n",
    "\n",
    "'''Classifiers'''\n",
    "from sklearn.dummy import DummyClassifier\n",
    "from sklearn.linear_model import SGDClassifier\n",
    "from sklearn.naive_bayes import GaussianNB\n",
    "from sklearn.tree import DecisionTreeClassifier\n",
    "from sklearn.ensemble import RandomForestClassifier, AdaBoostClassifier\n",
    "from sklearn.neighbors import KNeighborsClassifier\n",
    "from sklearn.multiclass import OneVsRestClassifier\n",
    "from sklearn.linear_model import LogisticRegression\n",
    "from sklearn import svm\n",
    "from sklearn.naive_bayes import MultinomialNB\n",
    "\n",
    "\n",
    "'''Metrics/Evaluation'''\n",
    "from sklearn.model_selection import GridSearchCV\n",
    "from sklearn.metrics import accuracy_score, precision_score, recall_score, f1_score, roc_curve, auc, confusion_matrix\n",
    "from scipy import interp\n",
    "from itertools import cycle\n",
    "from sklearn.model_selection import cross_val_score\n",
    "from sklearn.metrics import classification_report\n",
    "from sklearn.pipeline import make_pipeline\n",
    "from sklearn_hierarchical_classification.classifier import HierarchicalClassifier\n",
    "from sklearn_hierarchical_classification.constants import ROOT\n",
    "from sklearn_hierarchical_classification.metrics import h_fbeta_score, multi_labeled\n",
    "from sklearn.pipeline import Pipeline\n",
    "\n",
    "\n",
    "import warnings\n",
    "warnings.filterwarnings('ignore')\n"
   ]
  },
  {
   "cell_type": "markdown",
   "metadata": {},
   "source": [
    "## Import data and holdout data for prediction"
   ]
  },
  {
   "cell_type": "code",
   "execution_count": 2,
   "metadata": {},
   "outputs": [
    {
     "data": {
      "text/plain": [
       "Index(['PIMS_ID', 'all_text_clean', 'all_text_clean_spacy',\n",
       "       '_social_inclusion___engagement', 'artisanal_miners', 'disabled',\n",
       "       'elderly', 'indigenous_peoples', 'local_community_csos', 'no tag',\n",
       "       'private_sector', 'smallholder_farmers', 'waste_picker', 'women',\n",
       "       'youth_children'],\n",
       "      dtype='object')"
      ]
     },
     "execution_count": 2,
     "metadata": {},
     "output_type": "execute_result"
    }
   ],
   "source": [
    "df = pd.read_csv('../data/processed/encoded_labels/_social_inclusion___engagement.csv')\n",
    "df.columns"
   ]
  },
  {
   "cell_type": "code",
   "execution_count": 4,
   "metadata": {},
   "outputs": [
    {
     "data": {
      "text/html": [
       "<div>\n",
       "<style scoped>\n",
       "    .dataframe tbody tr th:only-of-type {\n",
       "        vertical-align: middle;\n",
       "    }\n",
       "\n",
       "    .dataframe tbody tr th {\n",
       "        vertical-align: top;\n",
       "    }\n",
       "\n",
       "    .dataframe thead th {\n",
       "        text-align: right;\n",
       "    }\n",
       "</style>\n",
       "<table border=\"1\" class=\"dataframe\">\n",
       "  <thead>\n",
       "    <tr style=\"text-align: right;\">\n",
       "      <th></th>\n",
       "      <th>category</th>\n",
       "      <th>number_of_inputs</th>\n",
       "    </tr>\n",
       "  </thead>\n",
       "  <tbody>\n",
       "    <tr>\n",
       "      <th>0</th>\n",
       "      <td>artisanal_miners</td>\n",
       "      <td>16</td>\n",
       "    </tr>\n",
       "    <tr>\n",
       "      <th>1</th>\n",
       "      <td>disabled</td>\n",
       "      <td>17</td>\n",
       "    </tr>\n",
       "    <tr>\n",
       "      <th>2</th>\n",
       "      <td>elderly</td>\n",
       "      <td>8</td>\n",
       "    </tr>\n",
       "    <tr>\n",
       "      <th>3</th>\n",
       "      <td>indigenous_peoples</td>\n",
       "      <td>50</td>\n",
       "    </tr>\n",
       "    <tr>\n",
       "      <th>4</th>\n",
       "      <td>local_community_csos</td>\n",
       "      <td>300</td>\n",
       "    </tr>\n",
       "    <tr>\n",
       "      <th>5</th>\n",
       "      <td>no tag</td>\n",
       "      <td>140</td>\n",
       "    </tr>\n",
       "    <tr>\n",
       "      <th>6</th>\n",
       "      <td>private_sector</td>\n",
       "      <td>269</td>\n",
       "    </tr>\n",
       "    <tr>\n",
       "      <th>7</th>\n",
       "      <td>smallholder_farmers</td>\n",
       "      <td>56</td>\n",
       "    </tr>\n",
       "    <tr>\n",
       "      <th>8</th>\n",
       "      <td>waste_picker</td>\n",
       "      <td>6</td>\n",
       "    </tr>\n",
       "    <tr>\n",
       "      <th>9</th>\n",
       "      <td>women</td>\n",
       "      <td>212</td>\n",
       "    </tr>\n",
       "    <tr>\n",
       "      <th>10</th>\n",
       "      <td>youth_children</td>\n",
       "      <td>51</td>\n",
       "    </tr>\n",
       "  </tbody>\n",
       "</table>\n",
       "</div>"
      ],
      "text/plain": [
       "                category  number_of_inputs\n",
       "0       artisanal_miners                16\n",
       "1               disabled                17\n",
       "2                elderly                 8\n",
       "3     indigenous_peoples                50\n",
       "4   local_community_csos               300\n",
       "5                 no tag               140\n",
       "6         private_sector               269\n",
       "7    smallholder_farmers                56\n",
       "8           waste_picker                 6\n",
       "9                  women               212\n",
       "10        youth_children                51"
      ]
     },
     "execution_count": 4,
     "metadata": {},
     "output_type": "execute_result"
    }
   ],
   "source": [
    "df_labels = df.drop(['PIMS_ID', 'all_text_clean', 'all_text_clean_spacy', '_social_inclusion___engagement'], axis=1)\n",
    "counts = []\n",
    "categories = list(df_labels.columns.values)\n",
    "for i in categories:\n",
    "    counts.append((i, df_labels[i].sum()))\n",
    "df_stats = pd.DataFrame(counts, columns=['category', 'number_of_inputs'])\n",
    "df_stats"
   ]
  },
  {
   "cell_type": "code",
   "execution_count": 5,
   "metadata": {
    "scrolled": true
   },
   "outputs": [
    {
     "data": {
      "text/plain": [
       "Text(0.5, 0, 'category')"
      ]
     },
     "execution_count": 5,
     "metadata": {},
     "output_type": "execute_result"
    },
    {
     "data": {
      "image/png": "[encoded data removed]",
      "text/plain": [
       "<Figure size 576x360 with 1 Axes>"
      ]
     },
     "metadata": {},
     "output_type": "display_data"
    }
   ],
   "source": [
    "df_stats.plot(x='category', y='number_of_inputs', kind='bar', legend=False, grid=True, figsize=(8, 5))\n",
    "plt.title(\"Number of comments per category\")\n",
    "plt.ylabel('# of Occurrences', fontsize=12)\n",
    "plt.xlabel('category', fontsize=12)"
   ]
  },
  {
   "cell_type": "markdown",
   "metadata": {},
   "source": [
    "## How many comments have multi labels"
   ]
  },
  {
   "cell_type": "code",
   "execution_count": 6,
   "metadata": {
    "scrolled": true
   },
   "outputs": [
    {
     "data": {
      "text/plain": [
       "Text(0.5, 0, '# of categories')"
      ]
     },
     "execution_count": 6,
     "metadata": {},
     "output_type": "execute_result"
    },
    {
     "data": {
      "image/png": "[encoded data removed]",
      "text/plain": [
       "<Figure size 576x360 with 1 Axes>"
      ]
     },
     "metadata": {},
     "output_type": "display_data"
    }
   ],
   "source": [
    "rowsums = df.iloc[:,4:].sum(axis=1)\n",
    "x=rowsums.value_counts()\n",
    "#plot\n",
    "plt.figure(figsize=(8,5))\n",
    "ax = sns.barplot(x.index, x.values)\n",
    "plt.title(\"Multiple categories per comment\")\n",
    "plt.ylabel('# of Occurrences', fontsize=12)\n",
    "plt.xlabel('# of categories', fontsize=12)"
   ]
  },
  {
   "cell_type": "markdown",
   "metadata": {},
   "source": [
    "## Percentage of inputs that are not labelled"
   ]
  },
  {
   "cell_type": "code",
   "execution_count": 7,
   "metadata": {
    "scrolled": false
   },
   "outputs": [
    {
     "name": "stdout",
     "output_type": "stream",
     "text": [
      "0.23217247097844113\n"
     ]
    }
   ],
   "source": [
    "print(len(df[df['no tag']==1]) / len(df))"
   ]
  },
  {
   "cell_type": "markdown",
   "metadata": {},
   "source": [
    "## The distribution of the number of words in input texts"
   ]
  },
  {
   "cell_type": "code",
   "execution_count": 8,
   "metadata": {
    "scrolled": true
   },
   "outputs": [
    {
     "data": {
      "text/plain": [
       "<matplotlib.axes._subplots.AxesSubplot at 0x7fe9bbff4e48>"
      ]
     },
     "execution_count": 8,
     "metadata": {},
     "output_type": "execute_result"
    },
    {
     "data": {
      "image/png": "[encoded data removed]",
      "text/plain": [
       "<Figure size 432x288 with 1 Axes>"
      ]
     },
     "metadata": {},
     "output_type": "display_data"
    }
   ],
   "source": [
    "lens = df.all_text_clean.str.len()\n",
    "lens.hist(bins = np.arange(0,5000,50))"
   ]
  },
  {
   "cell_type": "markdown",
   "metadata": {},
   "source": [
    "## Holding out 5 rows from the original dataframe for prediction at the end"
   ]
  },
  {
   "cell_type": "code",
   "execution_count": 9,
   "metadata": {
    "scrolled": true
   },
   "outputs": [],
   "source": [
    "df_holdout = df.iloc[:5]\n",
    "\n",
    "df = df.iloc[5:]"
   ]
  },
  {
   "cell_type": "code",
   "execution_count": 10,
   "metadata": {},
   "outputs": [
    {
     "data": {
      "text/plain": [
       "Index(['PIMS_ID', 'all_text_clean', 'all_text_clean_spacy',\n",
       "       '_social_inclusion___engagement', 'artisanal_miners', 'disabled',\n",
       "       'elderly', 'indigenous_peoples', 'local_community_csos', 'no tag',\n",
       "       'private_sector', 'smallholder_farmers', 'waste_picker', 'women',\n",
       "       'youth_children'],\n",
       "      dtype='object')"
      ]
     },
     "execution_count": 10,
     "metadata": {},
     "output_type": "execute_result"
    }
   ],
   "source": [
    "df.columns"
   ]
  },
  {
   "cell_type": "markdown",
   "metadata": {},
   "source": [
    "##  Features engineering"
   ]
  },
  {
   "cell_type": "code",
   "execution_count": 11,
   "metadata": {},
   "outputs": [],
   "source": [
    "categories = ['artisanal_miners', 'disabled',\n",
    "       'elderly', 'indigenous_peoples', 'local_community_csos', 'no tag',\n",
    "       'private_sector', 'smallholder_farmers', 'waste_picker', 'women',\n",
    "       'youth_children']\n",
    "\n",
    "\n",
    "#Creating the features (tf-idf weights) for the processed text\n",
    "texts = df['all_text_clean'].astype('str')\n",
    "\n",
    "tfidf_vectorizer = TfidfVectorizer(ngram_range=(1, 2), \n",
    "                                   min_df = 2, \n",
    "                                   max_df = .95)\n",
    "\n",
    "X = tfidf_vectorizer.fit_transform(texts)\n",
    "\n",
    "#Turning the labels into numbers\n",
    "y = pd.DataFrame(df, columns = categories)\n",
    "#Dimenionality reduction. Only using the 100 best features er category\n",
    "\n",
    "lsa = TruncatedSVD(n_components=100, \n",
    "                   n_iter=10, \n",
    "                   random_state=3)\n",
    "\n",
    "X = lsa.fit_transform(X)\n"
   ]
  },
  {
   "cell_type": "markdown",
   "metadata": {},
   "source": [
    "## Train multiple ML models / OneVsRest multi-label strategy"
   ]
  },
  {
   "cell_type": "code",
   "execution_count": 12,
   "metadata": {
    "scrolled": true
   },
   "outputs": [],
   "source": [
    "LogReg_pipeline = Pipeline([\n",
    "                ('tfidf', TfidfVectorizer()),\n",
    "                ('clf', OneVsRestClassifier(LogisticRegression(solver='sag'), n_jobs=1)),\n",
    "            ])\n",
    "#Creating a dict of the models\n",
    "model_dict = {\n",
    "              'Stochastic Gradient Descent' : OneVsRestClassifier(SGDClassifier(random_state=3, loss='log'), n_jobs=1),\n",
    "              'Random Forest': OneVsRestClassifier(RandomForestClassifier(random_state=3), n_jobs=1),\n",
    "              'Decsision Tree': OneVsRestClassifier(DecisionTreeClassifier(random_state=3), n_jobs=1),\n",
    "              'AdaBoost': OneVsRestClassifier(AdaBoostClassifier(random_state=3), n_jobs=1),\n",
    "              'Gaussian Naive Bayes': OneVsRestClassifier(GaussianNB(), n_jobs=1),\n",
    "              'K Nearest Neighbor': OneVsRestClassifier(KNeighborsClassifier(), n_jobs=1)}\n",
    "\n",
    "\n",
    "#Train test split with stratified sampling for evaluation\n",
    "X_train, X_test, y_train, y_test = train_test_split(X, \n",
    "                                                    y, \n",
    "                                                    test_size = .3, \n",
    "                                                    shuffle = True,  \n",
    "                                                    random_state = 3)\n",
    "y_train = y_train.dropna(axis=1)\n",
    "#Function to get the scores for each model in a df\n",
    "def model_score_df(model_dict, X_train, X_test, y_train, y_test):   \n",
    "    model_name, ac_score_list, p_score_list, r_score_list, f1_score_list = [], [], [], [], []\n",
    "    for k,v in model_dict.items():   \n",
    "        model_name.append(k)\n",
    "        v.fit(X_train, y_train)\n",
    "        y_pred = v.predict(X_test)\n",
    "        ac_score_list.append(accuracy_score(y_test, y_pred))\n",
    "        p_score_list.append(precision_score(y_test, y_pred, average='macro'))\n",
    "        r_score_list.append(recall_score(y_test, y_pred, average='macro'))\n",
    "        f1_score_list.append(f1_score(y_test, y_pred, average='macro'))\n",
    "        model_comparison_df = pd.DataFrame([model_name, ac_score_list, p_score_list, r_score_list, f1_score_list]).T\n",
    "        model_comparison_df.columns = ['model_name', 'accuracy_score', 'precision_score', 'recall_score', 'f1_score']\n",
    "        model_comparison_df = model_comparison_df.sort_values(by='f1_score', ascending=False)\n",
    "    return model_comparison_df\n",
    "\n",
    "\n",
    "def printTable(myDict, colList=None, sep='\\uFFFA'):\n",
    "    \"\"\" Pretty print a list of dictionaries (myDict) as a dynamically sized table.\n",
    "   If column names (colList) aren't specified, they will show in random order.\n",
    "   sep: row separator. Ex: sep='\\n' on Linux. Default: dummy to not split line.\n",
    "   Author: Thierry Husson - Use it as you want but don't blame me.\n",
    "   \"\"\"\n",
    "    if not colList: colList = list(myDict[0].keys() if myDict else [])\n",
    "    myList = [colList] # 1st row = header\n",
    "    for item in myDict: myList.append([str(item[col] or '') for col in colList])\n",
    "    colSize = [max(map(len,(sep.join(col)).split(sep))) for col in zip(*myList)]\n",
    "    formatStr = ' | '.join([\"{{:<{}}}\".format(i) for i in colSize])\n",
    "    line = formatStr.replace(' | ','-+-').format(*['-' * i for i in colSize])\n",
    "    item=myList.pop(0); lineDone=False\n",
    "    while myList:\n",
    "        if all(not i for i in item):\n",
    "            item=myList.pop(0)\n",
    "            if line and (sep!='\\uFFFA' or not lineDone): print(line); lineDone=True\n",
    "        row = [i.split(sep,1) for i in item]\n",
    "        print(formatStr.format(*[i[0] for i in row]))\n",
    "        item = [i[1] if len(i)>1 else '' for i in row]\n",
    "        \n",
    "\n",
    "from tabulate import tabulate        \n",
    "lis = []\n",
    "for category in categories:\n",
    "    dic = {}\n",
    "    dff = model_score_df(model_dict, X_train, X_test, y_train[category], y_test[category])\n",
    "    # Using DataFrame.insert() to add a column\n",
    "    dic['Category'] = category\n",
    "    dic['Classifiers'] = '    \\n '.join(dff.model_name.apply(str).tolist())\n",
    "    dic['accuracy_score'] = '    \\n '.join(dff.accuracy_score.apply(str).tolist()) \n",
    "    dic['precision_score'] = '   \\n '.join(dff.precision_score.apply(str).tolist())\n",
    "    dic['recall_score'] = '    \\n '.join(dff.recall_score.apply(str).tolist())\n",
    "    dic['f1_score'] = '    \\n '.join(dff.f1_score.apply(str).tolist())\n",
    "    lis.append(dic)\n",
    "    \n",
    "#headers = ['Category', 'Classifiers', 'accuracy_score', 'precision_score', 'recall_score', 'f1_score']\n",
    "#print(tabulate(lis, tablefmt='html'))\n",
    "header = lis[0].keys()\n",
    "rows =  [x.values() for x in lis]\n",
    "#print (tabulate(rows, header, tablefmt='html'))\n"
   ]
  },
  {
   "cell_type": "markdown",
   "metadata": {},
   "source": [
    "<table>\n",
    "<thead>\n",
    "<tr><th>Category            </th><th>#Inputs  </th><th>Classifiers  </th><th>accuracy_score  </th><th>precision_score  </th><th>recall_score  </th><th>f1_score  </th></tr>\n",
    "</thead>\n",
    "<tbody>\n",
    "<tr><td>artisanal_miners    </td><td>16    </td><td>Stochastic Gradient Descent    \n",
    " Random Forest    \n",
    " AdaBoost    \n",
    " K Nearest Neighbor    \n",
    " Gaussian Naive Bayes    \n",
    " Decsision Tree              </td><td>0.9944444444444445    \n",
    " 0.9944444444444445    \n",
    " 0.9944444444444445    \n",
    " 0.9944444444444445    \n",
    " 0.9888888888888889    \n",
    " 0.9777777777777777                 </td><td>0.9972067039106145   \n",
    " 0.9972067039106145   \n",
    " 0.9972067039106145   \n",
    " 0.9972067039106145   \n",
    " 0.747191011235955   \n",
    " 0.6221590909090908                  </td><td>0.750000000000000    \n",
    " 0.7500000000000000    \n",
    " 0.7500000000000000    \n",
    " 0.7500000000000000    \n",
    " 0.747191011235955    \n",
    " 0.7415730337078652               </td><td>0.8319327731092436    \n",
    " 0.8319327731092436    \n",
    " 0.8319327731092436    \n",
    " 0.8319327731092436    \n",
    " 0.747191011235955    \n",
    " 0.6610169491525424           </td></tr>\n",
    "<tr><td>disabled            </td><td>17    </td><td>AdaBoost    \n",
    " Decsision Tree    \n",
    " K Nearest Neighbor    \n",
    " Gaussian Naive Bayes    \n",
    " Stochastic Gradient Descent    \n",
    " Random Forest              </td><td>0.9833333333333333    \n",
    " 0.9722222222222222    \n",
    " 0.9722222222222222    \n",
    " 0.9666666666666667    \n",
    " 0.9666666666666667    \n",
    " 0.9777777777777777                 </td><td>0.9915730337078652   \n",
    " 0.7442528735632183   \n",
    " 0.7442528735632183   \n",
    " 0.708505367464905   \n",
    " 0.6914285714285715   \n",
    " 0.9888268156424581                  </td><td>0.70000000000000    \n",
    " 0.7914285714285714    \n",
    " 0.7914285714285714    \n",
    " 0.7885714285714285    \n",
    " 0.6914285714285715    \n",
    " 0.6000000000000000               </td><td>0.7814649939295832    \n",
    " 0.7655639489450377    \n",
    " 0.7655639489450377    \n",
    " 0.7413793103448276    \n",
    " 0.6914285714285715    \n",
    " 0.6610169491525424           </td></tr>\n",
    "<tr><td>elderly             </td><td>8    </td><td>Decsision Tree    \n",
    " K Nearest Neighbor    \n",
    " Gaussian Naive Bayes    \n",
    " Random Forest    \n",
    " AdaBoost    \n",
    " Stochastic Gradient Descent              </td><td>0.9888888888888889    \n",
    " 0.9722222222222222    \n",
    " 0.9666666666666667    \n",
    " 0.9888888888888889    \n",
    " 0.9888888888888889    \n",
    " 0.9666666666666667                 </td><td>0.747191011235955   \n",
    " 0.5971428571428572   \n",
    " 0.5804597701149425   \n",
    " 0.49444444444444446   \n",
    " 0.49444444444444446   \n",
    " 0.4943181818181818                  </td><td>0.747191011235955    \n",
    " 0.7387640449438202    \n",
    " 0.7359550561797753    \n",
    " 0.5000000000000000    \n",
    " 0.5000000000000000    \n",
    " 0.4887640449438202               </td><td>0.747191011235955    \n",
    " 0.6357749898826387    \n",
    " 0.6164772727272727    \n",
    " 0.49720670391061456    \n",
    " 0.49720670391061456    \n",
    " 0.4915254237288135           </td></tr>\n",
    "<tr><td>indigenous_peoples  </td><td>50    </td><td>Gaussian Naive Bayes    \n",
    " Decsision Tree    \n",
    " Random Forest    \n",
    " AdaBoost    \n",
    " Stochastic Gradient Descent    \n",
    " K Nearest Neighbor              </td><td>0.8722222222222222    \n",
    " 0.8944444444444445    \n",
    " 0.9277777777777778    \n",
    " 0.8833333333333333    \n",
    " 0.9055555555555556    \n",
    " 0.8888888888888888                 </td><td>0.6535964035964036   \n",
    " 0.6697530864197531   \n",
    " 0.9634831460674158   \n",
    " 0.5892857142857143   \n",
    " 0.6293103448275862   \n",
    " 0.5730994152046783                  </td><td>0.7484848484848485    \n",
    " 0.7000000000000000    \n",
    " 0.5666666666666667    \n",
    " 0.5727272727272728    \n",
    " 0.5545454545454546    \n",
    " 0.5454545454545454               </td><td>0.6834620383821393    \n",
    " 0.683069224353628    \n",
    " 0.5986966215057451    \n",
    " 0.5795795795795795    \n",
    " 0.5701643489254109    \n",
    " 0.5535714285714285           </td></tr>\n",
    "<tr><td>local_community_csos</td><td>300    </td><td>K Nearest Neighbor    \n",
    " Random Forest    \n",
    " Stochastic Gradient Descent    \n",
    " AdaBoost    \n",
    " Decsision Tree    \n",
    " Gaussian Naive Bayes              </td><td>0.6055555555555555    \n",
    " 0.6    \n",
    " 0.5833333333333334    \n",
    " 0.5666666666666667    \n",
    " 0.5500000000000000    \n",
    " 0.5333333333333333                 </td><td>0.6046439628482972   \n",
    " 0.5991840897501275   \n",
    " 0.5842490842490843   \n",
    " 0.5650000000000000   \n",
    " 0.5482603815937149   \n",
    " 0.530920060331825                  </td><td>0.6045274616526473    \n",
    " 0.5962394854032658    \n",
    " 0.5768184067293419    \n",
    " 0.5643245917862445    \n",
    " 0.5478723404255319    \n",
    " 0.5304304799604156               </td><td>0.6045669729880256    \n",
    " 0.595    \n",
    " 0.5705970291675944    \n",
    " 0.5640293131288039    \n",
    " 0.5476404703546275    \n",
    " 0.529616724738676           </td></tr>\n",
    "<tr><td>no tag              </td><td>140    </td><td>Stochastic Gradient Descent    \n",
    " Gaussian Naive Bayes    \n",
    " K Nearest Neighbor    \n",
    " AdaBoost    \n",
    " Random Forest    \n",
    " Decsision Tree              </td><td>0.7777777777777778    \n",
    " 0.7000000000000000    \n",
    " 0.7722222222222223    \n",
    " 0.7444444444444445    \n",
    " 0.8000000000000000    \n",
    " 0.7111111111111111                 </td><td>0.6741718986793679   \n",
    " 0.6010031919744643   \n",
    " 0.6531250000000000   \n",
    " 0.6056644880174292   \n",
    " 0.8274153592072667   \n",
    " 0.5714285714285714                  </td><td>0.6411651166871382    \n",
    " 0.6165994034041060    \n",
    " 0.5859799964906124    \n",
    " 0.5765923846288823    \n",
    " 0.5695736094051588    \n",
    " 0.5636076504649938               </td><td>0.6527777777777778    \n",
    " 0.6057754704737184    \n",
    " 0.5953725533198092    \n",
    " 0.5829975825946817    \n",
    " 0.5673076923076923    \n",
    " 0.5663454410674574           </td></tr>\n",
    "<tr><td>private_sector      </td><td>269    </td><td>Random Forest    \n",
    " AdaBoost    \n",
    " K Nearest Neighbor    \n",
    " Stochastic Gradient Descent    \n",
    " Gaussian Naive Bayes    \n",
    " Decsision Tree              </td><td>0.6944444444444444    \n",
    " 0.6666666666666666    \n",
    " 0.6666666666666666    \n",
    " 0.6666666666666666    \n",
    " 0.6777777777777778    \n",
    " 0.60000000000000000                 </td><td>0.7057135046473483   \n",
    " 0.6655443322109988   \n",
    " 0.6673921392907438   \n",
    " 0.6694085389737564   \n",
    " 0.7001931362353291   \n",
    " 0.6003210272873194                  </td><td>0.6863777089783282    \n",
    " 0.6643962848297214    \n",
    " 0.6619195046439628    \n",
    " 0.6606811145510836    \n",
    " 0.6668730650154799    \n",
    " 0.6006191950464397               </td><td>0.68381718884737    \n",
    " 0.664637933176003    \n",
    " 0.6616117307933325    \n",
    " 0.65956373723364    \n",
    " 0.6592244418331374    \n",
    " 0.599802371541502           </td></tr>\n",
    "<tr><td>smallholder_farmers </td><td>56    </td><td>Gaussian Naive Bayes    \n",
    " Decsision Tree    \n",
    " AdaBoost    \n",
    " K Nearest Neighbor    \n",
    " Stochastic Gradient Descent    \n",
    " Random Forest              </td><td>0.8111111111111111    \n",
    " 0.8277777777777777    \n",
    " 0.8666666666666667    \n",
    " 0.8722222222222222    \n",
    " 0.8666666666666667    \n",
    " 0.8722222222222222                 </td><td>0.6489992587101556   \n",
    " 0.6019941157240929   \n",
    " 0.6918604651162791   \n",
    " 0.74   \n",
    " 0.6896551724137931   \n",
    " 0.771186440677966                  </td><td>0.7147435897435898    \n",
    " 0.5833333333333333    \n",
    " 0.5705128205128205    \n",
    " 0.5560897435897436    \n",
    " 0.5528846153846154    \n",
    " 0.5384615384615384               </td><td>0.6687594717471315    \n",
    " 0.5906389846673025    \n",
    " 0.5884146341463415    \n",
    " 0.5687050734451505    \n",
    " 0.5636363636363636    \n",
    " 0.5395395395395396           </td></tr>\n",
    "<tr><td>waste_picker        </td><td>6    </td><td>Stochastic Gradient Descent    \n",
    " Random Forest    \n",
    " AdaBoost    \n",
    " Decsision Tree    \n",
    " Gaussian Naive Bayes    \n",
    " K Nearest Neighbor              </td><td>0.9888888888888889    \n",
    " 0.9888888888888889    \n",
    " 0.9888888888888889    \n",
    " 0.9833333333333333    \n",
    " 0.9833333333333333    \n",
    " 0.9777777777777777                 </td><td>0.49444444444444446   \n",
    " 0.49444444444444446   \n",
    " 0.49444444444444446   \n",
    " 0.49441340782122906   \n",
    " 0.49441340782122906   \n",
    " 0.4943820224719101                  </td><td>0.50000000000000    \n",
    " 0.5000000000000000    \n",
    " 0.5000000000000000    \n",
    " 0.49719101123595505    \n",
    " 0.49719101123595505    \n",
    " 0.4943820224719101               </td><td>0.49720670391061456    \n",
    " 0.49720670391061456    \n",
    " 0.49720670391061456    \n",
    " 0.4957983193277311    \n",
    " 0.4957983193277311    \n",
    " 0.4943820224719101           </td></tr>\n",
    "<tr><td>women               </td><td>212    </td><td>K Nearest Neighbor    \n",
    " Stochastic Gradient Descent    \n",
    " AdaBoost    \n",
    " Random Forest    \n",
    " Decsision Tree    \n",
    " Gaussian Naive Bayes              </td><td>0.6833333333333333    \n",
    " 0.6777777777777778    \n",
    " 0.6666666666666666    \n",
    " 0.7000000000000000    \n",
    " 0.6111111111111112    \n",
    " 0.5944444444444444                 </td><td>0.6553273427471117   \n",
    " 0.6492368569813454   \n",
    " 0.6365178066704353   \n",
    " 0.7000000000000000   \n",
    " 0.5835084033613445   \n",
    " 0.5793332497806742                  </td><td>0.6447368421052632    \n",
    " 0.6403508771929824    \n",
    " 0.6283891547049442    \n",
    " 0.6196172248803827    \n",
    " 0.5845295055821371    \n",
    " 0.5841307814992025               </td><td>0.6480395183698673    \n",
    " 0.6432476763258612    \n",
    " 0.6309458720612356    \n",
    " 0.6164772727272727    \n",
    " 0.5839387135120855    \n",
    " 0.5785084202085004           </td></tr>\n",
    "<tr><td>youth_children      </td><td>51    </td><td>K Nearest Neighbor    \n",
    " AdaBoost    \n",
    " Stochastic Gradient Descent    \n",
    " Random Forest    \n",
    " Gaussian Naive Bayes    \n",
    " Decsision Tree              </td><td>0.9277777777777778    \n",
    " 0.9055555555555556    \n",
    " 0.9222222222222223    \n",
    " 0.9222222222222223    \n",
    " 0.8388888888888889    \n",
    " 0.8888888888888888                 </td><td>0.893889347646573   \n",
    " 0.7362966374942423   \n",
    " 0.8793103448275863   \n",
    " 0.8793103448275863   \n",
    " 0.6507389162561577   \n",
    " 0.6781411359724613                  </td><td>0.6635802469135802    \n",
    " 0.6759259259259259    \n",
    " 0.6358024691358024    \n",
    " 0.6358024691358024    \n",
    " 0.7623456790123457    \n",
    " 0.6419753086419753               </td><td>0.7205970149253731    \n",
    " 0.699970585351505    \n",
    " 0.6875000000000000    \n",
    " 0.6875000000000000    \n",
    " 0.6791838239813164    \n",
    " 0.6570121951219512           </td></tr>\n",
    "</tbody>\n",
    "</table>"
   ]
  }
 ],
 "metadata": {
  "kernelspec": {
   "display_name": "Python 3",
   "language": "python",
   "name": "python3"
  },
  "language_info": {
   "codemirror_mode": {
    "name": "ipython",
    "version": 3
   },
   "file_extension": ".py",
   "mimetype": "text/x-python",
   "name": "python",
   "nbconvert_exporter": "python",
   "pygments_lexer": "ipython3",
   "version": "3.6.9"
  }
 },
 "nbformat": 4,
 "nbformat_minor": 4
}
