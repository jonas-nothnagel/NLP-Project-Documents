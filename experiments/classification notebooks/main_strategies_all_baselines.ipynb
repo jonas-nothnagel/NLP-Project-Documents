{
 "cells": [
  {
   "cell_type": "markdown",
   "metadata": {},
   "source": [
    "## Import Libraries"
   ]
  },
  {
   "cell_type": "code",
   "execution_count": 2,
   "metadata": {},
   "outputs": [],
   "source": [
    "'''basics'''\n",
    "import os\n",
    "import sys\n",
    "sys.path.insert(0, os.path.abspath(os.path.join('..', 'src')))\n",
    "sys.setrecursionlimit(20500)\n",
    "import pandas as pd\n",
    "import pickle5 as pickle\n",
    "import numpy as np\n",
    "\n",
    "'''Plotting'''\n",
    "import matplotlib.pyplot as plt\n",
    "import seaborn as sns\n",
    "sns.set_style('darkgrid')\n",
    "\n",
    "'''features'''\n",
    "from sklearn.preprocessing import LabelEncoder\n",
    "from sklearn.model_selection import train_test_split\n",
    "from sklearn.feature_extraction.text import TfidfVectorizer\n",
    "from sklearn.decomposition import TruncatedSVD\n",
    "from sklearn.preprocessing import label_binarize\n",
    "\n",
    "'''Classifiers'''\n",
    "from sklearn.dummy import DummyClassifier\n",
    "from sklearn.linear_model import SGDClassifier\n",
    "from sklearn.naive_bayes import GaussianNB\n",
    "from sklearn.tree import DecisionTreeClassifier\n",
    "from sklearn.ensemble import RandomForestClassifier, AdaBoostClassifier\n",
    "from sklearn.neighbors import KNeighborsClassifier\n",
    "from sklearn.multiclass import OneVsRestClassifier\n",
    "from sklearn.linear_model import LogisticRegression\n",
    "from sklearn import svm\n",
    "from sklearn.naive_bayes import MultinomialNB\n",
    "\n",
    "\n",
    "'''Metrics/Evaluation'''\n",
    "from sklearn.model_selection import GridSearchCV\n",
    "from sklearn.metrics import accuracy_score, precision_score, recall_score, f1_score, roc_curve, auc, confusion_matrix\n",
    "from scipy import interp\n",
    "from itertools import cycle\n",
    "from sklearn.model_selection import cross_val_score\n",
    "from sklearn.metrics import classification_report\n",
    "from sklearn.pipeline import make_pipeline\n",
    "from sklearn_hierarchical_classification.classifier import HierarchicalClassifier\n",
    "from sklearn_hierarchical_classification.constants import ROOT\n",
    "from sklearn_hierarchical_classification.metrics import h_fbeta_score, multi_labeled\n",
    "from sklearn.pipeline import Pipeline\n",
    "\n",
    "\n",
    "import warnings\n",
    "warnings.filterwarnings('ignore')\n"
   ]
  },
  {
   "cell_type": "markdown",
   "metadata": {},
   "source": [
    "## Import data and holdout data for prediction"
   ]
  },
  {
   "cell_type": "code",
   "execution_count": 10,
   "metadata": {},
   "outputs": [
    {
     "data": {
      "text/plain": [
       "Index(['PIMS_ID', 'all_text_clean', 'all_text_clean_spacy',\n",
       "       'capacity_building', 'enabling', 'finance_economy',\n",
       "       'food_and_agricultural_commodities', 'governance', 'law_regulation',\n",
       "       'management_operation', 'mitigation_adaptation', 'monitor_inventory',\n",
       "       'technology_innovation', 'category_1', 'category_2', 'category_3',\n",
       "       'labels'],\n",
       "      dtype='object')"
      ]
     },
     "execution_count": 10,
     "metadata": {},
     "output_type": "execute_result"
    }
   ],
   "source": [
    "df = pd.read_json('../data/processed/encoded_labels/main_strategies_all.json')\n",
    "df.columns"
   ]
  },
  {
   "cell_type": "code",
   "execution_count": 11,
   "metadata": {},
   "outputs": [
    {
     "data": {
      "text/html": [
       "<div>\n",
       "<style scoped>\n",
       "    .dataframe tbody tr th:only-of-type {\n",
       "        vertical-align: middle;\n",
       "    }\n",
       "\n",
       "    .dataframe tbody tr th {\n",
       "        vertical-align: top;\n",
       "    }\n",
       "\n",
       "    .dataframe thead th {\n",
       "        text-align: right;\n",
       "    }\n",
       "</style>\n",
       "<table border=\"1\" class=\"dataframe\">\n",
       "  <thead>\n",
       "    <tr style=\"text-align: right;\">\n",
       "      <th></th>\n",
       "      <th>category</th>\n",
       "      <th>number_of_inputs</th>\n",
       "    </tr>\n",
       "  </thead>\n",
       "  <tbody>\n",
       "    <tr>\n",
       "      <th>0</th>\n",
       "      <td>capacity_building</td>\n",
       "      <td>377</td>\n",
       "    </tr>\n",
       "    <tr>\n",
       "      <th>1</th>\n",
       "      <td>enabling</td>\n",
       "      <td>84</td>\n",
       "    </tr>\n",
       "    <tr>\n",
       "      <th>2</th>\n",
       "      <td>finance_economy</td>\n",
       "      <td>162</td>\n",
       "    </tr>\n",
       "    <tr>\n",
       "      <th>3</th>\n",
       "      <td>food_and_agricultural_commodities</td>\n",
       "      <td>73</td>\n",
       "    </tr>\n",
       "    <tr>\n",
       "      <th>4</th>\n",
       "      <td>governance</td>\n",
       "      <td>240</td>\n",
       "    </tr>\n",
       "    <tr>\n",
       "      <th>5</th>\n",
       "      <td>law_regulation</td>\n",
       "      <td>240</td>\n",
       "    </tr>\n",
       "    <tr>\n",
       "      <th>6</th>\n",
       "      <td>management_operation</td>\n",
       "      <td>260</td>\n",
       "    </tr>\n",
       "    <tr>\n",
       "      <th>7</th>\n",
       "      <td>mitigation_adaptation</td>\n",
       "      <td>45</td>\n",
       "    </tr>\n",
       "    <tr>\n",
       "      <th>8</th>\n",
       "      <td>monitor_inventory</td>\n",
       "      <td>161</td>\n",
       "    </tr>\n",
       "    <tr>\n",
       "      <th>9</th>\n",
       "      <td>technology_innovation</td>\n",
       "      <td>75</td>\n",
       "    </tr>\n",
       "  </tbody>\n",
       "</table>\n",
       "</div>"
      ],
      "text/plain": [
       "                            category  number_of_inputs\n",
       "0                  capacity_building               377\n",
       "1                           enabling                84\n",
       "2                    finance_economy               162\n",
       "3  food_and_agricultural_commodities                73\n",
       "4                         governance               240\n",
       "5                     law_regulation               240\n",
       "6               management_operation               260\n",
       "7              mitigation_adaptation                45\n",
       "8                  monitor_inventory               161\n",
       "9              technology_innovation                75"
      ]
     },
     "execution_count": 11,
     "metadata": {},
     "output_type": "execute_result"
    }
   ],
   "source": [
    "df_labels = df.drop(['PIMS_ID', 'all_text_clean', 'all_text_clean_spacy', 'category_1', 'category_2', 'category_3',\n",
    "       'labels'], axis=1)\n",
    "counts = []\n",
    "categories = list(df_labels.columns.values)\n",
    "for i in categories:\n",
    "    counts.append((i, df_labels[i].sum()))\n",
    "df_stats = pd.DataFrame(counts, columns=['category', 'number_of_inputs'])\n",
    "df_stats"
   ]
  },
  {
   "cell_type": "code",
   "execution_count": 12,
   "metadata": {
    "scrolled": true
   },
   "outputs": [
    {
     "data": {
      "text/plain": [
       "Text(0.5, 0, 'category')"
      ]
     },
     "execution_count": 12,
     "metadata": {},
     "output_type": "execute_result"
    },
    {
     "data": {
      "image/png": "[encoded data removed]",
      "text/plain": [
       "<Figure size 576x360 with 1 Axes>"
      ]
     },
     "metadata": {},
     "output_type": "display_data"
    }
   ],
   "source": [
    "df_stats.plot(x='category', y='number_of_inputs', kind='bar', legend=False, grid=True, figsize=(8, 5))\n",
    "plt.title(\"Number of comments per category\")\n",
    "plt.ylabel('# of Occurrences', fontsize=12)\n",
    "plt.xlabel('category', fontsize=12)"
   ]
  },
  {
   "cell_type": "markdown",
   "metadata": {},
   "source": [
    "## How many comments have multi labels"
   ]
  },
  {
   "cell_type": "code",
   "execution_count": 13,
   "metadata": {
    "scrolled": true
   },
   "outputs": [
    {
     "data": {
      "text/plain": [
       "Text(0.5, 0, '# of categories')"
      ]
     },
     "execution_count": 13,
     "metadata": {},
     "output_type": "execute_result"
    },
    {
     "data": {
      "image/png": "[encoded data removed]",
      "text/plain": [
       "<Figure size 576x360 with 1 Axes>"
      ]
     },
     "metadata": {},
     "output_type": "display_data"
    }
   ],
   "source": [
    "rowsums = df.iloc[:,4:].sum(axis=1)\n",
    "x=rowsums.value_counts()\n",
    "#plot\n",
    "plt.figure(figsize=(8,5))\n",
    "ax = sns.barplot(x.index, x.values)\n",
    "plt.title(\"Multiple categories per comment\")\n",
    "plt.ylabel('# of Occurrences', fontsize=12)\n",
    "plt.xlabel('# of categories', fontsize=12)"
   ]
  },
  {
   "cell_type": "markdown",
   "metadata": {},
   "source": [
    "## The distribution of the number of words in input texts"
   ]
  },
  {
   "cell_type": "code",
   "execution_count": 15,
   "metadata": {
    "scrolled": true
   },
   "outputs": [
    {
     "data": {
      "text/plain": [
       "<matplotlib.axes._subplots.AxesSubplot at 0x7f05d929c7f0>"
      ]
     },
     "execution_count": 15,
     "metadata": {},
     "output_type": "execute_result"
    },
    {
     "data": {
      "image/png": "[encoded data removed]",
      "text/plain": [
       "<Figure size 432x288 with 1 Axes>"
      ]
     },
     "metadata": {},
     "output_type": "display_data"
    }
   ],
   "source": [
    "lens = df.all_text_clean.str.len()\n",
    "lens.hist(bins = np.arange(0,5000,50))"
   ]
  },
  {
   "cell_type": "markdown",
   "metadata": {},
   "source": [
    "## Holding out 5 rows from the original dataframe for prediction at the end"
   ]
  },
  {
   "cell_type": "code",
   "execution_count": 17,
   "metadata": {
    "scrolled": true
   },
   "outputs": [],
   "source": [
    "df_holdout = df.iloc[:5]\n",
    "\n",
    "df = df.iloc[5:]"
   ]
  },
  {
   "cell_type": "code",
   "execution_count": 18,
   "metadata": {},
   "outputs": [
    {
     "data": {
      "text/plain": [
       "Index(['PIMS_ID', 'all_text_clean', 'all_text_clean_spacy',\n",
       "       'capacity_building', 'enabling', 'finance_economy',\n",
       "       'food_and_agricultural_commodities', 'governance', 'law_regulation',\n",
       "       'management_operation', 'mitigation_adaptation', 'monitor_inventory',\n",
       "       'technology_innovation', 'category_1', 'category_2', 'category_3',\n",
       "       'labels'],\n",
       "      dtype='object')"
      ]
     },
     "execution_count": 18,
     "metadata": {},
     "output_type": "execute_result"
    }
   ],
   "source": [
    "df.columns"
   ]
  },
  {
   "cell_type": "markdown",
   "metadata": {},
   "source": [
    "##  Features engineering"
   ]
  },
  {
   "cell_type": "code",
   "execution_count": 19,
   "metadata": {},
   "outputs": [],
   "source": [
    "categories = ['capacity_building', 'enabling', 'finance_economy',\n",
    "       'food_and_agricultural_commodities', 'governance', 'law_regulation',\n",
    "       'management_operation', 'mitigation_adaptation', 'monitor_inventory',\n",
    "       'technology_innovation']\n",
    "\n",
    "\n",
    "#Creating the features (tf-idf weights) for the processed text\n",
    "texts = df['all_text_clean'].astype('str')\n",
    "\n",
    "tfidf_vectorizer = TfidfVectorizer(ngram_range=(1, 2), \n",
    "                                   min_df = 2, \n",
    "                                   max_df = .95)\n",
    "\n",
    "X = tfidf_vectorizer.fit_transform(texts)\n",
    "\n",
    "#Turning the labels into numbers\n",
    "y = pd.DataFrame(df, columns = categories)\n",
    "#Dimenionality reduction. Only using the 100 best features er category\n",
    "\n",
    "lsa = TruncatedSVD(n_components=100, \n",
    "                   n_iter=10, \n",
    "                   random_state=3)\n",
    "\n",
    "X = lsa.fit_transform(X)\n"
   ]
  },
  {
   "cell_type": "markdown",
   "metadata": {},
   "source": [
    "## Train multiple ML models / OneVsRest multi-label strategy"
   ]
  },
  {
   "cell_type": "code",
   "execution_count": 20,
   "metadata": {
    "scrolled": true
   },
   "outputs": [],
   "source": [
    "LogReg_pipeline = Pipeline([\n",
    "                ('tfidf', TfidfVectorizer()),\n",
    "                ('clf', OneVsRestClassifier(LogisticRegression(solver='sag'), n_jobs=1)),\n",
    "            ])\n",
    "#Creating a dict of the models\n",
    "model_dict = {\n",
    "              'Stochastic Gradient Descent' : OneVsRestClassifier(SGDClassifier(random_state=3, loss='log'), n_jobs=1),\n",
    "              'Random Forest': OneVsRestClassifier(RandomForestClassifier(random_state=3), n_jobs=1),\n",
    "              'Decsision Tree': OneVsRestClassifier(DecisionTreeClassifier(random_state=3), n_jobs=1),\n",
    "              'AdaBoost': OneVsRestClassifier(AdaBoostClassifier(random_state=3), n_jobs=1),\n",
    "              'Gaussian Naive Bayes': OneVsRestClassifier(GaussianNB(), n_jobs=1),\n",
    "              'K Nearest Neighbor': OneVsRestClassifier(KNeighborsClassifier(), n_jobs=1)}\n",
    "\n",
    "\n",
    "#Train test split with stratified sampling for evaluation\n",
    "X_train, X_test, y_train, y_test = train_test_split(X, \n",
    "                                                    y, \n",
    "                                                    test_size = .3, \n",
    "                                                    shuffle = True,  \n",
    "                                                    random_state = 3)\n",
    "y_train = y_train.dropna(axis=1)\n",
    "#Function to get the scores for each model in a df\n",
    "def model_score_df(model_dict, X_train, X_test, y_train, y_test):   \n",
    "    model_name, ac_score_list, p_score_list, r_score_list, f1_score_list = [], [], [], [], []\n",
    "    for k,v in model_dict.items():   \n",
    "        model_name.append(k)\n",
    "        v.fit(X_train, y_train)\n",
    "        y_pred = v.predict(X_test)\n",
    "        ac_score_list.append(accuracy_score(y_test, y_pred))\n",
    "        p_score_list.append(precision_score(y_test, y_pred, average='macro'))\n",
    "        r_score_list.append(recall_score(y_test, y_pred, average='macro'))\n",
    "        f1_score_list.append(f1_score(y_test, y_pred, average='macro'))\n",
    "        model_comparison_df = pd.DataFrame([model_name, ac_score_list, p_score_list, r_score_list, f1_score_list]).T\n",
    "        model_comparison_df.columns = ['model_name', 'accuracy_score', 'precision_score', 'recall_score', 'f1_score']\n",
    "        model_comparison_df = model_comparison_df.sort_values(by='f1_score', ascending=False)\n",
    "    return model_comparison_df\n",
    "\n",
    "\n",
    "def printTable(myDict, colList=None, sep='\\uFFFA'):\n",
    "    \"\"\" Pretty print a list of dictionaries (myDict) as a dynamically sized table.\n",
    "   If column names (colList) aren't specified, they will show in random order.\n",
    "   sep: row separator. Ex: sep='\\n' on Linux. Default: dummy to not split line.\n",
    "   Author: Thierry Husson - Use it as you want but don't blame me.\n",
    "   \"\"\"\n",
    "    if not colList: colList = list(myDict[0].keys() if myDict else [])\n",
    "    myList = [colList] # 1st row = header\n",
    "    for item in myDict: myList.append([str(item[col] or '') for col in colList])\n",
    "    colSize = [max(map(len,(sep.join(col)).split(sep))) for col in zip(*myList)]\n",
    "    formatStr = ' | '.join([\"{{:<{}}}\".format(i) for i in colSize])\n",
    "    line = formatStr.replace(' | ','-+-').format(*['-' * i for i in colSize])\n",
    "    item=myList.pop(0); lineDone=False\n",
    "    while myList:\n",
    "        if all(not i for i in item):\n",
    "            item=myList.pop(0)\n",
    "            if line and (sep!='\\uFFFA' or not lineDone): print(line); lineDone=True\n",
    "        row = [i.split(sep,1) for i in item]\n",
    "        print(formatStr.format(*[i[0] for i in row]))\n",
    "        item = [i[1] if len(i)>1 else '' for i in row]\n",
    "        \n",
    "\n",
    "from tabulate import tabulate        \n",
    "lis = []\n",
    "for category in categories:\n",
    "    dic = {}\n",
    "    dff = model_score_df(model_dict, X_train, X_test, y_train[category], y_test[category])\n",
    "    # Using DataFrame.insert() to add a column\n",
    "    dic['Category'] = category\n",
    "    dic['#Inputs'] = df_stats.number_of_inputs[df_stats['category'] == category]\n",
    "    dic['Classifiers'] = '    \\n '.join(dff.model_name.apply(str).tolist())\n",
    "    dic['accuracy_score'] = '    \\n '.join(dff.accuracy_score.apply(str).tolist()) \n",
    "    dic['precision_score'] = '   \\n '.join(dff.precision_score.apply(str).tolist())\n",
    "    dic['recall_score'] = '    \\n '.join(dff.recall_score.apply(str).tolist())\n",
    "    dic['f1_score'] = '    \\n '.join(dff.f1_score.apply(str).tolist())\n",
    "    lis.append(dic)\n",
    "    \n",
    "#headers = ['Category', 'Classifiers', 'accuracy_score', 'precision_score', 'recall_score', 'f1_score']\n",
    "#print(tabulate(lis, tablefmt='html'))\n",
    "header = lis[0].keys()\n",
    "rows =  [x.values() for x in lis]\n",
    "#print (tabulate(rows, header, tablefmt='html'))\n"
   ]
  },
  {
   "cell_type": "markdown",
   "metadata": {},
   "source": [
    "<table>\n",
    "<thead>\n",
    "<tr><th>Category                         </th><th style=\"text-align: right;\">  #Inputs</th><th>Classifiers  </th><th>accuracy_score  </th><th>precision_score  </th><th>recall_score  </th><th>f1_score  </th></tr>\n",
    "</thead>\n",
    "<tbody>\n",
    "<tr><td>capacity_building                </td><td style=\"text-align: right;\">      377</td><td>Random Forest    \n",
    " Gaussian Naive Bayes    \n",
    " Stochastic Gradient Descent    \n",
    " Decsision Tree    \n",
    " K Nearest Neighbor    \n",
    " AdaBoost              </td><td>0.711864406779661    \n",
    " 0.672316384180791    \n",
    " 0.672316384180791    \n",
    " 0.6666666666666666    \n",
    " 0.672316384180791    \n",
    " 0.6384180790960452                 </td><td>0.6836043360433605   \n",
    " 0.6731358529111338   \n",
    " 0.6459294436906378   \n",
    " 0.6408526713437669   \n",
    " 0.6374813710879285   \n",
    " 0.6036602600339175                  </td><td>0.6697994987468672    \n",
    " 0.6888053467000835    \n",
    " 0.649749373433584    \n",
    " 0.6453634085213033    \n",
    " 0.6284461152882206    \n",
    " 0.6021303258145363               </td><td>0.6744563453424214    \n",
    " 0.6656461698801459    \n",
    " 0.6474587912087911    \n",
    " 0.6425221647896484    \n",
    " 0.6313559322033899    \n",
    " 0.6028050490883591           </td></tr>\n",
    "<tr><td>enabling                         </td><td style=\"text-align: right;\">       84</td><td>Stochastic Gradient Descent    \n",
    " K Nearest Neighbor    \n",
    " Random Forest    \n",
    " AdaBoost    \n",
    " Decsision Tree    \n",
    " Gaussian Naive Bayes              </td><td>0.903954802259887    \n",
    " 0.9096045197740112    \n",
    " 0.903954802259887    \n",
    " 0.8870056497175142    \n",
    " 0.864406779661017    \n",
    " 0.7966101694915254                 </td><td>0.8325757575757575   \n",
    " 0.8998015873015872   \n",
    " 0.8550898203592814   \n",
    " 0.7619606003752346   \n",
    " 0.6925383077948034   \n",
    " 0.6376434720229556                  </td><td>0.6859119141727837    \n",
    " 0.6706662902315077    \n",
    " 0.6674195369847544    \n",
    " 0.6576792772444946    \n",
    " 0.663184641445511    \n",
    " 0.7166854884246189               </td><td>0.7304970891177788    \n",
    " 0.7251552795031055    \n",
    " 0.7159444916454262    \n",
    " 0.6907756813417191    \n",
    " 0.6758241758241758    \n",
    " 0.6566810344827586           </td></tr>\n",
    "<tr><td>finance_economy                  </td><td style=\"text-align: right;\">      162</td><td>K Nearest Neighbor    \n",
    " Stochastic Gradient Descent    \n",
    " AdaBoost    \n",
    " Gaussian Naive Bayes    \n",
    " Decsision Tree    \n",
    " Random Forest              </td><td>0.8248587570621468    \n",
    " 0.7966101694915254    \n",
    " 0.7966101694915254    \n",
    " 0.7062146892655368    \n",
    " 0.7062146892655368    \n",
    " 0.751412429378531                 </td><td>0.8047283702213279   \n",
    " 0.7491338582677165   \n",
    " 0.7518518518518518   \n",
    " 0.668090787716956   \n",
    " 0.6322602057749751   \n",
    " 0.7138364779874213                  </td><td>0.7385039370078741    \n",
    " 0.7491338582677165    \n",
    " 0.7248818897637795    \n",
    " 0.6982677165354331    \n",
    " 0.6255118110236221    \n",
    " 0.5963779527559054               </td><td>0.7600262409796632    \n",
    " 0.7491338582677165    \n",
    " 0.7356455360106207    \n",
    " 0.6722222222222222    \n",
    " 0.6283914728682171    \n",
    " 0.5995475113122172           </td></tr>\n",
    "<tr><td>food_and_agricultural_commodities</td><td style=\"text-align: right;\">       73</td><td>AdaBoost    \n",
    " Decsision Tree    \n",
    " K Nearest Neighbor    \n",
    " Gaussian Naive Bayes    \n",
    " Stochastic Gradient Descent    \n",
    " Random Forest              </td><td>0.8813559322033898    \n",
    " 0.847457627118644    \n",
    " 0.8757062146892656    \n",
    " 0.7231638418079096    \n",
    " 0.8813559322033898    \n",
    " 0.8813559322033898                 </td><td>0.7592455621301775   \n",
    " 0.6233567046450482   \n",
    " 0.741860465116279   \n",
    " 0.5496411483253588   \n",
    " 0.9400000000000000   \n",
    " 0.9400000000000000                  </td><td>0.5989553924336534    \n",
    " 0.5794748729531338    \n",
    " 0.5587238848108413    \n",
    " 0.5820158102766798    \n",
    " 0.5434782608695652    \n",
    " 0.5434782608695652               </td><td>0.6287825826425647    \n",
    " 0.5925483843464916    \n",
    " 0.5734005258545135    \n",
    " 0.5489625045504187    \n",
    " 0.5480851063829787    \n",
    " 0.5480851063829787           </td></tr>\n",
    "<tr><td>governance                       </td><td style=\"text-align: right;\">      240</td><td>Random Forest    \n",
    " Stochastic Gradient Descent    \n",
    " K Nearest Neighbor    \n",
    " Gaussian Naive Bayes    \n",
    " AdaBoost    \n",
    " Decsision Tree              </td><td>0.7627118644067796    \n",
    " 0.7401129943502824    \n",
    " 0.7457627118644068    \n",
    " 0.7175141242937854    \n",
    " 0.711864406779661    \n",
    " 0.6779661016949152                 </td><td>0.7651315789473684   \n",
    " 0.7334022216481529   \n",
    " 0.7446392350043466   \n",
    " 0.7116126543209876   \n",
    " 0.7031941371681416   \n",
    " 0.6669559412550067                  </td><td>0.7388698630136986    \n",
    " 0.738013698630137    \n",
    " 0.7224051633298209    \n",
    " 0.7167413066385668    \n",
    " 0.693559009483667    \n",
    " 0.6647128556375133               </td><td>0.7447115384615385    \n",
    " 0.734822824387702    \n",
    " 0.7273474138226133    \n",
    " 0.7126623376623376    \n",
    " 0.6963570924013589    \n",
    " 0.6656282106519074           </td></tr>\n",
    "<tr><td>law_regulation                   </td><td style=\"text-align: right;\">      240</td><td>Stochastic Gradient Descent    \n",
    " Random Forest    \n",
    " AdaBoost    \n",
    " K Nearest Neighbor    \n",
    " Decsision Tree    \n",
    " Gaussian Naive Bayes              </td><td>0.7231638418079096    \n",
    " 0.6949152542372882    \n",
    " 0.6779661016949152    \n",
    " 0.6779661016949152    \n",
    " 0.6610169491525424    \n",
    " 0.672316384180791                 </td><td>0.7034252297410192   \n",
    " 0.6717948717948719   \n",
    " 0.6623529411764706   \n",
    " 0.6590486314111081   \n",
    " 0.6501932989690722   \n",
    " 0.6485066371681416                  </td><td>0.6994266994266994    \n",
    " 0.6646191646191646    \n",
    " 0.6695331695331695    \n",
    " 0.6633906633906634    \n",
    " 0.6590909090909091    \n",
    " 0.6466011466011465               </td><td>0.701188630490956    \n",
    " 0.6672932330827067    \n",
    " 0.6640695235241236    \n",
    " 0.6606343973897542    \n",
    " 0.6502897787144363    \n",
    " 0.6474587912087912           </td></tr>\n",
    "<tr><td>management_operation             </td><td style=\"text-align: right;\">      260</td><td>K Nearest Neighbor    \n",
    " Random Forest    \n",
    " Stochastic Gradient Descent    \n",
    " Decsision Tree    \n",
    " AdaBoost    \n",
    " Gaussian Naive Bayes              </td><td>0.8531073446327684    \n",
    " 0.847457627118644    \n",
    " 0.8305084745762712    \n",
    " 0.8248587570621468    \n",
    " 0.8192090395480226    \n",
    " 0.7966101694915254                 </td><td>0.8513351134846462   \n",
    " 0.8462157809983897   \n",
    " 0.8254299114121939   \n",
    " 0.8203371970495258   \n",
    " 0.8139004689942678   \n",
    " 0.7980842911877395                  </td><td>0.8452505903962215    \n",
    " 0.8384938336394647    \n",
    " 0.827735502492784    \n",
    " 0.8190763579113094    \n",
    " 0.8161243768039884    \n",
    " 0.8062188401994228               </td><td>0.8478174603174602    \n",
    " 0.8416133629403773    \n",
    " 0.8264705882352941    \n",
    " 0.8196785960761115    \n",
    " 0.8149019607843138    \n",
    " 0.7955070603337613           </td></tr>\n",
    "<tr><td>mitigation_adaptation            </td><td style=\"text-align: right;\">       45</td><td>Gaussian Naive Bayes    \n",
    " Decsision Tree    \n",
    " AdaBoost    \n",
    " Stochastic Gradient Descent    \n",
    " Random Forest    \n",
    " K Nearest Neighbor              </td><td>0.807909604519774    \n",
    " 0.8757062146892656    \n",
    " 0.903954802259887    \n",
    " 0.9265536723163842    \n",
    " 0.9265536723163842    \n",
    " 0.9152542372881356                 </td><td>0.600891861761427   \n",
    " 0.5691358024691358   \n",
    " 0.5924556213017751   \n",
    " 0.7157142857142857   \n",
    " 0.4632768361581921   \n",
    " 0.46285714285714286                  </td><td>0.7546904315196998    \n",
    " 0.5787992495309568    \n",
    " 0.5586303939962476    \n",
    " 0.5354127579737336    \n",
    " 0.5    \n",
    " 0.49390243902439024               </td><td>0.6167855323484461    \n",
    " 0.5734005258545135    \n",
    " 0.5697125697125698    \n",
    " 0.5474926253687316    \n",
    " 0.4809384164222874    \n",
    " 0.4778761061946903           </td></tr>\n",
    "<tr><td>monitor_inventory                </td><td style=\"text-align: right;\">      161</td><td>AdaBoost    \n",
    " Random Forest    \n",
    " Stochastic Gradient Descent    \n",
    " K Nearest Neighbor    \n",
    " Gaussian Naive Bayes    \n",
    " Decsision Tree              </td><td>0.8700564971751412    \n",
    " 0.8587570621468926    \n",
    " 0.847457627118644    \n",
    " 0.8248587570621468    \n",
    " 0.7288135593220338    \n",
    " 0.7570621468926554                 </td><td>0.8541058394160583   \n",
    " 0.8565405183052242   \n",
    " 0.8218065693430657   \n",
    " 0.7928814842862553   \n",
    " 0.6957323498419389   \n",
    " 0.6973228346456692                  </td><td>0.8093909438775511    \n",
    " 0.7763871173469388    \n",
    " 0.7811702806122449    \n",
    " 0.7466517857142857    \n",
    " 0.7369260204081632    \n",
    " 0.6997767857142857               </td><td>0.8273902904388382    \n",
    " 0.8032721291068332    \n",
    " 0.797371210515158    \n",
    " 0.7637866460028413    \n",
    " 0.6998304126625212    \n",
    " 0.6985145573380868           </td></tr>\n",
    "<tr><td>technology_innovation            </td><td style=\"text-align: right;\">       75</td><td>Gaussian Naive Bayes    \n",
    " Decsision Tree    \n",
    " K Nearest Neighbor    \n",
    " AdaBoost    \n",
    " Random Forest    \n",
    " Stochastic Gradient Descent              </td><td>0.7570621468926554    \n",
    " 0.8135593220338984    \n",
    " 0.8700564971751412    \n",
    " 0.847457627118644    \n",
    " 0.864406779661017    \n",
    " 0.847457627118644                 </td><td>0.6448494687131051   \n",
    " 0.620096790626592   \n",
    " 0.7719298245614035   \n",
    " 0.6477272727272727   \n",
    " 0.7672413793103448   \n",
    " 0.555635838150289                  </td><td>0.7582894736842105    \n",
    " 0.6240789473684211    \n",
    " 0.5734210526315789    \n",
    " 0.5769736842105263    \n",
    " 0.5367105263157895    \n",
    " 0.5101315789473684               </td><td>0.6558133224799891    \n",
    " 0.6220151426907397    \n",
    " 0.5934285428942374    \n",
    " 0.5925483843464916    \n",
    " 0.5346187554776513    \n",
    " 0.49294429708222814           </td></tr>\n",
    "</tbody>\n",
    "</table>"
   ]
  }
 ],
 "metadata": {
  "kernelspec": {
   "display_name": "Python 3",
   "language": "python",
   "name": "python3"
  },
  "language_info": {
   "codemirror_mode": {
    "name": "ipython",
    "version": 3
   },
   "file_extension": ".py",
   "mimetype": "text/x-python",
   "name": "python",
   "nbconvert_exporter": "python",
   "pygments_lexer": "ipython3",
   "version": "3.6.9"
  }
 },
 "nbformat": 4,
 "nbformat_minor": 4
}
