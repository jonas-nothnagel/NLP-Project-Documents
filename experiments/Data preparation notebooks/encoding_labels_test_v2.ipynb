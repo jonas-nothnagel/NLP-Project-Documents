{
 "cells": [
  {
   "cell_type": "markdown",
   "metadata": {
    "hideCode": false
   },
   "source": [
    "# Encoding Labels"
   ]
  },
  {
   "cell_type": "code",
   "execution_count": 2,
   "metadata": {},
   "outputs": [],
   "source": [
    "import os\n",
    "import sys\n",
    "sys.path.insert(0, os.path.abspath(os.path.join('../..', 'src')))\n",
    "sys.setrecursionlimit(20500)\n",
    "import clean_dataset as cl\n",
    "import pandas as pd\n",
    "import spacy\n",
    "import make_dataset as mk\n",
    "#import pickle5 as pickle\n",
    "import pickle"
   ]
  },
  {
   "cell_type": "code",
   "execution_count": 3,
   "metadata": {},
   "outputs": [
    {
     "data": {
      "text/plain": [
       "(598, 60)"
      ]
     },
     "execution_count": 3,
     "metadata": {},
     "output_type": "execute_result"
    }
   ],
   "source": [
    "taxonomy = pd.read_excel('../../data/processed/taxonomy_clean.xlsx')\n",
    "\n",
    "taxonomy.shape"
   ]
  },
  {
   "cell_type": "code",
   "execution_count": 4,
   "metadata": {},
   "outputs": [
    {
     "data": {
      "text/plain": [
       "Index(['PIMS_ID', 'title', 'leading_country', 'participating_countries',\n",
       "       'technical_team', 'technical_area_1', 'technical_sub_area_1',\n",
       "       'technical_area_2', 'technical_sub_area_2', 'transformed_sectors',\n",
       "       'landscapes_1', 'sub_landscapes_1', 'landscapes_2', 'sub_landscapes_2',\n",
       "       'landscapes_3', 'sub_landscapes_3', 'sdg_goal_reference_from_pims+',\n",
       "       'sdg_goal', 'sdg_targets_(top_three)', 'sdg_goal_summary', 'undp_roles',\n",
       "       'main_strategy_1', 'sub_strategy_1', 'main_strategy_2',\n",
       "       'sub_strategy_2', 'main_strategy_3', 'sub_strategy_3', 'pathways',\n",
       "       'targeted_risks', '_conventions/protocols/plans',\n",
       "       '_social_inclusion_&_engagement', '_gender_equality',\n",
       "       '_types_of_private_sector', '_hot_topics', 'other_notes', 'keyword',\n",
       "       'sgp_type', 'facs_transformative_pathway_(old_tp)', 'gres',\n",
       "       'project_sector', 'prodoc_link', 'sum_of_grant', 'project_status',\n",
       "       'story_links', 'Indicator', 'objectives', 'description', 'outcomes',\n",
       "       'outputs', 'logframe', 'log_des', 'all_text', 'pims_description',\n",
       "       'full_obj_or_outcome', 'pims_objectives', 'pims_outcomes', 'pims_text',\n",
       "       'title_only', 'all_text_clean', 'all_text_clean_spacy'],\n",
       "      dtype='object')"
      ]
     },
     "execution_count": 4,
     "metadata": {},
     "output_type": "execute_result"
    }
   ],
   "source": [
    "taxonomy.columns"
   ]
  },
  {
   "cell_type": "code",
   "execution_count": 4,
   "metadata": {},
   "outputs": [
    {
     "name": "stdout",
     "output_type": "stream",
     "text": [
      "technical_team\n",
      "technical_sub-area_1\n",
      "technical_sub-sub_area_1\n",
      "technical_sub-area_2\n",
      "technical_sub-sub_area_2\n",
      "transformed_sectors\n",
      "landscapes_1\n",
      "sub-landscapes\n",
      "landscapes_2\n",
      "sub-landscapes_2\n",
      "landscapes_3\n",
      "sub-landscapes_3\n",
      "undp_roles\n",
      "main_strategy_1\n",
      "main_strategy_2\n",
      "main_strategy_3\n",
      "pathways\n",
      "risk_reduction_target\n",
      "*conventions/protocols/plans\n",
      "*social_inclusion_&_engagement\n",
      "*gender_equality\n",
      "*types_of_private_sector\n",
      "*hot_topics\n"
     ]
    }
   ],
   "source": [
    "tt = mk.labeling_encoding(taxonomy, ['technical_team', 'technical_sub-area_1', 'technical_sub-sub_area_1',\n",
    "       'technical_sub-area_2', 'technical_sub-sub_area_2',\n",
    "       'transformed_sectors','landscapes_1', 'sub-landscapes', 'landscapes_2',\n",
    "       'sub-landscapes_2', 'landscapes_3', 'sub-landscapes_3', 'undp_roles',\n",
    "       'main_strategy_1', 'main_strategy_2', 'main_strategy_3', 'pathways',\n",
    "       'risk_reduction_target', '*conventions/protocols/plans',\n",
    "       '*social_inclusion_&_engagement', '*gender_equality',\n",
    "       '*types_of_private_sector', '*hot_topics'], save = True)"
   ]
  }
 ],
 "metadata": {
  "kernelspec": {
   "display_name": "Python 3",
   "language": "python",
   "name": "python3"
  },
  "language_info": {
   "codemirror_mode": {
    "name": "ipython",
    "version": 3
   },
   "file_extension": ".py",
   "mimetype": "text/x-python",
   "name": "python",
   "nbconvert_exporter": "python",
   "pygments_lexer": "ipython3",
   "version": "3.6.9"
  }
 },
 "nbformat": 4,
 "nbformat_minor": 4
}
